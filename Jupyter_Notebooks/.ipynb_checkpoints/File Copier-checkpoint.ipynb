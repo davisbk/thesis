{
 "cells": [
  {
   "cell_type": "markdown",
   "metadata": {},
   "source": [
    "# Image mover\n",
    "This notebook will move all of the images in to the directory for the report in order to make sure that the newest version of the graphic is in the report. "
   ]
  },
  {
   "cell_type": "code",
   "execution_count": 4,
   "metadata": {},
   "outputs": [],
   "source": [
    "import os\n",
    "from shutil import copyfile\n",
    "\n",
    "# Laptop\n",
    "#INPUT_ROOT_DIR = \"C://Users//davis//Dropbox//Freiburg Masters Semesters//Thesis//Results//Round02//analysis//all_analysis//\"\n",
    "\n",
    "# Desktop\n",
    "INPUT_ROOT_DIR = \"D://Dropbox_New//Dropbox//Freiburg Masters Semesters//Thesis//Results//Round02//analysis//all_analysis//\"\n",
    "\n",
    "# Laptop\n",
    "OUTPUT_ROOT_DIR = \"C://Users//davis//Docouments//GitHub//thesis//Reports//\"\n",
    "\n",
    "# Desktop\n",
    "OUTPUT_ROOT_DIR = \"D://Documents//GitHub//thesis//Reports//thesis-template-english//pics\""
   ]
  },
  {
   "cell_type": "markdown",
   "metadata": {},
   "source": [
    "## stat_fitness_global"
   ]
  },
  {
   "cell_type": "code",
   "execution_count": null,
   "metadata": {},
   "outputs": [],
   "source": [
    "PWD = OUTPUT_ROOT_DIR + \"fitness_global/\"\n",
    "copyfile(PWD + \"genome_size_last_50k.png\", "
   ]
  }
 ],
 "metadata": {
  "kernelspec": {
   "display_name": "Python 3",
   "language": "python",
   "name": "python3"
  },
  "language_info": {
   "codemirror_mode": {
    "name": "ipython",
    "version": 3
   },
   "file_extension": ".py",
   "mimetype": "text/x-python",
   "name": "python",
   "nbconvert_exporter": "python",
   "pygments_lexer": "ipython3",
   "version": "3.7.4"
  }
 },
 "nbformat": 4,
 "nbformat_minor": 2
}
