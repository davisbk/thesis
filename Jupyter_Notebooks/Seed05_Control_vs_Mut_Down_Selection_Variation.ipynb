{
 "cells": [
  {
   "cell_type": "markdown",
   "metadata": {},
   "source": [
    "# Seed05 Control vs. Mutation Down Selection Experiments\n",
    "\n",
    "In this notebook I will graph out the results of two experiments in which "
   ]
  },
  {
   "cell_type": "code",
   "execution_count": null,
   "metadata": {},
   "outputs": [],
   "source": [
    "import pandas as pd\n",
    "import matplotlib.pyplot as plt\n",
    "\n",
    "WINDOW_SIZE = 10000 # Size of the rolling window for smoothing\n",
    "plt.ioff() # Do not show the plot every time\n",
    "\n",
    "# The root directory where our data is stored and where we want to output the results\n",
    "INPUT_ROOT_DIR = \"C://Users//davis//OneDrive//Desktop//Selection_Experiments//\" # laptop\n",
    "OUTPUT_ROOT_DIR = INPUT_ROOT_DIR + \"Graphics//Mutations//\"\n",
    "\n",
    "# The column names in ancestor_stats_fitness-b000000000-e000500000-i1012-r1024.out\n",
    "fitness_names = ['generation', 'population_size', 'fitness', 'genome_size', 'metabolic_error', 'parents_metabolic_error', 'metabolic_fitness', 'secretion_error', 'parents_secretion_error', 'secretion_fitness', 'amount_of_compound']\n",
    "\n",
    "# Read in the data in ancestor_stats_fitness-b000000000-e000500000-i1012-r1024.out\n",
    "FITNESS_FILE = \"stats//ancestor_stats//ancestor_stats_fitness-b000000000-e000500000-i1012-r1024.out\"\n",
    "\n",
    "fitness_best_names = ['generation', 'pop_size', 'fitness', 'genome_size', 'metabolic_error','parents_metabolic_error', 'metabolic_fitness', 'secretion_error', 'parents_secretion_error', 'secretion_fitness', 'amt_compound_present']\n",
    "df_seed01_control_fitness_best = pd.read_csv(INPUT_ROOT_DIR + \"seed01//control//stats//stat_fitness_best.out\", skiprows=17, delim_whitespace=True, header=0, names=fitness_best_names)\n",
    "df_seed01_mutation_up_fitness_best = pd.read_csv(INPUT_ROOT_DIR + \"seed01//mut_up//stats//stat_fitness_best.out\",skiprows=17, delim_whitespace=True, header=0, names=fitness_best_names)\n",
    "\n",
    "print(\"done.\")"
   ]
  }
 ],
 "metadata": {
  "kernelspec": {
   "display_name": "Python 3",
   "language": "python",
   "name": "python3"
  },
  "language_info": {
   "codemirror_mode": {
    "name": "ipython",
    "version": 3
   },
   "file_extension": ".py",
   "mimetype": "text/x-python",
   "name": "python",
   "nbconvert_exporter": "python",
   "pygments_lexer": "ipython3",
   "version": "3.7.3"
  }
 },
 "nbformat": 4,
 "nbformat_minor": 2
}
