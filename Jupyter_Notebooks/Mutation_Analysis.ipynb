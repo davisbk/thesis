{
 "cells": [
  {
   "cell_type": "markdown",
   "metadata": {},
   "source": [
    "# Mutation Analysis\n",
    "\n",
    "In this Jupyter Notebook we will analyze the **stat_mutation_best.out** files for different conditions to see if the *mutation up* condition is actually having an effect on the number of mutations.\n",
    "\n",
    "First we will read in the data."
   ]
  },
  {
   "cell_type": "code",
   "execution_count": 3,
   "metadata": {},
   "outputs": [
    {
     "name": "stdout",
     "output_type": "stream",
     "text": [
      "Reading in the data...\n",
      "...done\n"
     ]
    }
   ],
   "source": [
    "import pandas as pd\n",
    "import matplotlib.pyplot as plt\n",
    "\n",
    "INPUT_ROOT_DIR = \"C://ThesisData//\" # laptop\n",
    "OUTPUT_ROOT_DIR = INPUT_ROOT_DIR + \"Graphics//Mutations//\"\n",
    "\n",
    "# We're going to be importing files with the same name from multiple directories\n",
    "CONTROL_INPUT_FILE = \"//control//stats//stat_mutation_best.out\"\n",
    "MUTATION_UP_INPUT_FILE = \"//mut_up//stats//stat_mutation_best.out\"\n",
    "\n",
    "# Column header names for the columns in stat_mutation_best.out\n",
    "mutation_best_names = ['generation','number_local_mutations','number_chromosomic_rearrangements','number_switches','number_indels','number_duplications','number_deletions','number_translocations','inversions']\n",
    "\n",
    "print(\"Reading in the data...\")\n",
    "\n",
    "\n",
    "# seed01\n",
    "df_seed01_control = pd.read_csv(INPUT_ROOT_DIR + \"seed01\" + CONTROL_INPUT_FILE, skiprows=14, delim_whitespace=True, header=0, names=mutation_best_names)\n",
    "df_seed01_mut_up = pd.read_csv(INPUT_ROOT_DIR + \"seed01\" + MUTATION_UP_INPUT_FILE, skiprows=14, delim_whitespace=True, header=0, names=mutation_best_names)\n",
    "\n",
    "# seed02\n",
    "df_seed02_control = pd.read_csv(INPUT_ROOT_DIR + \"seed02\" + CONTROL_INPUT_FILE, skiprows=14, delim_whitespace=True, header=0, names=mutation_best_names)\n",
    "df_seed02_mut_up = pd.read_csv(INPUT_ROOT_DIR + \"seed02\" + MUTATION_UP_INPUT_FILE, skiprows=14, delim_whitespace=True, header=0, names=mutation_best_names)\n",
    "\n",
    "\n",
    "# seed03\n",
    "df_seed03_control = pd.read_csv(INPUT_ROOT_DIR + \"seed03\" + CONTROL_INPUT_FILE, skiprows=14, delim_whitespace=True, header=0, names=mutation_best_names)\n",
    "df_seed03_mut_up = pd.read_csv(INPUT_ROOT_DIR + \"seed03\" + MUTATION_UP_INPUT_FILE, skiprows=14, delim_whitespace=True, header=0, names=mutation_best_names)\n",
    "\n",
    "\n",
    "# seed04\n",
    "df_seed04_control = pd.read_csv(INPUT_ROOT_DIR + \"seed04\" + CONTROL_INPUT_FILE, skiprows=14, delim_whitespace=True, header=0, names=mutation_best_names)\n",
    "df_seed04_mut_up = pd.read_csv(INPUT_ROOT_DIR + \"seed04\" + MUTATION_UP_INPUT_FILE, skiprows=14, delim_whitespace=True, header=0, names=mutation_best_names)\n",
    "\n",
    "\n",
    "# seed05\n",
    "df_seed05_control = pd.read_csv(INPUT_ROOT_DIR + \"seed05\" + CONTROL_INPUT_FILE, skiprows=14, delim_whitespace=True, header=0, names=mutation_best_names)\n",
    "df_seed05_mut_up = pd.read_csv(INPUT_ROOT_DIR + \"seed05\" + MUTATION_UP_INPUT_FILE, skiprows=14, delim_whitespace=True, header=0, names=mutation_best_names)\n",
    "\n",
    "print (\"...done\")"
   ]
  },
  {
   "cell_type": "markdown",
   "metadata": {},
   "source": [
    "Now that we have imported the mutation data, we will investigate whether the *mutation up* condition shows an increased number of mutations over the *control* condition.\n",
    "\n",
    "To do this, for each seed we will compare the *control* vs. the *mutation up* condition for each of the 8 columns. We have 5 seeds and a *control* and *mutation up* condition for each seed.\n",
    "\n",
    "We can simply sum up over the columns:"
   ]
  },
  {
   "cell_type": "code",
   "execution_count": 4,
   "metadata": {},
   "outputs": [],
   "source": [
    "seed01_control_sums = df_seed01_control.sum(axis=0)\n",
    "seed01_mut_up_sums = df_seed01_mut_up.sum(axis=0)\n",
    "\n",
    "seed02_control_sums = df_seed02_control.sum(axis=0)\n",
    "seed02_mut_up_sums = df_seed02_mut_up.sum(axis=0)\n",
    "\n",
    "seed03_control_sums = df_seed03_control.sum(axis=0)\n",
    "seed03_mut_up_sums = df_seed03_mut_up.sum(axis=0)\n",
    "\n",
    "seed04_control_sums = df_seed04_control.sum(axis=0)\n",
    "seed04_mut_up_sums = df_seed04_mut_up.sum(axis=0)\n",
    "\n",
    "seed05_control_sums = df_seed05_control.sum(axis=0)\n",
    "seed05_mut_up_sums = df_seed05_mut_up.sum(axis=0)"
   ]
  },
  {
   "cell_type": "code",
   "execution_count": 27,
   "metadata": {},
   "outputs": [
    {
     "name": "stdout",
     "output_type": "stream",
     "text": [
      "seed01 control\n",
      "\n",
      "generation                           125000250000\n",
      "number_local_mutations                       5954\n",
      "number_chromosomic_rearrangements           18395\n",
      "number_switches                              2861\n",
      "number_indels                                3093\n",
      "number_duplications                            76\n",
      "number_deletions                               27\n",
      "number_translocations                         928\n",
      "inversions                                  17364\n",
      "Name: seed01_control, dtype: int64\n",
      "\n",
      "seed01 mutation up\n",
      "\n",
      "generation                           125000250000\n",
      "number_local_mutations                      16112\n",
      "number_chromosomic_rearrangements           12096\n",
      "number_switches                              7526\n",
      "number_indels                                8586\n",
      "number_duplications                           105\n",
      "number_deletions                               26\n",
      "number_translocations                         850\n",
      "inversions                                  11115\n",
      "Name: seed01_mut_up, dtype: int64\n",
      "derpeerpflksfdj\n",
      " (generation                           125000250000\n",
      "number_local_mutations                       5954\n",
      "number_chromosomic_rearrangements           18395\n",
      "number_switches                              2861\n",
      "number_indels                                3093\n",
      "number_duplications                            76\n",
      "number_deletions                               27\n",
      "number_translocations                         928\n",
      "inversions                                  17364\n",
      "Name: seed01_control, dtype: int64, generation                           125000250000\n",
      "number_local_mutations                      16112\n",
      "number_chromosomic_rearrangements           12096\n",
      "number_switches                              7526\n",
      "number_indels                                8586\n",
      "number_duplications                           105\n",
      "number_deletions                               26\n",
      "number_translocations                         850\n",
      "inversions                                  11115\n",
      "Name: seed01_mut_up, dtype: int64)\n"
     ]
    }
   ],
   "source": [
    "print(\"seed01 control\\n\")\n",
    "print(seed01_control_sums)\n",
    "seed01_control_sums.name = 'seed01_control'\n",
    "\n",
    "print(\"\\nseed01 mutation up\\n\")\n",
    "print(seed01_mut_up_sums)\n",
    "seed01_mut_up_sums.name = 'seed01_mut_up'\n",
    "\n",
    "derpaderp = seed01_control_sums.align(seed01_mut_up_sums, join='outer', axis=0, copy=True )\n",
    "\n",
    "print(\"derpeerpflksfdj\\n\", derpaderp)\n"
   ]
  },
  {
   "cell_type": "code",
   "execution_count": null,
   "metadata": {},
   "outputs": [],
   "source": []
  }
 ],
 "metadata": {
  "kernelspec": {
   "display_name": "Python 3",
   "language": "python",
   "name": "python3"
  },
  "language_info": {
   "codemirror_mode": {
    "name": "ipython",
    "version": 3
   },
   "file_extension": ".py",
   "mimetype": "text/x-python",
   "name": "python",
   "nbconvert_exporter": "python",
   "pygments_lexer": "ipython3",
   "version": "3.7.3"
  }
 },
 "nbformat": 4,
 "nbformat_minor": 2
}
