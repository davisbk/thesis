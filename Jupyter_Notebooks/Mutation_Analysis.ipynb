{
 "cells": [
  {
   "cell_type": "markdown",
   "metadata": {},
   "source": [
    "# Mutation Analysis\n",
    "\n",
    "In this Jupyter Notebook we will analyze the **stat_mutation_best.out** files for different conditions to see if the *mutation up* condition is actually having an effect on the number of mutations.\n",
    "\n",
    "First we will read in the data."
   ]
  },
  {
   "cell_type": "code",
   "execution_count": 1,
   "metadata": {},
   "outputs": [
    {
     "name": "stdout",
     "output_type": "stream",
     "text": [
      "Reading in the data...\n",
      "...done\n"
     ]
    }
   ],
   "source": [
    "import pandas as pd\n",
    "import matplotlib.pyplot as plt\n",
    "\n",
    "#INPUT_ROOT_DIR = \"C://ThesisData//\" # laptop\n",
    "INPUT_ROOT_DIR = \"C://Users//Brian Davis//Dropbox//Freiburg Masters Semesters//Thesis//Results//\" # Desktop\n",
    "OUTPUT_ROOT_DIR = INPUT_ROOT_DIR + \"Graphics//Mutations//\"\n",
    "\n",
    "# We're going to be importing files with the same name from multiple directories\n",
    "CONTROL_INPUT_FILE = \"//control//stats//stat_mutation_best.out\"\n",
    "MUTATION_UP_INPUT_FILE = \"//mut_up//stats//stat_mutation_best.out\"\n",
    "\n",
    "# Column header names for the columns in stat_mutation_best.out\n",
    "mutation_best_names = ['generation','number_local_mutations','number_chromosomic_rearrangements','number_switches','number_indels','number_duplications','number_deletions','number_translocations','inversions']\n",
    "\n",
    "print(\"Reading in the data...\")\n",
    "\n",
    "\n",
    "# seed01\n",
    "df_seed01_control = pd.read_csv(INPUT_ROOT_DIR + \"seed01\" + CONTROL_INPUT_FILE, skiprows=14, delim_whitespace=True, header=0, names=mutation_best_names)\n",
    "df_seed01_mut_up = pd.read_csv(INPUT_ROOT_DIR + \"seed01\" + MUTATION_UP_INPUT_FILE, skiprows=14, delim_whitespace=True, header=0, names=mutation_best_names)\n",
    "\n",
    "# seed02\n",
    "df_seed02_control = pd.read_csv(INPUT_ROOT_DIR + \"seed02\" + CONTROL_INPUT_FILE, skiprows=14, delim_whitespace=True, header=0, names=mutation_best_names)\n",
    "df_seed02_mut_up = pd.read_csv(INPUT_ROOT_DIR + \"seed02\" + MUTATION_UP_INPUT_FILE, skiprows=14, delim_whitespace=True, header=0, names=mutation_best_names)\n",
    "\n",
    "\n",
    "# seed03\n",
    "df_seed03_control = pd.read_csv(INPUT_ROOT_DIR + \"seed03\" + CONTROL_INPUT_FILE, skiprows=14, delim_whitespace=True, header=0, names=mutation_best_names)\n",
    "df_seed03_mut_up = pd.read_csv(INPUT_ROOT_DIR + \"seed03\" + MUTATION_UP_INPUT_FILE, skiprows=14, delim_whitespace=True, header=0, names=mutation_best_names)\n",
    "\n",
    "\n",
    "# seed04\n",
    "df_seed04_control = pd.read_csv(INPUT_ROOT_DIR + \"seed04\" + CONTROL_INPUT_FILE, skiprows=14, delim_whitespace=True, header=0, names=mutation_best_names)\n",
    "df_seed04_mut_up = pd.read_csv(INPUT_ROOT_DIR + \"seed04\" + MUTATION_UP_INPUT_FILE, skiprows=14, delim_whitespace=True, header=0, names=mutation_best_names)\n",
    "\n",
    "\n",
    "# seed05\n",
    "df_seed05_control = pd.read_csv(INPUT_ROOT_DIR + \"seed05\" + CONTROL_INPUT_FILE, skiprows=14, delim_whitespace=True, header=0, names=mutation_best_names)\n",
    "df_seed05_mut_up = pd.read_csv(INPUT_ROOT_DIR + \"seed05\" + MUTATION_UP_INPUT_FILE, skiprows=14, delim_whitespace=True, header=0, names=mutation_best_names)\n",
    "\n",
    "print (\"...done\")"
   ]
  },
  {
   "cell_type": "markdown",
   "metadata": {},
   "source": [
    "Now that we have imported the mutation data, we will investigate whether the *mutation up* condition shows an increased number of mutations over the *control* condition.\n",
    "\n",
    "To do this, for each seed we will compare the *control* vs. the *mutation up* condition for each of the 8 columns. We have 5 seeds and a *control* and *mutation up* condition for each seed.\n",
    "\n",
    "We can simply sum up over the columns and make sure to give the resulting Series a name and indexes for later concatenation:"
   ]
  },
  {
   "cell_type": "code",
   "execution_count": 6,
   "metadata": {},
   "outputs": [],
   "source": [
    "# SEED01\n",
    "\n",
    "# Control\n",
    "seed01_control_sums = df_seed01_control.sum(axis=0)\n",
    "seed01_control_sums.name = 'seed01_control'\n",
    "seed01_control_sums.index = mutation_best_names\n",
    "\n",
    "# Mutation up\n",
    "seed01_mut_up_sums = df_seed01_mut_up.sum(axis=0)\n",
    "seed01_mut_up_sums.name = 'seed01_mut_up'\n",
    "seed01_mut_up_sums.index = mutation_best_names\n",
    "\n",
    "# SEED02\n",
    "\n",
    "# Control\n",
    "seed02_control_sums = df_seed02_control.sum(axis=0)\n",
    "seed02_control_sums.name = 'seed02_control'\n",
    "seed02_control_sums.index = mutation_best_names\n",
    "\n",
    "# Mutation up\n",
    "seed02_mut_up_sums = df_seed02_mut_up.sum(axis=0)\n",
    "seed02_mut_up_sums.name = 'seed02_mut_up'\n",
    "seed02_mut_up_sums.index = mutation_best_names\n",
    "\n",
    "# SEED03\n",
    "\n",
    "# Control\n",
    "seed03_control_sums = df_seed03_control.sum(axis=0)\n",
    "seed03_control_sums.name = 'seed03_control'\n",
    "seed03_control_sums.index = mutation_best_names\n",
    "\n",
    "# Mutation up\n",
    "seed03_mut_up_sums = df_seed03_mut_up.sum(axis=0)\n",
    "seed03_mut_up_sums.name = 'seed03_mut_up'\n",
    "seed03_mut_up_sums.index = mutation_best_names\n",
    "\n",
    "# SEED04\n",
    "\n",
    "# Control\n",
    "seed04_control_sums = df_seed04_control.sum(axis=0)\n",
    "seed04_control_sums.name = 'seed04_control'\n",
    "seed04_control_sums.index = mutation_best_names\n",
    "\n",
    "# Mutation up\n",
    "seed04_mut_up_sums = df_seed04_mut_up.sum(axis=0)\n",
    "seed04_mut_up_sums.name = 'seed04_mut_up'\n",
    "seed04_mut_up_sums.index = mutation_best_names\n",
    "\n",
    "# SEED05\n",
    "\n",
    "# Control\n",
    "seed05_control_sums = df_seed05_control.sum(axis=0)\n",
    "seed05_control_sums.name = 'seed05_control'\n",
    "seed05_control_sums.index = mutation_best_names\n",
    "\n",
    "# Mutation up\n",
    "seed05_mut_up_sums = df_seed05_mut_up.sum(axis=0)\n",
    "seed05_mut_up_sums.name = 'seed05_mut_up'\n",
    "seed05_mut_up_sums.index = mutation_best_names"
   ]
  },
  {
   "cell_type": "markdown",
   "metadata": {},
   "source": [
    "Now concatenate the results in to one DataFrame for easy comparison:"
   ]
  },
  {
   "cell_type": "code",
   "execution_count": 51,
   "metadata": {},
   "outputs": [],
   "source": [
    "# Create a new DataFrame for the results\n",
    "df_results = pd.concat([seed01_control_sums, seed01_mut_up_sums], axis=1)#, ignore_index=True)\n",
    "\n",
    "# Concatenate remaining seeds and conditions\n",
    "df_results = pd.concat([df_results, seed02_control_sums, seed02_mut_up_sums], axis=1)\n",
    "df_results = pd.concat([df_results, seed03_control_sums, seed03_mut_up_sums], axis=1)\n",
    "df_results = pd.concat([df_results, seed04_control_sums, seed04_mut_up_sums], axis=1)\n",
    "df_results = pd.concat([df_results, seed05_control_sums, seed05_mut_up_sums], axis=1)\n",
    "\n",
    "#print(\"df_results has\", df_results.size, \"total entries and its dimensions (rows,columns) is\", df_results.shape)"
   ]
  },
  {
   "cell_type": "markdown",
   "metadata": {},
   "source": [
    "Print off the final table for comparison:"
   ]
  },
  {
   "cell_type": "code",
   "execution_count": 52,
   "metadata": {},
   "outputs": [
    {
     "name": "stdout",
     "output_type": "stream",
     "text": [
      "                                   seed01_control  seed01_mut_up  \\\n",
      "number_local_mutations                       5954          16112   \n",
      "number_chromosomic_rearrangements           18395          12096   \n",
      "number_switches                              2861           7526   \n",
      "number_indels                                3093           8586   \n",
      "number_duplications                            76            105   \n",
      "number_deletions                               27             26   \n",
      "number_translocations                         928            850   \n",
      "inversions                                  17364          11115   \n",
      "\n",
      "                                   seed02_control  seed02_mut_up  \\\n",
      "number_local_mutations                       5410          15344   \n",
      "number_chromosomic_rearrangements           19247          12977   \n",
      "number_switches                              2656           6938   \n",
      "number_indels                                2754           8406   \n",
      "number_duplications                            89             66   \n",
      "number_deletions                               30             22   \n",
      "number_translocations                        1033            672   \n",
      "inversions                                  18095          12217   \n",
      "\n",
      "                                   seed03_control  seed03_mut_up  \\\n",
      "number_local_mutations                       6172          16255   \n",
      "number_chromosomic_rearrangements           17616          13973   \n",
      "number_switches                              2758           7244   \n",
      "number_indels                                3414           9011   \n",
      "number_duplications                            73             93   \n",
      "number_deletions                               22             36   \n",
      "number_translocations                         854            729   \n",
      "inversions                                  16667          13115   \n",
      "\n",
      "                                   seed04_control  seed04_mut_up  \\\n",
      "number_local_mutations                       5599          15486   \n",
      "number_chromosomic_rearrangements           20476          14612   \n",
      "number_switches                              2742           7246   \n",
      "number_indels                                2857           8240   \n",
      "number_duplications                            77             81   \n",
      "number_deletions                               29             13   \n",
      "number_translocations                         982            805   \n",
      "inversions                                  19388          13713   \n",
      "\n",
      "                                   seed05_control  seed05_mut_up  \n",
      "number_local_mutations                       5310           3325  \n",
      "number_chromosomic_rearrangements           19193           2641  \n",
      "number_switches                              2305           1660  \n",
      "number_indels                                3005           1665  \n",
      "number_duplications                            73             12  \n",
      "number_deletions                               27              9  \n",
      "number_translocations                        1067            119  \n",
      "inversions                                  18026           2501  \n"
     ]
    }
   ],
   "source": [
    "# Drop the number of generations since the value here is not useful\n",
    "df_results = df_results.drop(df_results.index[0])\n",
    "print(df_results)"
   ]
  },
  {
   "cell_type": "code",
   "execution_count": null,
   "metadata": {},
   "outputs": [],
   "source": []
  }
 ],
 "metadata": {
  "kernelspec": {
   "display_name": "Python 3",
   "language": "python",
   "name": "python3"
  },
  "language_info": {
   "codemirror_mode": {
    "name": "ipython",
    "version": 3
   },
   "file_extension": ".py",
   "mimetype": "text/x-python",
   "name": "python",
   "nbconvert_exporter": "python",
   "pygments_lexer": "ipython3",
   "version": "3.7.4"
  }
 },
 "nbformat": 4,
 "nbformat_minor": 2
}
