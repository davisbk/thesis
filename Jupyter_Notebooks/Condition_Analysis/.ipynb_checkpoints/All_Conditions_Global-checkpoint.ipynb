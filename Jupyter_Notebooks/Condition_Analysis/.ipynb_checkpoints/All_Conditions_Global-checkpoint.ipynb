{
 "cells": [
  {
   "cell_type": "markdown",
   "metadata": {},
   "source": [
    "# Comparison of all conditions\n",
    "In this Jupyter notebook we will graph out the average value across all five seeds for each condition and compare it with the control condition, graphing the results. \n",
    "\n",
    "## Quick links:\n",
    "[set up the environment](#setup_environment)\n",
    "\n",
    "### stat_fitness_global\n",
    "[read in the data](#stat_fitness_global_read) || [graph the data](#stat_fitness_global_graph)<br>\n",
    "\n",
    "### stat_genes_global\n",
    "[read in the data](#stat_genes_global_read) || [graph the data](#stat_genes_global_graph)<br>\n",
    "\n",
    "### Statistics\n",
    "[Mann-Whitney](#statistics)<br>\n",
    "\n",
    "\n",
    "## Set up the environment"
   ]
  },
  {
   "cell_type": "markdown",
   "metadata": {},
   "source": [
    "<a id='setup_environment'></a>"
   ]
  },
  {
   "cell_type": "code",
   "execution_count": 2,
   "metadata": {
    "scrolled": true
   },
   "outputs": [
    {
     "name": "stdout",
     "output_type": "stream",
     "text": [
      "Setting up environment...\n",
      "done.\n"
     ]
    }
   ],
   "source": [
    "import pandas as pd\n",
    "import matplotlib.pyplot as plt\n",
    "import os\n",
    "from scipy import stats\n",
    "from functools import reduce\n",
    "from MyFunctions import read_fitness, read_bp, read_genes, read_robustness, perc_diff\n",
    "\n",
    "# Laptop\n",
    "#INPUT_ROOT_DIR = \"C://Users//davis//Dropbox//Freiburg Masters Semesters//Thesis//Results//Round02//\"\n",
    "\n",
    "# Desktop\n",
    "INPUT_ROOT_DIR = \"D://Dropbox_New//Dropbox//Freiburg Masters Semesters//Thesis//Results//Round02//\"\n",
    "\n",
    "OUTPUT_ROOT_DIR = INPUT_ROOT_DIR + \"Graphics//all_analysis//\"\n",
    "WINDOW_SIZE = 10000\n",
    "\n",
    "print (\"Setting up environment...\")\n",
    "# Make sure that the output directories exist and create them if not\n",
    "if not os.path.exists(OUTPUT_ROOT_DIR):\n",
    "    os.mkdir(OUTPUT_ROOT_DIR)\n",
    "if not os.path.exists(OUTPUT_ROOT_DIR + \"fitness_global//perc_change\"):\n",
    "    os.makedirs(OUTPUT_ROOT_DIR + \"fitness_global//perc_change//\")\n",
    "if not os.path.exists(OUTPUT_ROOT_DIR + \"genes_global//perc_change//\"):\n",
    "    os.makedirs(OUTPUT_ROOT_DIR + \"genes_global//perc_change//\")\n",
    "\n",
    "# We need to be able to write out some statistics. Create an output file for this purpose.\n",
    "LINE = \"=============================================\"\n",
    "\n",
    "print(\"done.\")"
   ]
  },
  {
   "cell_type": "markdown",
   "metadata": {},
   "source": [
    "<a id='stat_fitness_global_read'></a>"
   ]
  },
  {
   "cell_type": "markdown",
   "metadata": {},
   "source": [
    "# stat_fitness_global"
   ]
  },
  {
   "cell_type": "markdown",
   "metadata": {},
   "source": [
    "## Read in the data for stat_fitness_global"
   ]
  },
  {
   "cell_type": "code",
   "execution_count": 6,
   "metadata": {},
   "outputs": [
    {
     "name": "stdout",
     "output_type": "stream",
     "text": [
      "Reading in stat_fitness_global data...\n"
     ]
    },
    {
     "ename": "FileNotFoundError",
     "evalue": "[Errno 2] File b'D://Dropbox_New//Dropbox//Freiburg Masters Semesters//Thesis//Results//Round02//seed05//selection_down//stats//stat_fitness_glob.out' does not exist: b'D://Dropbox_New//Dropbox//Freiburg Masters Semesters//Thesis//Results//Round02//seed05//selection_down//stats//stat_fitness_glob.out'",
     "output_type": "error",
     "traceback": [
      "\u001b[1;31m---------------------------------------------------------------------------\u001b[0m",
      "\u001b[1;31mFileNotFoundError\u001b[0m                         Traceback (most recent call last)",
      "\u001b[1;32m<ipython-input-6-a75231257e1d>\u001b[0m in \u001b[0;36m<module>\u001b[1;34m\u001b[0m\n\u001b[0;32m     35\u001b[0m \u001b[0mdf_seed03_selection_down_fitness_global\u001b[0m \u001b[1;33m=\u001b[0m \u001b[0mread_fitness\u001b[0m\u001b[1;33m(\u001b[0m\u001b[0mINPUT_ROOT_DIR\u001b[0m \u001b[1;33m+\u001b[0m \u001b[1;34m\"seed03//selection_down//stats//stat_fitness_glob.out\"\u001b[0m\u001b[1;33m)\u001b[0m\u001b[1;33m\u001b[0m\u001b[1;33m\u001b[0m\u001b[0m\n\u001b[0;32m     36\u001b[0m \u001b[0mdf_seed04_selection_down_fitness_global\u001b[0m \u001b[1;33m=\u001b[0m \u001b[0mread_fitness\u001b[0m\u001b[1;33m(\u001b[0m\u001b[0mINPUT_ROOT_DIR\u001b[0m \u001b[1;33m+\u001b[0m \u001b[1;34m\"seed04//selection_down//stats//stat_fitness_glob.out\"\u001b[0m\u001b[1;33m)\u001b[0m\u001b[1;33m\u001b[0m\u001b[1;33m\u001b[0m\u001b[0m\n\u001b[1;32m---> 37\u001b[1;33m \u001b[0mdf_seed05_selection_down_fitness_global\u001b[0m \u001b[1;33m=\u001b[0m \u001b[0mread_fitness\u001b[0m\u001b[1;33m(\u001b[0m\u001b[0mINPUT_ROOT_DIR\u001b[0m \u001b[1;33m+\u001b[0m \u001b[1;34m\"seed05//selection_down//stats//stat_fitness_glob.out\"\u001b[0m\u001b[1;33m)\u001b[0m\u001b[1;33m\u001b[0m\u001b[1;33m\u001b[0m\u001b[0m\n\u001b[0m\u001b[0;32m     38\u001b[0m \u001b[1;33m\u001b[0m\u001b[0m\n\u001b[0;32m     39\u001b[0m \u001b[1;31m# Population Up\u001b[0m\u001b[1;33m\u001b[0m\u001b[1;33m\u001b[0m\u001b[1;33m\u001b[0m\u001b[0m\n",
      "\u001b[1;32mD:\\Documents\\GitHub\\thesis\\Jupyter_Notebooks\\Condition_Analysis\\MyFunctions.py\u001b[0m in \u001b[0;36mread_fitness\u001b[1;34m(fileLoc)\u001b[0m\n\u001b[0;32m      3\u001b[0m \u001b[1;32mdef\u001b[0m \u001b[0mread_fitness\u001b[0m\u001b[1;33m(\u001b[0m\u001b[0mfileLoc\u001b[0m\u001b[1;33m)\u001b[0m\u001b[1;33m:\u001b[0m\u001b[1;33m\u001b[0m\u001b[1;33m\u001b[0m\u001b[0m\n\u001b[0;32m      4\u001b[0m     \u001b[0mfitness_best_names\u001b[0m \u001b[1;33m=\u001b[0m \u001b[1;33m[\u001b[0m\u001b[1;34m'generation'\u001b[0m\u001b[1;33m,\u001b[0m \u001b[1;34m'pop_size'\u001b[0m\u001b[1;33m,\u001b[0m \u001b[1;34m'fitness'\u001b[0m\u001b[1;33m,\u001b[0m \u001b[1;34m'genome_size'\u001b[0m\u001b[1;33m,\u001b[0m \u001b[1;34m'metabolic_error'\u001b[0m\u001b[1;33m,\u001b[0m\u001b[1;34m'parents_metabolic_error'\u001b[0m\u001b[1;33m,\u001b[0m \u001b[1;34m'metabolic_fitness'\u001b[0m\u001b[1;33m,\u001b[0m \u001b[1;34m'secretion_error'\u001b[0m\u001b[1;33m,\u001b[0m \u001b[1;34m'parents_secretion_error'\u001b[0m\u001b[1;33m,\u001b[0m \u001b[1;34m'secretion_fitness'\u001b[0m\u001b[1;33m,\u001b[0m \u001b[1;34m'amt_compound_present'\u001b[0m\u001b[1;33m]\u001b[0m\u001b[1;33m\u001b[0m\u001b[1;33m\u001b[0m\u001b[0m\n\u001b[1;32m----> 5\u001b[1;33m     \u001b[0mdf_fitness\u001b[0m \u001b[1;33m=\u001b[0m \u001b[0mpd\u001b[0m\u001b[1;33m.\u001b[0m\u001b[0mread_csv\u001b[0m\u001b[1;33m(\u001b[0m\u001b[0mfileLoc\u001b[0m\u001b[1;33m,\u001b[0m \u001b[0mskiprows\u001b[0m\u001b[1;33m=\u001b[0m\u001b[1;36m18\u001b[0m\u001b[1;33m,\u001b[0m \u001b[0mdelim_whitespace\u001b[0m\u001b[1;33m=\u001b[0m\u001b[1;32mTrue\u001b[0m\u001b[1;33m,\u001b[0m \u001b[0mheader\u001b[0m\u001b[1;33m=\u001b[0m\u001b[1;36m0\u001b[0m\u001b[1;33m,\u001b[0m\u001b[0mdtype\u001b[0m\u001b[1;33m=\u001b[0m\u001b[1;34m'float64'\u001b[0m\u001b[1;33m,\u001b[0m \u001b[0mnames\u001b[0m\u001b[1;33m=\u001b[0m\u001b[0mfitness_best_names\u001b[0m\u001b[1;33m)\u001b[0m\u001b[1;33m\u001b[0m\u001b[1;33m\u001b[0m\u001b[0m\n\u001b[0m\u001b[0;32m      6\u001b[0m     \u001b[1;32mreturn\u001b[0m \u001b[0mdf_fitness\u001b[0m\u001b[1;33m\u001b[0m\u001b[1;33m\u001b[0m\u001b[0m\n\u001b[0;32m      7\u001b[0m \u001b[1;33m\u001b[0m\u001b[0m\n",
      "\u001b[1;32mC:\\ProgramData\\Anaconda3\\lib\\site-packages\\pandas\\io\\parsers.py\u001b[0m in \u001b[0;36mparser_f\u001b[1;34m(filepath_or_buffer, sep, delimiter, header, names, index_col, usecols, squeeze, prefix, mangle_dupe_cols, dtype, engine, converters, true_values, false_values, skipinitialspace, skiprows, skipfooter, nrows, na_values, keep_default_na, na_filter, verbose, skip_blank_lines, parse_dates, infer_datetime_format, keep_date_col, date_parser, dayfirst, cache_dates, iterator, chunksize, compression, thousands, decimal, lineterminator, quotechar, quoting, doublequote, escapechar, comment, encoding, dialect, error_bad_lines, warn_bad_lines, delim_whitespace, low_memory, memory_map, float_precision)\u001b[0m\n\u001b[0;32m    683\u001b[0m         )\n\u001b[0;32m    684\u001b[0m \u001b[1;33m\u001b[0m\u001b[0m\n\u001b[1;32m--> 685\u001b[1;33m         \u001b[1;32mreturn\u001b[0m \u001b[0m_read\u001b[0m\u001b[1;33m(\u001b[0m\u001b[0mfilepath_or_buffer\u001b[0m\u001b[1;33m,\u001b[0m \u001b[0mkwds\u001b[0m\u001b[1;33m)\u001b[0m\u001b[1;33m\u001b[0m\u001b[1;33m\u001b[0m\u001b[0m\n\u001b[0m\u001b[0;32m    686\u001b[0m \u001b[1;33m\u001b[0m\u001b[0m\n\u001b[0;32m    687\u001b[0m     \u001b[0mparser_f\u001b[0m\u001b[1;33m.\u001b[0m\u001b[0m__name__\u001b[0m \u001b[1;33m=\u001b[0m \u001b[0mname\u001b[0m\u001b[1;33m\u001b[0m\u001b[1;33m\u001b[0m\u001b[0m\n",
      "\u001b[1;32mC:\\ProgramData\\Anaconda3\\lib\\site-packages\\pandas\\io\\parsers.py\u001b[0m in \u001b[0;36m_read\u001b[1;34m(filepath_or_buffer, kwds)\u001b[0m\n\u001b[0;32m    455\u001b[0m \u001b[1;33m\u001b[0m\u001b[0m\n\u001b[0;32m    456\u001b[0m     \u001b[1;31m# Create the parser.\u001b[0m\u001b[1;33m\u001b[0m\u001b[1;33m\u001b[0m\u001b[1;33m\u001b[0m\u001b[0m\n\u001b[1;32m--> 457\u001b[1;33m     \u001b[0mparser\u001b[0m \u001b[1;33m=\u001b[0m \u001b[0mTextFileReader\u001b[0m\u001b[1;33m(\u001b[0m\u001b[0mfp_or_buf\u001b[0m\u001b[1;33m,\u001b[0m \u001b[1;33m**\u001b[0m\u001b[0mkwds\u001b[0m\u001b[1;33m)\u001b[0m\u001b[1;33m\u001b[0m\u001b[1;33m\u001b[0m\u001b[0m\n\u001b[0m\u001b[0;32m    458\u001b[0m \u001b[1;33m\u001b[0m\u001b[0m\n\u001b[0;32m    459\u001b[0m     \u001b[1;32mif\u001b[0m \u001b[0mchunksize\u001b[0m \u001b[1;32mor\u001b[0m \u001b[0miterator\u001b[0m\u001b[1;33m:\u001b[0m\u001b[1;33m\u001b[0m\u001b[1;33m\u001b[0m\u001b[0m\n",
      "\u001b[1;32mC:\\ProgramData\\Anaconda3\\lib\\site-packages\\pandas\\io\\parsers.py\u001b[0m in \u001b[0;36m__init__\u001b[1;34m(self, f, engine, **kwds)\u001b[0m\n\u001b[0;32m    893\u001b[0m             \u001b[0mself\u001b[0m\u001b[1;33m.\u001b[0m\u001b[0moptions\u001b[0m\u001b[1;33m[\u001b[0m\u001b[1;34m\"has_index_names\"\u001b[0m\u001b[1;33m]\u001b[0m \u001b[1;33m=\u001b[0m \u001b[0mkwds\u001b[0m\u001b[1;33m[\u001b[0m\u001b[1;34m\"has_index_names\"\u001b[0m\u001b[1;33m]\u001b[0m\u001b[1;33m\u001b[0m\u001b[1;33m\u001b[0m\u001b[0m\n\u001b[0;32m    894\u001b[0m \u001b[1;33m\u001b[0m\u001b[0m\n\u001b[1;32m--> 895\u001b[1;33m         \u001b[0mself\u001b[0m\u001b[1;33m.\u001b[0m\u001b[0m_make_engine\u001b[0m\u001b[1;33m(\u001b[0m\u001b[0mself\u001b[0m\u001b[1;33m.\u001b[0m\u001b[0mengine\u001b[0m\u001b[1;33m)\u001b[0m\u001b[1;33m\u001b[0m\u001b[1;33m\u001b[0m\u001b[0m\n\u001b[0m\u001b[0;32m    896\u001b[0m \u001b[1;33m\u001b[0m\u001b[0m\n\u001b[0;32m    897\u001b[0m     \u001b[1;32mdef\u001b[0m \u001b[0mclose\u001b[0m\u001b[1;33m(\u001b[0m\u001b[0mself\u001b[0m\u001b[1;33m)\u001b[0m\u001b[1;33m:\u001b[0m\u001b[1;33m\u001b[0m\u001b[1;33m\u001b[0m\u001b[0m\n",
      "\u001b[1;32mC:\\ProgramData\\Anaconda3\\lib\\site-packages\\pandas\\io\\parsers.py\u001b[0m in \u001b[0;36m_make_engine\u001b[1;34m(self, engine)\u001b[0m\n\u001b[0;32m   1133\u001b[0m     \u001b[1;32mdef\u001b[0m \u001b[0m_make_engine\u001b[0m\u001b[1;33m(\u001b[0m\u001b[0mself\u001b[0m\u001b[1;33m,\u001b[0m \u001b[0mengine\u001b[0m\u001b[1;33m=\u001b[0m\u001b[1;34m\"c\"\u001b[0m\u001b[1;33m)\u001b[0m\u001b[1;33m:\u001b[0m\u001b[1;33m\u001b[0m\u001b[1;33m\u001b[0m\u001b[0m\n\u001b[0;32m   1134\u001b[0m         \u001b[1;32mif\u001b[0m \u001b[0mengine\u001b[0m \u001b[1;33m==\u001b[0m \u001b[1;34m\"c\"\u001b[0m\u001b[1;33m:\u001b[0m\u001b[1;33m\u001b[0m\u001b[1;33m\u001b[0m\u001b[0m\n\u001b[1;32m-> 1135\u001b[1;33m             \u001b[0mself\u001b[0m\u001b[1;33m.\u001b[0m\u001b[0m_engine\u001b[0m \u001b[1;33m=\u001b[0m \u001b[0mCParserWrapper\u001b[0m\u001b[1;33m(\u001b[0m\u001b[0mself\u001b[0m\u001b[1;33m.\u001b[0m\u001b[0mf\u001b[0m\u001b[1;33m,\u001b[0m \u001b[1;33m**\u001b[0m\u001b[0mself\u001b[0m\u001b[1;33m.\u001b[0m\u001b[0moptions\u001b[0m\u001b[1;33m)\u001b[0m\u001b[1;33m\u001b[0m\u001b[1;33m\u001b[0m\u001b[0m\n\u001b[0m\u001b[0;32m   1136\u001b[0m         \u001b[1;32melse\u001b[0m\u001b[1;33m:\u001b[0m\u001b[1;33m\u001b[0m\u001b[1;33m\u001b[0m\u001b[0m\n\u001b[0;32m   1137\u001b[0m             \u001b[1;32mif\u001b[0m \u001b[0mengine\u001b[0m \u001b[1;33m==\u001b[0m \u001b[1;34m\"python\"\u001b[0m\u001b[1;33m:\u001b[0m\u001b[1;33m\u001b[0m\u001b[1;33m\u001b[0m\u001b[0m\n",
      "\u001b[1;32mC:\\ProgramData\\Anaconda3\\lib\\site-packages\\pandas\\io\\parsers.py\u001b[0m in \u001b[0;36m__init__\u001b[1;34m(self, src, **kwds)\u001b[0m\n\u001b[0;32m   1904\u001b[0m         \u001b[0mkwds\u001b[0m\u001b[1;33m[\u001b[0m\u001b[1;34m\"usecols\"\u001b[0m\u001b[1;33m]\u001b[0m \u001b[1;33m=\u001b[0m \u001b[0mself\u001b[0m\u001b[1;33m.\u001b[0m\u001b[0musecols\u001b[0m\u001b[1;33m\u001b[0m\u001b[1;33m\u001b[0m\u001b[0m\n\u001b[0;32m   1905\u001b[0m \u001b[1;33m\u001b[0m\u001b[0m\n\u001b[1;32m-> 1906\u001b[1;33m         \u001b[0mself\u001b[0m\u001b[1;33m.\u001b[0m\u001b[0m_reader\u001b[0m \u001b[1;33m=\u001b[0m \u001b[0mparsers\u001b[0m\u001b[1;33m.\u001b[0m\u001b[0mTextReader\u001b[0m\u001b[1;33m(\u001b[0m\u001b[0msrc\u001b[0m\u001b[1;33m,\u001b[0m \u001b[1;33m**\u001b[0m\u001b[0mkwds\u001b[0m\u001b[1;33m)\u001b[0m\u001b[1;33m\u001b[0m\u001b[1;33m\u001b[0m\u001b[0m\n\u001b[0m\u001b[0;32m   1907\u001b[0m         \u001b[0mself\u001b[0m\u001b[1;33m.\u001b[0m\u001b[0munnamed_cols\u001b[0m \u001b[1;33m=\u001b[0m \u001b[0mself\u001b[0m\u001b[1;33m.\u001b[0m\u001b[0m_reader\u001b[0m\u001b[1;33m.\u001b[0m\u001b[0munnamed_cols\u001b[0m\u001b[1;33m\u001b[0m\u001b[1;33m\u001b[0m\u001b[0m\n\u001b[0;32m   1908\u001b[0m \u001b[1;33m\u001b[0m\u001b[0m\n",
      "\u001b[1;32mpandas\\_libs\\parsers.pyx\u001b[0m in \u001b[0;36mpandas._libs.parsers.TextReader.__cinit__\u001b[1;34m()\u001b[0m\n",
      "\u001b[1;32mpandas\\_libs\\parsers.pyx\u001b[0m in \u001b[0;36mpandas._libs.parsers.TextReader._setup_parser_source\u001b[1;34m()\u001b[0m\n",
      "\u001b[1;31mFileNotFoundError\u001b[0m: [Errno 2] File b'D://Dropbox_New//Dropbox//Freiburg Masters Semesters//Thesis//Results//Round02//seed05//selection_down//stats//stat_fitness_glob.out' does not exist: b'D://Dropbox_New//Dropbox//Freiburg Masters Semesters//Thesis//Results//Round02//seed05//selection_down//stats//stat_fitness_glob.out'"
     ]
    }
   ],
   "source": [
    "print(\"Reading in stat_fitness_global data...\")\n",
    "# STAT_FITNESS_BEST\n",
    "fitness_global_names = ['generation', 'pop_size', 'fitness', 'genome_size', 'metabolic_error','parents_metabolic_error', 'metabolic_fitness', 'secretion_error', 'parents_secretion_error', 'secretion_fitness', 'amt_compound_present']\n",
    "# Control\n",
    "df_seed01_control_fitness_global = read_fitness(INPUT_ROOT_DIR + \"seed01//control//stats//stat_fitness_glob.out\")\n",
    "df_seed02_control_fitness_global = read_fitness(INPUT_ROOT_DIR + \"seed02//control//stats//stat_fitness_glob.out\")\n",
    "df_seed03_control_fitness_global = read_fitness(INPUT_ROOT_DIR + \"seed03//control//stats//stat_fitness_glob.out\")\n",
    "df_seed04_control_fitness_global = read_fitness(INPUT_ROOT_DIR + \"seed04//control//stats//stat_fitness_glob.out\")\n",
    "df_seed05_control_fitness_global = read_fitness(INPUT_ROOT_DIR + \"seed05//control//stats//stat_fitness_glob.out\")\n",
    "\n",
    "# Mutation Up\n",
    "df_seed01_mutation_up_fitness_global = read_fitness(INPUT_ROOT_DIR + \"seed01//mut_up//stats//stat_fitness_glob.out\")\n",
    "df_seed02_mutation_up_fitness_global = read_fitness(INPUT_ROOT_DIR + \"seed02//mut_up//stats//stat_fitness_glob.out\")\n",
    "df_seed03_mutation_up_fitness_global = read_fitness(INPUT_ROOT_DIR + \"seed03//mut_up//stats//stat_fitness_glob.out\")\n",
    "df_seed04_mutation_up_fitness_global = read_fitness(INPUT_ROOT_DIR + \"seed04//mut_up//stats//stat_fitness_glob.out\")\n",
    "df_seed05_mutation_up_fitness_global = read_fitness(INPUT_ROOT_DIR + \"seed05//mut_up//stats//stat_fitness_glob.out\")\n",
    "\n",
    "# Mutation Down\n",
    "df_seed01_mutation_down_fitness_global = read_fitness(INPUT_ROOT_DIR + \"seed01//mut_down//stats//stat_fitness_glob.out\")\n",
    "df_seed02_mutation_down_fitness_global = read_fitness(INPUT_ROOT_DIR + \"seed02//mut_down//stats//stat_fitness_glob.out\")\n",
    "df_seed03_mutation_down_fitness_global = read_fitness(INPUT_ROOT_DIR + \"seed03//mut_down//stats//stat_fitness_glob.out\")\n",
    "df_seed04_mutation_down_fitness_global = read_fitness(INPUT_ROOT_DIR + \"seed04//mut_down//stats//stat_fitness_glob.out\")\n",
    "df_seed05_mutation_down_fitness_global = read_fitness(INPUT_ROOT_DIR + \"seed05//mut_down//stats//stat_fitness_glob.out\")\n",
    "\n",
    "# Selection Up\n",
    "df_seed01_selection_up_fitness_global = read_fitness(INPUT_ROOT_DIR + \"seed01//selection_up//stats//stat_fitness_glob.out\")\n",
    "df_seed02_selection_up_fitness_global = read_fitness(INPUT_ROOT_DIR + \"seed02//selection_up//stats//stat_fitness_glob.out\")\n",
    "df_seed03_selection_up_fitness_global = read_fitness(INPUT_ROOT_DIR + \"seed03//selection_up//stats//stat_fitness_glob.out\")\n",
    "df_seed04_selection_up_fitness_global = read_fitness(INPUT_ROOT_DIR + \"seed04//selection_up//stats//stat_fitness_glob.out\")\n",
    "df_seed05_selection_up_fitness_global = read_fitness(INPUT_ROOT_DIR + \"seed05//selection_up//stats//stat_fitness_glob.out\")\n",
    "\n",
    "# Selection Down\n",
    "df_seed01_selection_down_fitness_global = read_fitness(INPUT_ROOT_DIR + \"seed01//selection_down//stats//stat_fitness_glob.out\")\n",
    "df_seed02_selection_down_fitness_global = read_fitness(INPUT_ROOT_DIR + \"seed02//selection_down//stats//stat_fitness_glob.out\")\n",
    "df_seed03_selection_down_fitness_global = read_fitness(INPUT_ROOT_DIR + \"seed03//selection_down//stats//stat_fitness_glob.out\")\n",
    "df_seed04_selection_down_fitness_global = read_fitness(INPUT_ROOT_DIR + \"seed04//selection_down//stats//stat_fitness_glob.out\")\n",
    "df_seed05_selection_down_fitness_global = read_fitness(INPUT_ROOT_DIR + \"seed05//selection_down//stats//stat_fitness_glob.out\")\n",
    "\n",
    "# Population Up\n",
    "#df_seed01_pop_up_fitness_global = read_fitness(INPUT_ROOT_DIR + \"seed01//pop_up//stats//stat_fitness_glob.out\")\n",
    "#df_seed02_pop_up_fitness_global = read_fitness(INPUT_ROOT_DIR + \"seed02//pop_up//stats//stat_fitness_glob.out\")\n",
    "#df_seed03_pop_up_fitness_global = read_fitness(INPUT_ROOT_DIR + \"seed03//pop_up//stats//stat_fitness_glob.out\")\n",
    "#df_seed04_pop_up_fitness_global = read_fitness(INPUT_ROOT_DIR + \"seed04//pop_up//stats//stat_fitness_glob.out\")\n",
    "#df_seed05_pop_up_fitness_global = read_fitness(INPUT_ROOT_DIR + \"seed05//pop_up//stats//stat_fitness_glob.out\")\n",
    "\n",
    "# Population Down\n",
    "df_seed01_pop_down_fitness_global = read_fitness(INPUT_ROOT_DIR + \"seed01//pop_down//stats//stat_fitness_glob.out\")\n",
    "df_seed02_pop_down_fitness_global = read_fitness(INPUT_ROOT_DIR + \"seed02//pop_down//stats//stat_fitness_glob.out\")\n",
    "df_seed03_pop_down_fitness_global = read_fitness(INPUT_ROOT_DIR + \"seed03//pop_down//stats//stat_fitness_glob.out\")\n",
    "df_seed04_pop_down_fitness_global = read_fitness(INPUT_ROOT_DIR + \"seed04//pop_down//stats//stat_fitness_glob.out\")\n",
    "df_seed05_pop_down_fitness_global = read_fitness(INPUT_ROOT_DIR + \"seed05//pop_down//stats//stat_fitness_glob.out\")\n",
    "\n",
    "print(\"done.\")"
   ]
  },
  {
   "cell_type": "markdown",
   "metadata": {},
   "source": [
    "<a id='stat_fitness_global_graph'></a>"
   ]
  },
  {
   "cell_type": "markdown",
   "metadata": {},
   "source": [
    "## Graph out stat_fitness_global"
   ]
  },
  {
   "cell_type": "code",
   "execution_count": 4,
   "metadata": {},
   "outputs": [
    {
     "name": "stdout",
     "output_type": "stream",
     "text": [
      "stat_fitness_global\n",
      "\tpop_size\n"
     ]
    },
    {
     "ename": "NameError",
     "evalue": "name 'df_seed01_pop_down_fitness_global' is not defined",
     "output_type": "error",
     "traceback": [
      "\u001b[1;31m---------------------------------------------------------------------------\u001b[0m",
      "\u001b[1;31mNameError\u001b[0m                                 Traceback (most recent call last)",
      "\u001b[1;32m<ipython-input-4-0d58c1e984d3>\u001b[0m in \u001b[0;36m<module>\u001b[1;34m\u001b[0m\n\u001b[0;32m     22\u001b[0m         \u001b[0mdf_mut_down_tmp\u001b[0m \u001b[1;33m=\u001b[0m \u001b[0mpd\u001b[0m\u001b[1;33m.\u001b[0m\u001b[0mconcat\u001b[0m\u001b[1;33m(\u001b[0m\u001b[1;33m[\u001b[0m\u001b[0mdf_seed01_mutation_down_fitness_global\u001b[0m\u001b[1;33m[\u001b[0m\u001b[0mcol_header\u001b[0m\u001b[1;33m]\u001b[0m\u001b[1;33m,\u001b[0m \u001b[0mdf_seed02_mutation_down_fitness_global\u001b[0m\u001b[1;33m[\u001b[0m\u001b[0mcol_header\u001b[0m\u001b[1;33m]\u001b[0m\u001b[1;33m,\u001b[0m \u001b[0mdf_seed03_mutation_down_fitness_global\u001b[0m\u001b[1;33m[\u001b[0m\u001b[0mcol_header\u001b[0m\u001b[1;33m]\u001b[0m\u001b[1;33m,\u001b[0m \u001b[0mdf_seed04_mutation_down_fitness_global\u001b[0m\u001b[1;33m[\u001b[0m\u001b[0mcol_header\u001b[0m\u001b[1;33m]\u001b[0m\u001b[1;33m,\u001b[0m \u001b[0mdf_seed05_mutation_down_fitness_global\u001b[0m\u001b[1;33m[\u001b[0m\u001b[0mcol_header\u001b[0m\u001b[1;33m]\u001b[0m\u001b[1;33m]\u001b[0m\u001b[1;33m,\u001b[0m \u001b[0maxis\u001b[0m\u001b[1;33m=\u001b[0m\u001b[1;36m1\u001b[0m\u001b[1;33m,\u001b[0m \u001b[0mkeys\u001b[0m\u001b[1;33m=\u001b[0m\u001b[0mseed_keys\u001b[0m\u001b[1;33m)\u001b[0m\u001b[1;33m\u001b[0m\u001b[1;33m\u001b[0m\u001b[0m\n\u001b[0;32m     23\u001b[0m         \u001b[1;31m#df_pop_up_tmp = pd.concat([df_seed01_pop_up_fitness_global[col_header], df_seed02_pop_up_fitness_global[col_header], df_seed03_pop_up_fitness_global[col_header], df_seed04_pop_up_fitness_global[col_header], df_seed05_pop_up_fitness_global[col_header]], axis=1, keys=seed_keys)\u001b[0m\u001b[1;33m\u001b[0m\u001b[1;33m\u001b[0m\u001b[1;33m\u001b[0m\u001b[0m\n\u001b[1;32m---> 24\u001b[1;33m         \u001b[0mdf_pop_down_tmp\u001b[0m \u001b[1;33m=\u001b[0m \u001b[0mpd\u001b[0m\u001b[1;33m.\u001b[0m\u001b[0mconcat\u001b[0m\u001b[1;33m(\u001b[0m\u001b[1;33m[\u001b[0m\u001b[0mdf_seed01_pop_down_fitness_global\u001b[0m\u001b[1;33m[\u001b[0m\u001b[0mcol_header\u001b[0m\u001b[1;33m]\u001b[0m\u001b[1;33m,\u001b[0m \u001b[0mdf_seed02_pop_down_fitness_global\u001b[0m\u001b[1;33m[\u001b[0m\u001b[0mcol_header\u001b[0m\u001b[1;33m]\u001b[0m\u001b[1;33m,\u001b[0m \u001b[0mdf_seed03_pop_down_fitness_global\u001b[0m\u001b[1;33m[\u001b[0m\u001b[0mcol_header\u001b[0m\u001b[1;33m]\u001b[0m\u001b[1;33m,\u001b[0m \u001b[0mdf_seed04_pop_down_fitness_global\u001b[0m\u001b[1;33m[\u001b[0m\u001b[0mcol_header\u001b[0m\u001b[1;33m]\u001b[0m\u001b[1;33m,\u001b[0m \u001b[0mdf_seed05_pop_down_fitness_global\u001b[0m\u001b[1;33m[\u001b[0m\u001b[0mcol_header\u001b[0m\u001b[1;33m]\u001b[0m\u001b[1;33m]\u001b[0m\u001b[1;33m,\u001b[0m \u001b[0maxis\u001b[0m\u001b[1;33m=\u001b[0m\u001b[1;36m1\u001b[0m\u001b[1;33m,\u001b[0m \u001b[0mkeys\u001b[0m\u001b[1;33m=\u001b[0m\u001b[0mseed_keys\u001b[0m\u001b[1;33m)\u001b[0m\u001b[1;33m\u001b[0m\u001b[1;33m\u001b[0m\u001b[0m\n\u001b[0m\u001b[0;32m     25\u001b[0m         \u001b[0mdf_selection_up_tmp\u001b[0m \u001b[1;33m=\u001b[0m \u001b[0mpd\u001b[0m\u001b[1;33m.\u001b[0m\u001b[0mconcat\u001b[0m\u001b[1;33m(\u001b[0m\u001b[1;33m[\u001b[0m\u001b[0mdf_seed01_selection_up_fitness_global\u001b[0m\u001b[1;33m[\u001b[0m\u001b[0mcol_header\u001b[0m\u001b[1;33m]\u001b[0m\u001b[1;33m,\u001b[0m \u001b[0mdf_seed02_selection_up_fitness_global\u001b[0m\u001b[1;33m[\u001b[0m\u001b[0mcol_header\u001b[0m\u001b[1;33m]\u001b[0m\u001b[1;33m,\u001b[0m \u001b[0mdf_seed03_selection_up_fitness_global\u001b[0m\u001b[1;33m[\u001b[0m\u001b[0mcol_header\u001b[0m\u001b[1;33m]\u001b[0m\u001b[1;33m,\u001b[0m \u001b[0mdf_seed04_selection_up_fitness_global\u001b[0m\u001b[1;33m[\u001b[0m\u001b[0mcol_header\u001b[0m\u001b[1;33m]\u001b[0m\u001b[1;33m,\u001b[0m \u001b[0mdf_seed05_selection_up_fitness_global\u001b[0m\u001b[1;33m[\u001b[0m\u001b[0mcol_header\u001b[0m\u001b[1;33m]\u001b[0m\u001b[1;33m]\u001b[0m\u001b[1;33m,\u001b[0m \u001b[0maxis\u001b[0m\u001b[1;33m=\u001b[0m\u001b[1;36m1\u001b[0m\u001b[1;33m,\u001b[0m \u001b[0mkeys\u001b[0m\u001b[1;33m=\u001b[0m\u001b[0mseed_keys\u001b[0m\u001b[1;33m)\u001b[0m\u001b[1;33m\u001b[0m\u001b[1;33m\u001b[0m\u001b[0m\n\u001b[0;32m     26\u001b[0m         \u001b[0mdf_selection_down_tmp\u001b[0m \u001b[1;33m=\u001b[0m \u001b[0mpd\u001b[0m\u001b[1;33m.\u001b[0m\u001b[0mconcat\u001b[0m\u001b[1;33m(\u001b[0m\u001b[1;33m[\u001b[0m\u001b[0mdf_seed01_selection_down_fitness_global\u001b[0m\u001b[1;33m[\u001b[0m\u001b[0mcol_header\u001b[0m\u001b[1;33m]\u001b[0m\u001b[1;33m,\u001b[0m \u001b[0mdf_seed02_selection_down_fitness_global\u001b[0m\u001b[1;33m[\u001b[0m\u001b[0mcol_header\u001b[0m\u001b[1;33m]\u001b[0m\u001b[1;33m,\u001b[0m \u001b[0mdf_seed03_selection_down_fitness_global\u001b[0m\u001b[1;33m[\u001b[0m\u001b[0mcol_header\u001b[0m\u001b[1;33m]\u001b[0m\u001b[1;33m,\u001b[0m \u001b[0mdf_seed04_selection_down_fitness_global\u001b[0m\u001b[1;33m[\u001b[0m\u001b[0mcol_header\u001b[0m\u001b[1;33m]\u001b[0m\u001b[1;33m,\u001b[0m \u001b[0mdf_seed05_selection_down_fitness_global\u001b[0m\u001b[1;33m[\u001b[0m\u001b[0mcol_header\u001b[0m\u001b[1;33m]\u001b[0m\u001b[1;33m]\u001b[0m\u001b[1;33m,\u001b[0m \u001b[0maxis\u001b[0m\u001b[1;33m=\u001b[0m\u001b[1;36m1\u001b[0m\u001b[1;33m,\u001b[0m \u001b[0mkeys\u001b[0m\u001b[1;33m=\u001b[0m\u001b[0mseed_keys\u001b[0m\u001b[1;33m)\u001b[0m\u001b[1;33m\u001b[0m\u001b[1;33m\u001b[0m\u001b[0m\n",
      "\u001b[1;31mNameError\u001b[0m: name 'df_seed01_pop_down_fitness_global' is not defined"
     ]
    }
   ],
   "source": [
    "# Set up file writer for stat_fitness_global\n",
    "f = open(OUTPUT_ROOT_DIR+\"fitness_global/STATS-fitness_global.txt\",\"w\")\n",
    "\n",
    "# Get all of the generation numbers as a column\n",
    "df_means = pd.DataFrame(df_seed01_control_fitness_global['generation'].copy())\n",
    "df_perc_change = pd.DataFrame(df_seed01_control_fitness_global['generation'].copy())\n",
    "\n",
    "seed_keys = ['seed01', 'seed02', 'seed03', 'seed04', 'seed05']\n",
    "print(\"stat_fitness_global\")\n",
    "f.write(\"stat_fitness_global\")\n",
    "\n",
    "\n",
    "# For every column header in all of the fitness_global files\n",
    "for col_header in df_seed01_mutation_up_fitness_global.columns:\n",
    "    if col_header == 'generation':\n",
    "        continue\n",
    "    else:\n",
    "        print(\"\\t\"+col_header)\n",
    "        # Concatenate all five seeds for each condition to make calculating the mean easier \n",
    "        df_control_tmp = pd.concat([df_seed01_control_fitness_global[col_header], df_seed02_control_fitness_global[col_header], df_seed03_control_fitness_global[col_header], df_seed04_control_fitness_global[col_header], df_seed05_control_fitness_global[col_header]], axis=1, keys=seed_keys)\n",
    "        df_mut_up_tmp = pd.concat([df_seed01_mutation_up_fitness_global[col_header], df_seed02_mutation_up_fitness_global[col_header], df_seed03_mutation_up_fitness_global[col_header], df_seed04_mutation_up_fitness_global[col_header], df_seed05_mutation_up_fitness_global[col_header]], axis=1, keys=seed_keys)\n",
    "        df_mut_down_tmp = pd.concat([df_seed01_mutation_down_fitness_global[col_header], df_seed02_mutation_down_fitness_global[col_header], df_seed03_mutation_down_fitness_global[col_header], df_seed04_mutation_down_fitness_global[col_header], df_seed05_mutation_down_fitness_global[col_header]], axis=1, keys=seed_keys)\n",
    "        #df_pop_up_tmp = pd.concat([df_seed01_pop_up_fitness_global[col_header], df_seed02_pop_up_fitness_global[col_header], df_seed03_pop_up_fitness_global[col_header], df_seed04_pop_up_fitness_global[col_header], df_seed05_pop_up_fitness_global[col_header]], axis=1, keys=seed_keys)        \n",
    "        df_pop_down_tmp = pd.concat([df_seed01_pop_down_fitness_global[col_header], df_seed02_pop_down_fitness_global[col_header], df_seed03_pop_down_fitness_global[col_header], df_seed04_pop_down_fitness_global[col_header], df_seed05_pop_down_fitness_global[col_header]], axis=1, keys=seed_keys)\n",
    "        df_selection_up_tmp = pd.concat([df_seed01_selection_up_fitness_global[col_header], df_seed02_selection_up_fitness_global[col_header], df_seed03_selection_up_fitness_global[col_header], df_seed04_selection_up_fitness_global[col_header], df_seed05_selection_up_fitness_global[col_header]], axis=1, keys=seed_keys)\n",
    "        df_selection_down_tmp = pd.concat([df_seed01_selection_down_fitness_global[col_header], df_seed02_selection_down_fitness_global[col_header], df_seed03_selection_down_fitness_global[col_header], df_seed04_selection_down_fitness_global[col_header], df_seed05_selection_down_fitness_global[col_header]], axis=1, keys=seed_keys)\n",
    "        \n",
    "        # Calculate the mean across the seeds for each condition and also smooth the results with a rolling window        df_means['control'] = df_control_tmp.mean(axis=1).rolling(WINDOW_SIZE).mean()\n",
    "        df_means['control'] = df_control_tmp.mean(axis=1).rolling(WINDOW_SIZE).mean()\n",
    "        df_means['mut_up'] = df_mut_up_tmp.mean(axis=1).rolling(WINDOW_SIZE).mean()\n",
    "        df_means['mut_down'] = df_mut_down_tmp.mean(axis=1).rolling(WINDOW_SIZE).mean()\n",
    "        #df_means['pop_up'] = df_pop_up_tmp.mean(axis=1).rolling(WINDOW_SIZE).mean()\n",
    "        df_means['pop_down'] = df_pop_down_tmp.mean(axis=1).rolling(WINDOW_SIZE).mean()\n",
    "        df_means['selection_up'] = df_selection_up_tmp.mean(axis=1).rolling(WINDOW_SIZE).mean()\n",
    "        df_means['selection_down'] = df_selection_down_tmp.mean(axis=1).rolling(WINDOW_SIZE).mean()\n",
    "                \n",
    "        # Also calculate the percent change and add it to that DataFrame\n",
    "        df_perc_change['mut_up'] = 100*perc_diff(df_means['mut_up'], df_means['control'])\n",
    "        df_perc_change['mut_down'] = 100*perc_diff(df_means['mut_down'], df_means['control'])\n",
    "        #df_perc_change['pop_up'] = 100*perc_diff(df_means['pop_up'], df_means['control'])\n",
    "        df_perc_change['pop_down'] = 100*perc_diff(df_means['pop_down'], df_means['control'])\n",
    "        df_perc_change['selection_up'] = 100*perc_diff(df_means['selection_up'], df_means['control'])\n",
    "        df_perc_change['selection_down'] = 100*perc_diff(df_means['selection_down'], df_means['control'])\n",
    "        \n",
    "        # Plot all conditions to the figure\n",
    "        fig = plt.figure(figsize=(30,20))\n",
    "        ax = fig.add_subplot(111)\n",
    "        ax.set_title(\"stat_fitness_global \" + col_header, fontsize=32)\n",
    "        ax.set_xlabel(\"Generation\", fontsize=20)\n",
    "        ax.set_ylabel(col_header, fontsize=20)\n",
    "        df_means.plot(x='generation', y='control', label='control', ax=ax)\n",
    "        df_means.plot(x='generation', y='mut_up', label='mut_up', ax=ax)\n",
    "        df_means.plot(x='generation', y='mut_down', label='mut_down', ax=ax)\n",
    "        #df_means.plot(x='generation', y='pop_up', label='pop_up', ax=ax)\n",
    "        df_means.plot(x='generation', y='pop_down', label='pop_down', ax=ax)\n",
    "        df_means.plot(x='generation', y='selection_up', label='selection_up', ax=ax)\n",
    "        df_means.plot(x='generation', y='selection_down', label='selection_down', ax=ax)\n",
    "        \n",
    "        fig.savefig(OUTPUT_ROOT_DIR+\"fitness_global/stat_fitness_global_mean_\"+col_header+\".png\")\n",
    "        fig.clear()\n",
    "        plt.close(fig)\n",
    "        \n",
    "        # Also create a new figure for the percent change\n",
    "        fig = plt.figure(figsize=(30,20))\n",
    "        ax = fig.add_subplot(111)\n",
    "        ax.set_title(\"Percent Change - stat_fitness_global \" + col_header, fontsize=32)\n",
    "        ax.set_xlabel(\"Generation\", fontsize=20)\n",
    "        ax.set_ylabel(col_header, fontsize=20)\n",
    "        \n",
    "        # Plot all conditions\n",
    "        df_perc_change.plot(x='generation', y='mut_up', label='mut_up', ax=ax)\n",
    "        df_perc_change.plot(x='generation', y='mut_down', label='mut_down', ax=ax)\n",
    "        #df_perc_change.plot(x='generation', y='pop_up', label='pop_up', ax=ax)\n",
    "        df_perc_change.plot(x='generation', y='pop_down', label='pop_down', ax=ax)\n",
    "        df_perc_change.plot(x='generation', y='selection_up', label='selection_up', ax=ax)\n",
    "        df_perc_change.plot(x='generation', y='selection_down', label='selection_down', ax=ax)\n",
    "        \n",
    "        # Save the figure\n",
    "        fig.savefig(OUTPUT_ROOT_DIR +\"fitness_global/perc_change/stat_fitness_perc_change_\"+col_header+\".png\")\n",
    "        fig.clear()\n",
    "        plt.close(fig)\n",
    "        \n",
    "        # Calculate the Mann-Whitney test for all conditions vs. the control condition. \n",
    "        rank_sum_control, p_control = stats.mannwhitneyu(df_means['control'], df_means['control'])\n",
    "        rank_sum_mut_up, p_mut_up = stats.mannwhitneyu(df_means['control'], df_means['mut_up'])\n",
    "        rank_sum_mut_down, p_mut_down = stats.mannwhitneyu(df_means['control'], df_means['mut_down'])\n",
    "        rank_sum_selection_up, p_selection_up = stats.mannwhitneyu(df_means['control'], df_means['selection_up'])\n",
    "        rank_sum_selection_down, p_selection_down = stats.mannwhitneyu(df_means['control'], df_means['selection_down'])\n",
    "        #rank_sum_population_up, p_population_up = stats.mannwhitneyu(df_means['control'], df_means['pop_up'])\n",
    "        rank_sum_population_down, p_population_down = stats.mannwhitneyu(df_means['control'], df_means['pop_down'])\n",
    "\n",
    "\n",
    "        # Print out the results of the Mann-Whitney tests\n",
    "        f.write(LINE)\n",
    "        f.write(\"\\n\\t\\t\\t\\t\"+col_header)\n",
    "        f.write(\"\\n\\t\\t\\trank sum\\t\\tp-value\\n\")\n",
    "        f.write(LINE)\n",
    "        f.write(\"\\nControl \\t\\t\" + str(rank_sum_control) + \"\\t%.15f\" %p_control)\n",
    "        f.write(\"\\nMutation Up \\t\\t\" + str(rank_sum_mut_up) + \"\\t%.15f\" %p_mut_up)\n",
    "        f.write(\"\\nMutation Down \\t\\t\" + str(rank_sum_mut_down) + \"\\t%.15f\" %p_mut_down)\n",
    "        #f.write(\"\\nPopulation Up \\t\" + str(rank_sum_population_up) + \"\\t%.15f\" %p_pop_up)\n",
    "        f.write(\"\\nPopulation Down \\t\" + str(rank_sum_population_down) + \"\\t%.15f\" %p_population_down)\n",
    "        f.write(\"\\nSelection Up \\t\" + str(rank_sum_selection_up) + \"\\t%.15f\" %p_selection_up)\n",
    "        #f.write(\"\\nSelection Down \\t\" + str(rank_sum_selection_down) + \"\\t%.15f\" %p_selection_down)\n",
    "        f.write(\"\\n\"+LINE+\"\\n\")\n",
    "        \n",
    "        # Calculate the mean and standard deviation and output them to the stats file\n",
    "        f.write(\"\\t\\t\\tmean\\t\\t\\tstandard deviation\\n\" + LINE + \"\\n\")\n",
    "        f.write(\"Control:\\t\" + str(df_means['control'].mean()) + \"\\t\" + str(df_means['control'].std()))\n",
    "        f.write(\"Mutation up:\\t\" + str(df_means['mut_up'].mean()) + \"\\t\" + str(df_means['mut_up'].std()))\n",
    "        f.write(\"Mutation down:\\t\" + str(df_means['mut_down'].mean()) + \"\\t\" + str(df_means['mut_down'].std()))\n",
    "        f.write(\"Selection up:\\t\" + str(df_means['selection_up'].mean()) + \"\\t\" + str(df_means['selection_up'].std()))\n",
    "        f.write(\"Selection down:\\t\" + str(df_means['selection_down'].mean()) + \"\\t\" + str(df_means['selection_down'].std()))\n",
    "        f.write(\"Population up:\\t\" + str(df_means['pop_up'].mean()) + \"\\t\" + str(df_means['pop_up'].std()))\n",
    "        f.write(\"Population down:\\t\" + str(df_means['pop_down'].mean()) + \"\\t\" + str(df_means['pop_down'].std()))\n",
    "        f.write(\"\\n\\n\\n\")\n",
    "\n",
    "plt.close('all')\n",
    "f.close()\n",
    "print(\"Graphing of stat_fitness_global complete!\")\n",
    "\n"
   ]
  },
  {
   "cell_type": "markdown",
   "metadata": {},
   "source": [
    "### Delete unneeded DataFrames"
   ]
  },
  {
   "cell_type": "code",
   "execution_count": 7,
   "metadata": {},
   "outputs": [
    {
     "name": "stdout",
     "output_type": "stream",
     "text": [
      "Deleting unneeded DataFrames\n"
     ]
    },
    {
     "ename": "NameError",
     "evalue": "name 'df_pop_down_tmp' is not defined",
     "output_type": "error",
     "traceback": [
      "\u001b[1;31m---------------------------------------------------------------------------\u001b[0m",
      "\u001b[1;31mNameError\u001b[0m                                 Traceback (most recent call last)",
      "\u001b[1;32m<ipython-input-7-0f8932b3f7a1>\u001b[0m in \u001b[0;36m<module>\u001b[1;34m\u001b[0m\n\u001b[0;32m      1\u001b[0m \u001b[1;31m# Delete the DataFrames that are no longer needed\u001b[0m\u001b[1;33m\u001b[0m\u001b[1;33m\u001b[0m\u001b[1;33m\u001b[0m\u001b[0m\n\u001b[0;32m      2\u001b[0m \u001b[0mprint\u001b[0m \u001b[1;33m(\u001b[0m\u001b[1;34m\"Deleting unneeded DataFrames\"\u001b[0m\u001b[1;33m)\u001b[0m\u001b[1;33m\u001b[0m\u001b[1;33m\u001b[0m\u001b[0m\n\u001b[1;32m----> 3\u001b[1;33m \u001b[1;32mdel\u001b[0m \u001b[0mdf_means\u001b[0m\u001b[1;33m,\u001b[0m \u001b[0mdf_control_tmp\u001b[0m\u001b[1;33m,\u001b[0m \u001b[0mdf_mut_up_tmp\u001b[0m\u001b[1;33m,\u001b[0m \u001b[0mdf_mut_down_tmp\u001b[0m\u001b[1;33m,\u001b[0m \u001b[0mdf_pop_down_tmp\u001b[0m\u001b[1;33m,\u001b[0m \u001b[0mdf_selection_up_tmp\u001b[0m\u001b[1;33m,\u001b[0m \u001b[0mdf_selection_down_tmp\u001b[0m \u001b[1;31m#<- Delete until mut_down!!! df_pop_up_mp, df_pop_down_tmp, df_selection_up_tmp, df_selection_down_tmp\u001b[0m\u001b[1;33m\u001b[0m\u001b[1;33m\u001b[0m\u001b[0m\n\u001b[0m\u001b[0;32m      4\u001b[0m \u001b[1;32mdel\u001b[0m \u001b[0mdf_seed01_control_fitness_global\u001b[0m\u001b[1;33m,\u001b[0m \u001b[0mdf_seed02_control_fitness_global\u001b[0m\u001b[1;33m,\u001b[0m \u001b[0mdf_seed03_control_fitness_global\u001b[0m\u001b[1;33m,\u001b[0m \u001b[0mdf_seed04_control_fitness_global\u001b[0m\u001b[1;33m,\u001b[0m \u001b[0mdf_seed05_control_fitness_global\u001b[0m\u001b[1;33m\u001b[0m\u001b[1;33m\u001b[0m\u001b[0m\n\u001b[0;32m      5\u001b[0m \u001b[1;32mdel\u001b[0m \u001b[0mdf_seed01_mutation_up_fitness_global\u001b[0m\u001b[1;33m,\u001b[0m \u001b[0mdf_seed02_mutation_up_fitness_global\u001b[0m\u001b[1;33m,\u001b[0m \u001b[0mdf_seed03_mutation_up_fitness_global\u001b[0m\u001b[1;33m,\u001b[0m \u001b[0mdf_seed04_mutation_up_fitness_global\u001b[0m\u001b[1;33m,\u001b[0m \u001b[0mdf_seed05_mutation_up_fitness_global\u001b[0m\u001b[1;33m\u001b[0m\u001b[1;33m\u001b[0m\u001b[0m\n",
      "\u001b[1;31mNameError\u001b[0m: name 'df_pop_down_tmp' is not defined"
     ]
    }
   ],
   "source": [
    "# Delete the DataFrames that are no longer needed\n",
    "print (\"Deleting unneeded DataFrames\")\n",
    "del df_means, df_control_tmp, df_mut_up_tmp, df_mut_down_tmp, df_pop_down_tmp, df_selection_up_tmp, df_selection_down_tmp #<- Delete until mut_down!!! df_pop_up_mp, df_pop_down_tmp, df_selection_up_tmp, df_selection_down_tmp\n",
    "del df_seed01_control_fitness_global, df_seed02_control_fitness_global, df_seed03_control_fitness_global, df_seed04_control_fitness_global, df_seed05_control_fitness_global\n",
    "del df_seed01_mutation_up_fitness_global, df_seed02_mutation_up_fitness_global, df_seed03_mutation_up_fitness_global, df_seed04_mutation_up_fitness_global, df_seed05_mutation_up_fitness_global\n",
    "del df_seed01_mutation_down_fitness_global, df_seed02_mutation_down_fitness_global, df_seed03_mutation_down_fitness_global, df_seed04_mutation_down_fitness_global, df_seed05_mutation_down_fitness_global\n",
    "del df_seed01_selection_up_fitness_global, df_seed02_selection_up_fitness_global, df_seed03_selection_up_fitness_global, df_seed04_selection_up_fitness_global, df_seed05_selection_up_fitness_global\n",
    "del df_seed01_selection_down_fitness_global, df_seed02_selection_down_fitness_global, df_seed03_selection_down_fitness_global, df_seed04_selection_down_fitness_global, df_seed05_selection_down_fitness_global\n",
    "#del df_seed01_pop_up_fitness_global, df_seed02_pop_up_fitness_global, df_seed03_pop_up_fitness_global, df_seed04_pop_up_fitness_global, df_seed05_pop_up_fitness_global\n",
    "del df_seed01_pop_down_fitness_global, df_seed02_pop_down_fitness_global, df_seed03_pop_down_fitness_global, df_seed04_pop_down_fitness_global, df_seed05_pop_down_fitness_global\n",
    "print(\"Done\")"
   ]
  },
  {
   "cell_type": "markdown",
   "metadata": {},
   "source": [
    "<a id='stat_genes_global_read'></a>"
   ]
  },
  {
   "cell_type": "markdown",
   "metadata": {},
   "source": [
    "# stat_genes_global\n",
    "\n",
    "## Read in the data"
   ]
  },
  {
   "cell_type": "code",
   "execution_count": 9,
   "metadata": {},
   "outputs": [
    {
     "name": "stdout",
     "output_type": "stream",
     "text": [
      "Reading in stat_genes_global\n",
      "done.\n"
     ]
    }
   ],
   "source": [
    "print(\"Reading in stat_genes_global\")\n",
    "\n",
    "\n",
    "# STAT_GENES_BEST\n",
    "genes_global_names = ['generation', 'num_coding_RNAs', 'num_non-coding_RNAs', 'avg_size_of_coding_RNAs', 'avg_size_of_non-coding_RNAs', 'num_functional_genes', 'num_non-functional_genes', 'avg_size_of_functional_genes', 'avg_size_of_non-functional_genes']\n",
    "\n",
    "# Control\n",
    "df_seed01_control_genes_global = read_genes(INPUT_ROOT_DIR + \"seed01//control//stats//stat_genes_glob.out\")\n",
    "df_seed02_control_genes_global = read_genes(INPUT_ROOT_DIR + \"seed02//control//stats//stat_genes_glob.out\")\n",
    "df_seed03_control_genes_global = read_genes(INPUT_ROOT_DIR + \"seed03//control//stats//stat_genes_glob.out\")\n",
    "df_seed04_control_genes_global = read_genes(INPUT_ROOT_DIR + \"seed04//control//stats//stat_genes_glob.out\")\n",
    "df_seed05_control_genes_global = read_genes(INPUT_ROOT_DIR + \"seed05//control//stats//stat_genes_glob.out\")\n",
    "\n",
    "# Mutation Up\n",
    "df_seed01_mutation_up_genes_global = read_genes(INPUT_ROOT_DIR + \"seed01//mut_up//stats//stat_genes_glob.out\")\n",
    "df_seed02_mutation_up_genes_global = read_genes(INPUT_ROOT_DIR + \"seed02//mut_up//stats//stat_genes_glob.out\")\n",
    "df_seed03_mutation_up_genes_global = read_genes(INPUT_ROOT_DIR + \"seed03//mut_up//stats//stat_genes_glob.out\")\n",
    "df_seed04_mutation_up_genes_global = read_genes(INPUT_ROOT_DIR + \"seed04//mut_up//stats//stat_genes_glob.out\")\n",
    "df_seed05_mutation_up_genes_global = read_genes(INPUT_ROOT_DIR + \"seed05//mut_up//stats//stat_genes_glob.out\")\n",
    "\n",
    "# Mutation Down\n",
    "df_seed01_mutation_down_genes_global = read_genes(INPUT_ROOT_DIR + \"seed01//mut_down//stats//stat_genes_glob.out\")\n",
    "df_seed02_mutation_down_genes_global = read_genes(INPUT_ROOT_DIR + \"seed02//mut_down//stats//stat_genes_glob.out\")\n",
    "df_seed03_mutation_down_genes_global = read_genes(INPUT_ROOT_DIR + \"seed03//mut_down//stats//stat_genes_glob.out\")\n",
    "df_seed04_mutation_down_genes_global = read_genes(INPUT_ROOT_DIR + \"seed04//mut_down//stats//stat_genes_glob.out\")\n",
    "df_seed05_mutation_down_genes_global = read_genes(INPUT_ROOT_DIR + \"seed05//mut_down//stats//stat_genes_glob.out\")\n",
    "\n",
    "# Selection Up\n",
    "df_seed01_selection_up_genes_global = read_genes(INPUT_ROOT_DIR + \"seed01//selection_up//stats//stat_genes_glob.out\")\n",
    "df_seed02_selection_up_genes_global = read_genes(INPUT_ROOT_DIR + \"seed02//selection_up//stats//stat_genes_glob.out\")\n",
    "df_seed03_selection_up_genes_global = read_genes(INPUT_ROOT_DIR + \"seed03//selection_up//stats//stat_genes_glob.out\")\n",
    "df_seed04_selection_up_genes_global = read_genes(INPUT_ROOT_DIR + \"seed04//selection_up//stats//stat_genes_glob.out\")\n",
    "df_seed05_selection_up_genes_global = read_genes(INPUT_ROOT_DIR + \"seed05//selection_up//stats//stat_genes_glob.out\")\n",
    "\n",
    "# Selection Down\n",
    "df_seed01_selection_down_genes_global = read_genes(INPUT_ROOT_DIR + \"seed01//selection_down//stats//stat_genes_glob.out\")\n",
    "df_seed02_selection_down_genes_global = read_genes(INPUT_ROOT_DIR + \"seed02//selection_down//stats//stat_genes_glob.out\")\n",
    "df_seed03_selection_down_genes_global = read_genes(INPUT_ROOT_DIR + \"seed03//selection_down//stats//stat_genes_glob.out\")\n",
    "df_seed04_selection_down_genes_global = read_genes(INPUT_ROOT_DIR + \"seed04//selection_down//stats//stat_genes_glob.out\")\n",
    "df_seed05_selection_down_genes_global = read_genes(INPUT_ROOT_DIR + \"seed05//selection_down//stats//stat_genes_glob.out\")\n",
    "\n",
    "# Population Up\n",
    "#df_seed01_pop_up_genes_global = read_genes(INPUT_ROOT_DIR + \"seed01//pop_up//stats//stat_genes_glob.out\")\n",
    "#df_seed02_pop_up_genes_global = read_genes(INPUT_ROOT_DIR + \"seed02//pop_up//stats//stat_genes_glob.out\")\n",
    "#df_seed03_pop_up_genes_global = read_genes(INPUT_ROOT_DIR + \"seed03//pop_up//stats//stat_genes_glob.out\")\n",
    "#df_seed04_pop_up_genes_global = read_genes(INPUT_ROOT_DIR + \"seed04//pop_up//stats//stat_genes_glob.out\")\n",
    "#df_seed05_pop_up_genes_global = read_genes(INPUT_ROOT_DIR + \"seed05//pop_up//stats//stat_genes_glob.out\")\n",
    "\n",
    "# Population Down\n",
    "df_seed01_pop_down_genes_global = read_genes(INPUT_ROOT_DIR + \"seed01//pop_down//stats//stat_genes_glob.out\")\n",
    "df_seed02_pop_down_genes_global = read_genes(INPUT_ROOT_DIR + \"seed02//pop_down//stats//stat_genes_glob.out\")\n",
    "df_seed03_pop_down_genes_global = read_genes(INPUT_ROOT_DIR + \"seed03//pop_down//stats//stat_genes_glob.out\")\n",
    "df_seed04_pop_down_genes_global = read_genes(INPUT_ROOT_DIR + \"seed04//pop_down//stats//stat_genes_glob.out\")\n",
    "df_seed05_pop_down_genes_global = read_genes(INPUT_ROOT_DIR + \"seed05//pop_down//stats//stat_genes_glob.out\")\n",
    "\n",
    "print(\"done.\")"
   ]
  },
  {
   "cell_type": "markdown",
   "metadata": {},
   "source": [
    "<a id='stat_genes_global_graph'></a>"
   ]
  },
  {
   "cell_type": "markdown",
   "metadata": {},
   "source": [
    "## Graph results of stat_genes_global"
   ]
  },
  {
   "cell_type": "code",
   "execution_count": 10,
   "metadata": {},
   "outputs": [
    {
     "name": "stdout",
     "output_type": "stream",
     "text": [
      "stat_genes_global\n",
      "\tnum_coding_RNAs\n",
      "\tnum_non-coding_RNAs\n",
      "\tavg_size_of_coding_RNAs\n",
      "\tavg_size_of_non-coding_RNAs\n",
      "\tnum_functional_genes\n",
      "\tnum_non-functional_genes\n",
      "\tavg_size_of_functional_genes\n",
      "\tavg_size_of_non-functional_genes\n",
      "Graphing of stat_genes_global complete!\n"
     ]
    }
   ],
   "source": [
    "f = open(OUTPUT_ROOT_DIR+\"genes_global/STATS-genes_global.txt\",\"w\")\n",
    "\n",
    "# Get all of the generation numbers as a column\n",
    "df_means = pd.DataFrame(df_seed01_control_genes_global['generation'].copy())\n",
    "df_perc_change = pd.DataFrame(df_seed01_control_genes_global['generation'].copy())\n",
    "seed_keys = ['seed01','seed02', 'seed03', 'seed04', 'seed05']\n",
    "\n",
    "print(\"stat_genes_global\")\n",
    "f.write(\"stat_genes_global\\n\")\n",
    "\n",
    "# For every column header in all of the genes_global files\n",
    "for col_header in df_seed01_mutation_up_genes_global.columns:\n",
    "    if col_header == 'generation':\n",
    "        continue\n",
    "    else:\n",
    "        print(\"\\t\"+col_header)\n",
    "        # Concatenate all five seeds for each condition to make calculating the mean easier \n",
    "        df_control_tmp = pd.concat([df_seed01_control_genes_global[col_header], df_seed02_control_genes_global[col_header], df_seed03_control_genes_global[col_header], df_seed04_control_genes_global[col_header], df_seed05_control_genes_global[col_header]], axis=1, keys=seed_keys)\n",
    "        df_mut_up_tmp = pd.concat([df_seed01_mutation_up_genes_global[col_header], df_seed02_mutation_up_genes_global[col_header], df_seed03_mutation_up_genes_global[col_header], df_seed04_mutation_up_genes_global[col_header], df_seed05_mutation_up_genes_global[col_header]], axis=1, keys=seed_keys)\n",
    "        df_mut_down_tmp = pd.concat([df_seed01_mutation_down_genes_global[col_header], df_seed02_mutation_down_genes_global[col_header], df_seed03_mutation_down_genes_global[col_header], df_seed04_mutation_down_genes_global[col_header], df_seed05_mutation_down_genes_global[col_header]], axis=1, keys=seed_keys)\n",
    "        #df_pop_up_tmp = pd.concat([df_seed01_pop_up_genes_global[col_header], df_seed02_pop_up_genes_global[col_header], df_seed03_pop_up_genes_global[col_header], df_seed04_pop_up_genes_global[col_header], df_seed05_pop_up_genes_global[col_header]], axis=1, keys=seed_keys)        \n",
    "        df_pop_down_tmp = pd.concat([df_seed01_pop_down_genes_global[col_header], df_seed02_pop_down_genes_global[col_header], df_seed03_pop_down_genes_global[col_header], df_seed04_pop_down_genes_global[col_header], df_seed05_pop_down_genes_global[col_header]], axis=1, keys=seed_keys)\n",
    "        df_selection_up_tmp = pd.concat([df_seed01_selection_up_genes_global[col_header], df_seed02_selection_up_genes_global[col_header], df_seed03_selection_up_genes_global[col_header],df_seed04_selection_up_genes_global[col_header]], axis=1, keys=seed_keys) # df_seed05_selection_up_genes_global[col_header]], axis=1, keys=seed_keys)\n",
    "        df_selection_down_tmp = pd.concat([df_seed01_selection_down_genes_global[col_header], df_seed02_selection_down_genes_global[col_header], df_seed03_selection_down_genes_global[col_header]], axis=1, keys=seed_keys)# df_seed04_selection_down_genes_global[col_header]], axis=1, keys=seed_keys)# df_seed05_selection_down_genes_global[col_header]], axis=1, keys=seed_keys)\n",
    "        \n",
    "        # Calculate the mean across the seeds for each condition and also smooth the results with a rolling window        df_means['control'] = df_control_tmp.mean(axis=1).rolling(WINDOW_SIZE).mean()\n",
    "        df_means['control'] = df_control_tmp.mean(axis=1).rolling(WINDOW_SIZE).mean()\n",
    "        df_means['mut_up'] = df_mut_up_tmp.mean(axis=1).rolling(WINDOW_SIZE).mean()\n",
    "        df_means['mut_down'] = df_mut_down_tmp.mean(axis=1).rolling(WINDOW_SIZE).mean()\n",
    "        #df_means['pop_up'] = df_pop_up_tmp.mean(axis=1).rolling(WINDOW_SIZE).mean()\n",
    "        df_means['pop_down'] = df_pop_down_tmp.mean(axis=1).rolling(WINDOW_SIZE).mean()\n",
    "        df_means['selection_up'] = df_selection_up_tmp.mean(axis=1).rolling(WINDOW_SIZE).mean()\n",
    "        df_means['selection_down'] = df_selection_down_tmp.mean(axis=1).rolling(WINDOW_SIZE).mean()\n",
    "               \n",
    "        # Also calculate the percent change and add it to that DataFrame\n",
    "        df_perc_change['mut_up'] = 100*perc_diff(df_means['mut_up'], df_means['control'])\n",
    "        df_perc_change['mut_down'] = 100*perc_diff(df_means['mut_down'], df_means['control'])\n",
    "        #df_perc_change['pop_up'] = 100*perc_diff(df_means['pop_up'], df_means['control'])\n",
    "        df_perc_change['pop_down'] = 100*perc_diff(df_means['pop_down'], df_means['control'])\n",
    "        df_perc_change['selection_up'] = 100*perc_diff(df_means['selection_up'], df_means['control'])\n",
    "        df_perc_change['selection_down'] = 100*perc_diff(df_means['selection_down'], df_means['control'])\n",
    "        \n",
    "        # Plot all conditions to the figure\n",
    "        fig = plt.figure(figsize=(30,20))\n",
    "        ax = fig.add_subplot(111)\n",
    "        ax.set_title(\"stat_genes_global \"+ col_header, fontsize=32)\n",
    "        ax.set_xlabel(\"Generation\", fontsize=20)\n",
    "        ax.set_ylabel(col_header, fontsize=20)\n",
    "        df_means.plot(x='generation', y='control', label='control', ax=ax)\n",
    "        df_means.plot(x='generation', y='mut_up', label='mut_up', ax=ax)\n",
    "        df_means.plot(x='generation', y='mut_down', label='mut_down', ax=ax)\n",
    "        #df_means.plot(x='generation', y='pop_up', label='pop_up', ax=ax)\n",
    "        df_means.plot(x='generation', y='pop_down', label='pop_down', ax=ax)\n",
    "        df_means.plot(x='generation', y='selection_up', label='selection_up', ax=ax)\n",
    "        df_means.plot(x='generation', y='selection_down', label='selection_down', ax=ax)\n",
    "        \n",
    "        fig.savefig(OUTPUT_ROOT_DIR+\"genes_global/stat_genes_global_mean_\"+col_header+\".png\")\n",
    "        fig.clear()\n",
    "        plt.close(fig)\n",
    "        \n",
    "        # Also create a new figure for the percent change\n",
    "        fig = plt.figure(figsize=(30,20))\n",
    "        ax = fig.add_subplot(111)\n",
    "        ax.set_title(\"Percent Change - \" + col_header, fontsize=32)\n",
    "        ax.set_xlabel(\"Generation\", fontsize=20)\n",
    "        ax.set_ylabel(col_header, fontsize=20)\n",
    "        \n",
    "        # Plot all conditions\n",
    "        df_perc_change.plot(x='generation', y='mut_up', label='mut_up', ax=ax)\n",
    "        df_perc_change.plot(x='generation', y='mut_down', label='mut_down', ax=ax)\n",
    "        #df_perc_change.plot(x='generation', y='pop_up', label='pop_up', ax=ax)\n",
    "        df_perc_change.plot(x='generation', y='pop_down', label='pop_down', ax=ax)\n",
    "        df_perc_change.plot(x='generation', y='selection_up', label='selection_up', ax=ax)\n",
    "        df_perc_change.plot(x='generation', y='selection_down', label='selection_down', ax=ax)\n",
    "        \n",
    "        # Save the figure\n",
    "        fig.savefig(OUTPUT_ROOT_DIR +\"genes_global/perc_change/stat_genes_global_perc_change_\"+col_header+\".png\")\n",
    "        fig.clear()\n",
    "        plt.close(fig)\n",
    "        \n",
    "        # Calculate the Mann-Whitney test for all conditions vs. the control condition. \n",
    "        rank_sum_control, p_control = stats.mannwhitneyu(df_means['control'], df_means['control'])\n",
    "        rank_sum_mut_up, p_mut_up = stats.mannwhitneyu(df_means['control'], df_means['mut_up'])\n",
    "        rank_sum_mut_down, p_mut_down = stats.mannwhitneyu(df_means['control'], df_means['mut_down'])\n",
    "        #rank_sum_selection_up, p_selection_up = stats.mannwhitneyu(df_means['control'], df_means['selection_up'])\n",
    "        #rank_sum_selection_down, p_selection_down = stats.mannwhitneyu(df_means['control'], df_means['selection_down'])\n",
    "        #rank_sum_population_up, p_population_up = stats.mannwhitneyu(df_means['control'], df_means['pop_up'])\n",
    "        rank_sum_population_down, p_population_down = stats.mannwhitneyu(df_means['control'], df_means['pop_down'])\n",
    "\n",
    "\n",
    "        # Print out the results of the Mann-Whitney tests\n",
    "        f.write(LINE)\n",
    "        f.write(\"\\n\\t\\t\\t\\t\"+col_header)\n",
    "        f.write(\"\\n\\t\\t\\trank sum\\t\\tp-value\\n\")\n",
    "        f.write(LINE)\n",
    "        f.write(\"\\nControl \\t\\t\" + str(rank_sum_control) + \"\\t%.15f\" %p_control)\n",
    "        f.write(\"\\nMutation Up \\t\\t\" + str(rank_sum_mut_up) + \"\\t%.15f\" %p_mut_up)\n",
    "        f.write(\"\\nMutation Down \\t\\t\" + str(rank_sum_mut_down) + \"\\t%.15f\" %p_mut_down)\n",
    "        #f.write(\"\\nPopulation Up \\t\" + str(rank_sum_population_up) + \"\\t%.15f\" %p_pop_up)\n",
    "        f.write(\"\\nPopulation Down \\t\" + str(rank_sum_population_down) + \"\\t%.15f\" %p_population_down)\n",
    "        #f.write(\"\\nSelection Up \\t\" + str(rank_sum_selection_up) + \"\\t%.15f\" %p_selection_up)\n",
    "        #f.write(\"\\nSelection Down \\t\" + str(rank_sum_selection_down) + \"\\t%.15f\" %p_selection_down)\n",
    "        f.write(\"\\n\"+LINE+\"\\n\")\n",
    "        \n",
    "        # Print out the mean and standard deviation for each statistic\n",
    "        f.write(\"\\t\\t\\tmean\\t\\t\\tstandard deviation\\n\" + LINE + \"\\n\")\n",
    "        f.write(\"Control:\\t\" + str(df_means['control'].mean()) + \"\\t\" + str(df_means['control'].std()))\n",
    "        f.write(\"\\nMutation up:\\t\" + str(df_means['mut_up'].mean()) + \"\\t\" + str(df_means['mut_up'].std()))\n",
    "        f.write(\"\\nMutation down:\\t\" + str(df_means['mut_down'].mean()) + \"\\t\" + str(df_means['mut_down'].std()))\n",
    "        f.write(\"\\nSelection up:\\t\" + str(df_means['selection_up'].mean()) + \"\\t\" + str(df_means['selection_up'].std()))\n",
    "        f.write(\"\\nSelection down:\\t\" + str(df_means['selection_down'].mean()) + \"\\t\" + str(df_means['selection_down'].std()))\n",
    "        #f.write(\"\\nPopulation up:\\t\" + str(df_means['pop_up'].mean()) + \"\\t\" + str(df_means['pop_up'].std()))\n",
    "        f.write(\"\\nPopulation down:\\t\" + str(df_means['pop_down'].mean()) + \"\\t\" + str(df_means['pop_down'].std()))\n",
    "        f.write(\"\\n\\n\\n\")\n",
    "        \n",
    "plt.close('all') \n",
    "f.close()\n",
    "print(\"Graphing of stat_genes_global complete!\")"
   ]
  },
  {
   "cell_type": "markdown",
   "metadata": {},
   "source": [
    "### Delete unneeded DataFrames"
   ]
  },
  {
   "cell_type": "code",
   "execution_count": 10,
   "metadata": {},
   "outputs": [
    {
     "name": "stdout",
     "output_type": "stream",
     "text": [
      "Deleting unneeded DataFrames\n",
      "Done\n"
     ]
    }
   ],
   "source": [
    "# Delete the DataFrames that are no longer needed\n",
    "print (\"Deleting unneeded DataFrames\")\n",
    "del df_means, df_control_tmp, df_mut_up_tmp, df_mut_down_tmp, df_pop_down_tmp, df_selection_up_tmp, df_selection_down_tmp #<- Delete until mut_down!!! df_pop_up_mp, df_pop_down_tmp, df_selection_up_tmp, df_selection_down_tmp\n",
    "del df_seed01_control_genes_global, df_seed02_control_genes_global, df_seed03_control_genes_global, df_seed04_control_genes_global, df_seed05_control_genes_global\n",
    "del df_seed01_mutation_up_genes_global, df_seed02_mutation_up_genes_global, df_seed03_mutation_up_genes_global, df_seed04_mutation_up_genes_global, df_seed05_mutation_up_genes_global\n",
    "del df_seed01_mutation_down_genes_global, df_seed02_mutation_down_genes_global, df_seed03_mutation_down_genes_global, df_seed04_mutation_down_genes_global, df_seed05_mutation_down_genes_global\n",
    "#del df_seed01_selection_up_genes_global, df_seed02_selection_up_genes_global, df_seed03_selection_up_genes_global, df_seed04_selection_up_genes_global, df_seed05_selection_up_genes_global\n",
    "#del df_seed01_selection_down_genes_global, df_seed02_selection_down_genes_global, df_seed03_selection_down_genes_global, df_seed04_selection_down_genes_global, df_seed05_selection_down_genes_global\n",
    "#del df_seed01_pop_up_genes_global, df_seed02_pop_up_genes_global, df_seed03_pop_up_genes_global, df_seed04_pop_up_genes_global, df_seed05_pop_up_genes_global\n",
    "del df_seed01_pop_down_genes_global, df_seed02_pop_down_genes_global, df_seed03_pop_down_genes_global, df_seed04_pop_down_genes_global, df_seed05_pop_down_genes_global\n",
    "print(\"Done\")"
   ]
  },
  {
   "cell_type": "code",
   "execution_count": null,
   "metadata": {},
   "outputs": [],
   "source": []
  },
  {
   "cell_type": "code",
   "execution_count": null,
   "metadata": {},
   "outputs": [],
   "source": []
  }
 ],
 "metadata": {
  "kernelspec": {
   "display_name": "Python 3",
   "language": "python",
   "name": "python3"
  },
  "language_info": {
   "codemirror_mode": {
    "name": "ipython",
    "version": 3
   },
   "file_extension": ".py",
   "mimetype": "text/x-python",
   "name": "python",
   "nbconvert_exporter": "python",
   "pygments_lexer": "ipython3",
   "version": "3.7.4"
  }
 },
 "nbformat": 4,
 "nbformat_minor": 2
}
