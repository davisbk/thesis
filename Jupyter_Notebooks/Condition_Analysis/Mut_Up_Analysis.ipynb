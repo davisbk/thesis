{
 "cells": [
  {
   "cell_type": "markdown",
   "metadata": {},
   "source": [
    "# Mutation Up Analysis\n",
    "\n",
    "In this Jupyter notebook, the individual seeds for each test (e.g. genome size, number of non-coding bases, etc.) is graphed out, along with the control condition for comparison.\n"
   ]
  },
  {
   "cell_type": "code",
   "execution_count": 1,
   "metadata": {},
   "outputs": [
    {
     "name": "stdout",
     "output_type": "stream",
     "text": [
      "Setting up environment...\n",
      "done.\n"
     ]
    }
   ],
   "source": [
    "import pandas as pd\n",
    "import matplotlib.pyplot as plt\n",
    "import numpy as np\n",
    "import os\n",
    "import gc\n",
    "from scipy import stats\n",
    "from functools import reduce\n",
    "from MyFunctions import read_fitness, read_bp, read_genes, read_robustness, perc_diff, name, mean_format, rank_sum_format, cond_color, seed_color, my_y_label\n",
    "\n",
    "# Laptop\n",
    "#INPUT_ROOT_DIR = \"C://Users//davis//Dropbox//Freiburg Masters Semesters//Thesis//Results//Round02//\"\n",
    "\n",
    "# Desktop\n",
    "INPUT_ROOT_DIR = \"D://Dropbox_New//Dropbox//Freiburg Masters Semesters//Thesis//Results//Round02//\"\n",
    "\n",
    "OUTPUT_ROOT_DIR = INPUT_ROOT_DIR + \"analysis//mut_up_analysis//\"\n",
    "WINDOW_SIZE = 10000\n",
    "GENOME_WINDOW_SIZE = 5000\n",
    "\n",
    "print (\"Setting up environment...\")\n",
    "# Make sure that the output directories exist and create them if not\n",
    "if not os.path.exists(OUTPUT_ROOT_DIR):\n",
    "    os.makedirs(OUTPUT_ROOT_DIR)\n",
    "    \n",
    "# stat_fitness_global\n",
    "if not os.path.exists(OUTPUT_ROOT_DIR + \"fitness_global//\"):\n",
    "    os.makedirs(OUTPUT_ROOT_DIR + \"fitness_global//\")\n",
    "    \n",
    "# stat_genes_global\n",
    "if not os.path.exists(OUTPUT_ROOT_DIR + \"genes_global//\"):\n",
    "    os.makedirs(OUTPUT_ROOT_DIR + \"genes_global//\")\n",
    "if not os.path.exists(OUTPUT_ROOT_DIR + \"genes_global//\"):\n",
    "    os.makedirs(OUTPUT_ROOT_DIR + \"genes_global//\")\n",
    "    \n",
    "# stat_genes_best (for non-coding)\n",
    "if not os.path.exists(OUTPUT_ROOT_DIR + \"non-coding//\"):\n",
    "    os.makedirs(OUTPUT_ROOT_DIR + \"non-coding//\")\n",
    "\n",
    "if not os.path.exists(OUTPUT_ROOT_DIR + \"robustness//\"):\n",
    "    os.makedirs(OUTPUT_ROOT_DIR + \"robustness//\")\n",
    "    \n",
    "if not os.path.exists(OUTPUT_ROOT_DIR + \"evolvability//\"):\n",
    "    os.makedirs(OUTPUT_ROOT_DIR + \"evolvability//\")\n",
    "\n",
    "# We need to be able to write out some statistics. Create an output file for this purpose.\n",
    "LINE = \"=============================================\"\n",
    "\n",
    "plt.rc('legend',fontsize=20)\n",
    "plt.rc('xtick',labelsize=20)\n",
    "plt.rc('ytick',labelsize=20)\n",
    "\n",
    "print(\"done.\")"
   ]
  },
  {
   "cell_type": "markdown",
   "metadata": {},
   "source": [
    "## Read in the data for the mutation up condition"
   ]
  },
  {
   "cell_type": "code",
   "execution_count": 2,
   "metadata": {},
   "outputs": [
    {
     "name": "stdout",
     "output_type": "stream",
     "text": [
      "Reading in mut_up data...\n",
      "done.\n"
     ]
    }
   ],
   "source": [
    "print(\"Reading in mut_up data...\")\n",
    "\n",
    "# stat_fitness_glob\n",
    "df_seed01_mutation_up_fitness_global = read_fitness(INPUT_ROOT_DIR + \"seed01//mut_up//stats//stat_fitness_glob.out\")\n",
    "df_seed02_mutation_up_fitness_global = read_fitness(INPUT_ROOT_DIR + \"seed02//mut_up//stats//stat_fitness_glob.out\")\n",
    "df_seed03_mutation_up_fitness_global = read_fitness(INPUT_ROOT_DIR + \"seed03//mut_up//stats//stat_fitness_glob.out\")\n",
    "df_seed04_mutation_up_fitness_global = read_fitness(INPUT_ROOT_DIR + \"seed04//mut_up//stats//stat_fitness_glob.out\")\n",
    "df_seed05_mutation_up_fitness_global = read_fitness(INPUT_ROOT_DIR + \"seed05//mut_up//stats//stat_fitness_glob.out\")\n",
    "\n",
    "stat_fitness_glob_mut_up = [df_seed01_mutation_up_fitness_global, df_seed02_mutation_up_fitness_global, df_seed03_mutation_up_fitness_global, df_seed04_mutation_up_fitness_global, df_seed05_mutation_up_fitness_global]\n",
    "\n",
    "# stat_genes_global \n",
    "df_seed01_mutation_up_genes_global = read_genes(INPUT_ROOT_DIR + \"seed01//mut_up//stats//stat_genes_glob.out\")\n",
    "df_seed02_mutation_up_genes_global = read_genes(INPUT_ROOT_DIR + \"seed02//mut_up//stats//stat_genes_glob.out\")\n",
    "df_seed03_mutation_up_genes_global = read_genes(INPUT_ROOT_DIR + \"seed03//mut_up//stats//stat_genes_glob.out\")\n",
    "df_seed04_mutation_up_genes_global = read_genes(INPUT_ROOT_DIR + \"seed04//mut_up//stats//stat_genes_glob.out\")\n",
    "df_seed05_mutation_up_genes_global = read_genes(INPUT_ROOT_DIR + \"seed05//mut_up//stats//stat_genes_glob.out\")\n",
    "\n",
    "stat_genes_glob_mut_up = [df_seed01_mutation_up_genes_global, df_seed02_mutation_up_genes_global, df_seed03_mutation_up_genes_global, df_seed04_mutation_up_genes_global, df_seed05_mutation_up_genes_global]\n",
    "\n",
    "# stat_bp_best (for percent non-coding)\n",
    "df_seed01_mutation_up_bp_best = read_bp(INPUT_ROOT_DIR + \"seed01//mut_up//stats//stat_bp_best.out\")\n",
    "df_seed02_mutation_up_bp_best = read_bp(INPUT_ROOT_DIR + \"seed02//mut_up//stats//stat_bp_best.out\")\n",
    "df_seed03_mutation_up_bp_best = read_bp(INPUT_ROOT_DIR + \"seed03//mut_up//stats//stat_bp_best.out\")\n",
    "df_seed04_mutation_up_bp_best = read_bp(INPUT_ROOT_DIR + \"seed04//mut_up//stats//stat_bp_best.out\")\n",
    "df_seed05_mutation_up_bp_best = read_bp(INPUT_ROOT_DIR + \"seed05//mut_up//stats//stat_bp_best.out\")\n",
    "\n",
    "stat_bp_best_mut_up = [df_seed01_mutation_up_bp_best, df_seed02_mutation_up_bp_best, df_seed03_mutation_up_bp_best, df_seed04_mutation_up_bp_best, df_seed05_mutation_up_bp_best]\n",
    "\n",
    "# stat_fitness_best (for percent non-coding)\n",
    "df_seed01_mutation_up_fitness_best = read_fitness(INPUT_ROOT_DIR + \"seed01//mut_up//stats//stat_fitness_best.out\")\n",
    "df_seed02_mutation_up_fitness_best = read_fitness(INPUT_ROOT_DIR + \"seed02//mut_up//stats//stat_fitness_best.out\")\n",
    "df_seed03_mutation_up_fitness_best = read_fitness(INPUT_ROOT_DIR + \"seed03//mut_up//stats//stat_fitness_best.out\")\n",
    "df_seed04_mutation_up_fitness_best = read_fitness(INPUT_ROOT_DIR + \"seed04//mut_up//stats//stat_fitness_best.out\")\n",
    "df_seed05_mutation_up_fitness_best = read_fitness(INPUT_ROOT_DIR + \"seed05//mut_up//stats//stat_fitness_best.out\")\n",
    "\n",
    "stat_fitness_best_mut_up = [df_seed01_mutation_up_fitness_best, df_seed02_mutation_up_fitness_best, df_seed03_mutation_up_fitness_best, df_seed04_mutation_up_fitness_best, df_seed05_mutation_up_fitness_best]\n",
    "\n",
    "print(\"done.\")"
   ]
  },
  {
   "cell_type": "markdown",
   "metadata": {},
   "source": [
    "## Read in the data for the control condition"
   ]
  },
  {
   "cell_type": "code",
   "execution_count": 3,
   "metadata": {},
   "outputs": [
    {
     "name": "stdout",
     "output_type": "stream",
     "text": [
      "Reading in control data...\n",
      "done.\n"
     ]
    }
   ],
   "source": [
    "print(\"Reading in control data...\")\n",
    "\n",
    "# stat_fitness_glob\n",
    "df_seed01_control_fitness_global = read_fitness(INPUT_ROOT_DIR + \"seed01//control//stats//stat_fitness_glob.out\")\n",
    "df_seed02_control_fitness_global = read_fitness(INPUT_ROOT_DIR + \"seed02//control//stats//stat_fitness_glob.out\")\n",
    "df_seed03_control_fitness_global = read_fitness(INPUT_ROOT_DIR + \"seed03//control//stats//stat_fitness_glob.out\")\n",
    "df_seed04_control_fitness_global = read_fitness(INPUT_ROOT_DIR + \"seed04//control//stats//stat_fitness_glob.out\")\n",
    "df_seed05_control_fitness_global = read_fitness(INPUT_ROOT_DIR + \"seed05//control//stats//stat_fitness_glob.out\")\n",
    "\n",
    "stat_fitness_glob_control = [df_seed01_control_fitness_global, df_seed02_control_fitness_global, df_seed03_control_fitness_global, df_seed04_control_fitness_global, df_seed05_control_fitness_global]\n",
    "\n",
    "# stat_genes_global \n",
    "df_seed01_control_genes_global = read_genes(INPUT_ROOT_DIR + \"seed01//control//stats//stat_genes_glob.out\")\n",
    "df_seed02_control_genes_global = read_genes(INPUT_ROOT_DIR + \"seed02//control//stats//stat_genes_glob.out\")\n",
    "df_seed03_control_genes_global = read_genes(INPUT_ROOT_DIR + \"seed03//control//stats//stat_genes_glob.out\")\n",
    "df_seed04_control_genes_global = read_genes(INPUT_ROOT_DIR + \"seed04//control//stats//stat_genes_glob.out\")\n",
    "df_seed05_control_genes_global = read_genes(INPUT_ROOT_DIR + \"seed05//control//stats//stat_genes_glob.out\")\n",
    "\n",
    "stat_genes_glob_control = [df_seed01_control_genes_global, df_seed02_control_genes_global, df_seed03_control_genes_global, df_seed04_control_genes_global, df_seed05_control_genes_global]\n",
    "\n",
    "# stat_bp_best (for percent non-coding)\n",
    "df_seed01_control_bp_best = read_bp(INPUT_ROOT_DIR + \"seed01//control//stats//stat_bp_best.out\")\n",
    "df_seed02_control_bp_best = read_bp(INPUT_ROOT_DIR + \"seed02//control//stats//stat_bp_best.out\")\n",
    "df_seed03_control_bp_best = read_bp(INPUT_ROOT_DIR + \"seed03//control//stats//stat_bp_best.out\")\n",
    "df_seed04_control_bp_best = read_bp(INPUT_ROOT_DIR + \"seed04//control//stats//stat_bp_best.out\")\n",
    "df_seed05_control_bp_best = read_bp(INPUT_ROOT_DIR + \"seed05//control//stats//stat_bp_best.out\")\n",
    "\n",
    "stat_bp_best_control = [df_seed01_control_bp_best, df_seed02_control_bp_best, df_seed03_control_bp_best, df_seed04_control_bp_best, df_seed05_control_bp_best]\n",
    "\n",
    "# stat_fitness_best (for percent non-coding)\n",
    "df_seed01_control_fitness_best = read_fitness(INPUT_ROOT_DIR + \"seed01//control//stats//stat_fitness_best.out\")\n",
    "df_seed02_control_fitness_best = read_fitness(INPUT_ROOT_DIR + \"seed02//control//stats//stat_fitness_best.out\")\n",
    "df_seed03_control_fitness_best = read_fitness(INPUT_ROOT_DIR + \"seed03//control//stats//stat_fitness_best.out\")\n",
    "df_seed04_control_fitness_best = read_fitness(INPUT_ROOT_DIR + \"seed04//control//stats//stat_fitness_best.out\")\n",
    "df_seed05_control_fitness_best = read_fitness(INPUT_ROOT_DIR + \"seed05//control//stats//stat_fitness_best.out\")\n",
    "\n",
    "stat_fitness_best_control = [df_seed01_control_fitness_best, df_seed02_control_fitness_best, df_seed03_control_fitness_best, df_seed04_control_fitness_best, df_seed05_control_fitness_best]\n",
    "\n",
    "print(\"done.\")"
   ]
  },
  {
   "cell_type": "markdown",
   "metadata": {},
   "source": [
    "# Graph results of stat_fitness_glob\n",
    "\n",
    "The general idea is:\n",
    "\n",
    "- For each column (e.g. genome size, fitness, etc.)\n",
    "   - For each seed of the mutation up condition\n",
    "      - Plot the individual seed\n",
    "   - Plot the mean of all seeds for that aspect\n",
    "   - Plot the control condition's mean for that aspect"
   ]
  },
  {
   "cell_type": "code",
   "execution_count": 4,
   "metadata": {},
   "outputs": [
    {
     "name": "stdout",
     "output_type": "stream",
     "text": [
      "1 / 5  -  fitness\n",
      "2 / 5  -  genome_size\n",
      "3 / 5  -  metabolic_error\n",
      "4 / 5  -  parents_metabolic_error\n",
      "5 / 5  -  metabolic_fitness\n",
      "Done!\n"
     ]
    }
   ],
   "source": [
    "# Allows one to just graph the last 50k generations, etc.\n",
    "START_GEN = 1\n",
    "STOP_GEN = 500000\n",
    "\n",
    "invalid_headers = ['generation', 'secretion_error', 'parents_secretion_error', 'secretion_fitness', 'amt_compound_present', 'pop_size']\n",
    "\n",
    "# For each column header that isn't invalid (e.g. genome size, metabolic error, etc.)\n",
    "num_headers = len(df_seed01_mutation_up_fitness_global.columns) - len(invalid_headers)\n",
    "for col_counter, col_header in enumerate(df_seed01_mutation_up_fitness_global.columns, -1):\n",
    "        \n",
    "    if col_header in invalid_headers:\n",
    "        continue\n",
    "    else:\n",
    "        print(col_counter, '/',num_headers, ' - ', col_header)\n",
    "        \n",
    "        # Generate the generational indices for the two DataFrames(mut_up and control) that will\n",
    "        # store the mean values for each header\n",
    "        df_mut_up_mean = pd.DataFrame(df_seed01_mutation_up_fitness_global['generation'].copy())\n",
    "        df_control_mean = pd.DataFrame(df_seed01_control_fitness_global['generation'].copy())\n",
    "                \n",
    "        # Create a new figure for the current column\n",
    "        fig = plt.figure(figsize=(30,20))\n",
    "        ax = fig.add_subplot(111)\n",
    "        fig.suptitle('Mutation Up - ' + name(col_header), x=0.5, y=0.92, fontsize=32)\n",
    "        ax.set_xlabel(\"generation\", fontsize=20)\n",
    "        ax.set_ylabel(my_y_label(col_header),fontsize=20)\n",
    "        \n",
    "        # For each seed of the mut_up condition\n",
    "        for seed_counter, seed in enumerate(stat_fitness_glob_mut_up):\n",
    "                        \n",
    "            # The name of the current seed\n",
    "            seed_str = 'seed0'+str(seed_counter+1)\n",
    "            \n",
    "            # Smooth the seed's data with a rolling window\n",
    "            df_mut_up_mean[seed_str] = seed[col_header].rolling(WINDOW_SIZE).mean()\n",
    "            \n",
    "            # Add the current seed to the figure\n",
    "            df_mut_up_mean.iloc[START_GEN:STOP_GEN].plot(x='generation', y=seed_str, label=seed_str, color=seed_color(seed_str),  ax=ax)\n",
    "        \n",
    "        # For the control condition, we don't want to plot all of the individual seeds but just\n",
    "        # the mean, so we need to find that mean.\n",
    "        # For each seed of the control condition:\n",
    "        for seed_counter, seed in enumerate(stat_fitness_glob_control):\n",
    "              \n",
    "            # Add the seed to a temporary DataFrame to make calculating the mean easier\n",
    "            seed_str = 'seed0'+str(seed_counter+1)\n",
    "            df_control_mean[seed_str] = seed[col_header].rolling(WINDOW_SIZE).mean()\n",
    "                        \n",
    "        # Calculate the mean for the mut_up condition and plot it to the figure\n",
    "        df_mut_up_mean['avg'] = df_mut_up_mean.iloc[:,1:].mean(axis=1).rolling(WINDOW_SIZE).mean() # iloc[:,1:] to skip first column ('generation')\n",
    "        df_mut_up_mean.iloc[START_GEN:STOP_GEN].plot(x='generation', y='avg', label='mut up mean '+ name(col_header), linewidth=3.0, color='blue', linestyle='dashed', ax=ax)\n",
    "                \n",
    "        #  Calculate the mean of the control condition and plot it to the figure\n",
    "        df_control_mean['avg'] = df_control_mean.iloc[:,1:].mean(axis=1).rolling(WINDOW_SIZE).mean() # iloc[:,1:] to skip first column ('generation')\n",
    "        df_control_mean.iloc[START_GEN:STOP_GEN].plot(x='generation', y='avg', label='control mean ' + name(col_header), linewidth=3.0, color='black', linestyle='dashed', ax=ax)\n",
    "        \n",
    "        fig.savefig(OUTPUT_ROOT_DIR+ 'fitness_global/mut_up_' + col_header+'_b'+str(START_GEN)+'-e'+str(STOP_GEN)+'.png', bbox_inches='tight', pad_inches=0.25)\n",
    "        fig.clear()\n",
    "        plt.close(fig)\n",
    "        \n",
    "print(\"Done!\")\n",
    " "
   ]
  },
  {
   "cell_type": "markdown",
   "metadata": {},
   "source": [
    "## Clean up the DataFrames"
   ]
  },
  {
   "cell_type": "code",
   "execution_count": 5,
   "metadata": {},
   "outputs": [
    {
     "name": "stdout",
     "output_type": "stream",
     "text": [
      "Cleaning up...\n",
      "Done.\n"
     ]
    }
   ],
   "source": [
    "print(\"Cleaning up...\")\n",
    "for seed in stat_fitness_glob_mut_up:\n",
    "    del seed\n",
    "for seed in stat_fitness_glob_control:\n",
    "    del seed\n",
    "    \n",
    "del stat_fitness_glob_mut_up, stat_fitness_glob_control\n",
    "del df_mut_up_mean, df_control_mean\n",
    "gc.collect()\n",
    "print(\"Done.\")"
   ]
  },
  {
   "cell_type": "markdown",
   "metadata": {},
   "source": [
    "## Graph out stat_genes_global"
   ]
  },
  {
   "cell_type": "code",
   "execution_count": 6,
   "metadata": {},
   "outputs": [
    {
     "name": "stdout",
     "output_type": "stream",
     "text": [
      "1 / 8  -  num_coding_RNAs\n",
      "2 / 8  -  num_non-coding_RNAs\n",
      "3 / 8  -  avg_size_of_coding_RNAs\n",
      "4 / 8  -  avg_size_of_non-coding_RNAs\n",
      "5 / 8  -  num_functional_genes\n",
      "6 / 8  -  num_non-functional_genes\n",
      "7 / 8  -  avg_size_of_functional_genes\n",
      "8 / 8  -  avg_size_of_non-functional_genes\n",
      "Done!\n"
     ]
    }
   ],
   "source": [
    "# Allows one to just graph the last 50k generations, etc.\n",
    "START_GEN = 1\n",
    "STOP_GEN = 500000\n",
    "\n",
    "invalid_headers = ['generation']\n",
    "\n",
    "# For each column header that isn't invalid (e.g. genome size, metabolic error, etc.)\n",
    "num_headers = len(df_seed01_mutation_up_genes_global.columns) - len(invalid_headers)\n",
    "for col_counter, col_header in enumerate(df_seed01_mutation_up_genes_global.columns):\n",
    "        \n",
    "    if col_header in invalid_headers:\n",
    "        continue\n",
    "    else:\n",
    "        print(col_counter, '/',num_headers, ' - ', col_header)\n",
    "        \n",
    "        # Generate the generational indices for the two DataFrames(mut_up and control) that will\n",
    "        # store the mean values for each header\n",
    "        df_mut_up_mean = pd.DataFrame(df_seed01_mutation_up_genes_global['generation'].copy())\n",
    "        df_control_mean = pd.DataFrame(df_seed01_control_genes_global['generation'].copy())\n",
    "                \n",
    "        # Create a new figure for the current column\n",
    "        fig = plt.figure(figsize=(30,20))\n",
    "        ax = fig.add_subplot(111)\n",
    "        fig.suptitle('Mutation Up - ' + name(col_header), x=0.5, y=0.92, fontsize=32)\n",
    "        ax.set_xlabel(\"generation\", fontsize=20)\n",
    "        ax.set_ylabel(my_y_label(col_header),fontsize=20)\n",
    "        \n",
    "        # For each seed of the mut_up condition\n",
    "        for seed_counter, seed in enumerate(stat_genes_glob_mut_up):\n",
    "                        \n",
    "            # The name of the current seed\n",
    "            seed_str = 'seed0'+str(seed_counter+1)\n",
    "            \n",
    "            # Smooth the seed's data with a rolling window\n",
    "            df_mut_up_mean[seed_str] = seed[col_header].rolling(WINDOW_SIZE).mean()\n",
    "            \n",
    "            # Add the current seed to the figure\n",
    "            df_mut_up_mean.iloc[START_GEN:STOP_GEN].plot(x='generation', y=seed_str, label=seed_str, color=seed_color(seed_str),  ax=ax)\n",
    "        \n",
    "        # For the control condition, we don't want to plot all of the individual seeds but just\n",
    "        # the mean, so we need to find that mean.\n",
    "        # For each seed of the control condition:\n",
    "        for seed_counter, seed in enumerate(stat_genes_glob_control):\n",
    "              \n",
    "            # Add the seed to a temporary DataFrame to make calculating the mean easier\n",
    "            seed_str = 'seed0'+str(seed_counter+1)\n",
    "            df_control_mean[seed_str] = seed[col_header].rolling(WINDOW_SIZE).mean()\n",
    "                        \n",
    "        # Calculate the mean for the mut_up condition and plot it to the figure\n",
    "        df_mut_up_mean['avg'] = df_mut_up_mean.iloc[:,1:].mean(axis=1).rolling(WINDOW_SIZE).mean() # iloc[:,1:] to skip first column ('generation')\n",
    "        df_mut_up_mean.iloc[START_GEN:STOP_GEN].plot(x='generation', y='avg', label='mut up mean '+ name(col_header), linewidth=3.0, color='blue', linestyle='dashed', ax=ax)\n",
    "                \n",
    "        #  Calculate the mean of the control condition and plot it to the figure\n",
    "        df_control_mean['avg'] = df_control_mean.iloc[:,1:].mean(axis=1).rolling(WINDOW_SIZE).mean() # iloc[:,1:] to skip first column ('generation')\n",
    "        df_control_mean.iloc[START_GEN:STOP_GEN].plot(x='generation', y='avg', label='control mean ' + name(col_header), linewidth=3.0, color='black', linestyle='dashed', ax=ax)\n",
    "        \n",
    "        fig.savefig(OUTPUT_ROOT_DIR+ 'genes_global/mut_up_' + col_header+'_b'+str(START_GEN)+'-e'+str(STOP_GEN)+'.png', bbox_inches='tight', pad_inches=0.25)\n",
    "        fig.clear()\n",
    "        plt.close(fig)\n",
    "        \n",
    "print(\"Done!\")\n",
    " "
   ]
  },
  {
   "cell_type": "markdown",
   "metadata": {},
   "source": [
    "## Clean up the DataFrames"
   ]
  },
  {
   "cell_type": "code",
   "execution_count": 7,
   "metadata": {},
   "outputs": [
    {
     "name": "stdout",
     "output_type": "stream",
     "text": [
      "Cleaning up...\n",
      "Done.\n"
     ]
    }
   ],
   "source": [
    "print(\"Cleaning up...\")\n",
    "for seed in stat_genes_glob_mut_up:\n",
    "    del seed\n",
    "for seed in stat_genes_glob_control:\n",
    "    del seed\n",
    "    \n",
    "del stat_genes_glob_mut_up, stat_genes_glob_control\n",
    "del df_mut_up_mean, df_control_mean\n",
    "gc.collect()\n",
    "print(\"Done.\")"
   ]
  },
  {
   "cell_type": "markdown",
   "metadata": {},
   "source": [
    "## Graph out the percent non-coding\n",
    "\n",
    "This uses stat_bp_best and stat_fitness_best. We need the number of non-coding bp from stat_bp_best and the genome size from stat_fitness_best. "
   ]
  },
  {
   "cell_type": "code",
   "execution_count": 8,
   "metadata": {},
   "outputs": [
    {
     "name": "stdout",
     "output_type": "stream",
     "text": [
      "Graphing percent non-coding...\n",
      "done.\n"
     ]
    }
   ],
   "source": [
    "print(\"Graphing percent non-coding...\")\n",
    "\n",
    "# Allows one to just graph the last 50k generations, etc.\n",
    "START_GEN = 1\n",
    "STOP_GEN = 500000\n",
    "\n",
    "# Create a new figure to graph the results\n",
    "fig = plt.figure(figsize=(30,20))\n",
    "ax = fig.add_subplot(111)\n",
    "fig.suptitle('Mutation Up - Percent Non-Coding', x=0.5, y=0.92, fontsize=32)\n",
    "ax.set_xlabel(\"generation\", fontsize=20)\n",
    "\n",
    "\n",
    "\n",
    "df_num_noncoding_mut_up = pd.DataFrame(df_seed01_mutation_up_bp_best['generation'].copy())\n",
    "df_num_noncoding_control = pd.DataFrame(df_seed01_control_bp_best['generation'].copy())\n",
    "for seed_counter, seed in enumerate(stat_bp_best_mut_up):\n",
    "    seed_str = 'seed0' + str(seed_counter+1)\n",
    "    df_num_noncoding_mut_up[seed_str] = seed['num_bp_not_included_in_any_coding_RNA']\n",
    "    \n",
    "df_mut_up_smoothed = pd.DataFrame(df_num_noncoding_mut_up['generation'].copy())\n",
    "# Now for each seed's number of BP not in any coding RNA, divide this by the total genome size\n",
    "for seed_counter, seed in enumerate(stat_fitness_best_mut_up):\n",
    "    seed_str = 'seed0' + str(seed_counter+1)\n",
    "    \n",
    "    # Calculate the percent non-coding\n",
    "    df_num_noncoding_mut_up[seed_str] = df_num_noncoding_mut_up[seed_str] / seed['genome_size']\n",
    "    \n",
    "    # Smooth and plot the result\n",
    "    df_mut_up_smoothed[seed_str] = df_num_noncoding_mut_up[seed_str].rolling(WINDOW_SIZE).mean()\n",
    "    df_mut_up_smoothed.iloc[START_GEN:STOP_GEN].plot(x='generation', y=seed_str, alpha=0.8, label=seed_str, color=seed_color(seed_str), ax=ax)\n",
    "     \n",
    "# Retrieve the data for each seed\n",
    "for seed_counter, seed in enumerate(stat_bp_best_control):\n",
    "    seed_str = 'seed0' + str(seed_counter+1)\n",
    "    df_num_noncoding_control[seed_str] = seed['num_bp_not_included_in_any_coding_RNA']\n",
    "\n",
    "\n",
    "for seed_counter, seed in enumerate(stat_fitness_best_control):\n",
    "    seed_str = 'seed0' + str(seed_counter+1)\n",
    "    df_num_noncoding_control[seed_str] = df_num_noncoding_control[seed_str] / seed['genome_size']\n",
    "\n",
    "\n",
    "# Calculate the control and mut_up average across all seeds\n",
    "df_num_noncoding_mut_up['avg'] = df_num_noncoding_mut_up.iloc[:,1:].mean(axis=1).rolling(WINDOW_SIZE).mean()\n",
    "df_num_noncoding_control['avg'] = df_num_noncoding_control.iloc[:,1:].mean(axis=1).rolling(WINDOW_SIZE).mean()\n",
    "\n",
    "# Plot the control and mut_up average\n",
    "df_num_noncoding_mut_up.iloc[START_GEN:STOP_GEN].plot(x='generation', y='avg', label='mut up mean percent non-coding', color='blue', linestyle='dashed', linewidth=3.0, ax=ax)\n",
    "df_num_noncoding_control.iloc[START_GEN:STOP_GEN].plot(x='generation', y='avg', label='control mean percent non-coding', color='black', linestyle='dashed', linewidth=3.0, ax=ax)\n",
    "\n",
    "\n",
    "#Save and close the figure\n",
    "fig.savefig(OUTPUT_ROOT_DIR+\"non-coding/mut_up_percent_non-coding_b\"+str(START_GEN)+\"-e\"+str(STOP_GEN)+\".png\", bbox_inches='tight', pad_inches=0.25)\n",
    "fig.clear()\n",
    "plt.close(fig)\n",
    "\n",
    "print(\"done.\")\n",
    " \n",
    "    "
   ]
  },
  {
   "cell_type": "markdown",
   "metadata": {},
   "source": [
    "## Clean up the DataFrames"
   ]
  },
  {
   "cell_type": "code",
   "execution_count": 9,
   "metadata": {},
   "outputs": [
    {
     "name": "stdout",
     "output_type": "stream",
     "text": [
      "Cleaning up...\n",
      "done.\n"
     ]
    }
   ],
   "source": [
    "print(\"Cleaning up...\")\n",
    "for df in stat_fitness_best_mut_up:\n",
    "    del df\n",
    "\n",
    "del stat_fitness_best_mut_up\n",
    "\n",
    "for df in stat_bp_best_control:\n",
    "    del df\n",
    "\n",
    "del stat_bp_best_control\n",
    "del df_num_noncoding_mut_up, df_num_noncoding_control\n",
    "gc.collect()\n",
    "\n",
    "print(\"done.\")\n",
    "\n"
   ]
  },
  {
   "cell_type": "markdown",
   "metadata": {},
   "source": [
    "# Evolvability and Robustness\n",
    "\n",
    "## Read in the data"
   ]
  },
  {
   "cell_type": "code",
   "execution_count": 10,
   "metadata": {},
   "outputs": [
    {
     "name": "stdout",
     "output_type": "stream",
     "text": [
      "Reading in data...\n",
      "done.\n"
     ]
    }
   ],
   "source": [
    "print(\"Reading in data...\")\n",
    "# Mutation Up\n",
    "df_seed01_mutation_up_robustness = read_robustness(INPUT_ROOT_DIR + \"seed01//mut_up//seed01_mutation_up_ancestor_robustness.out\")\n",
    "df_seed02_mutation_up_robustness = read_robustness(INPUT_ROOT_DIR + \"seed02//mut_up//seed02_mutation_up_ancestor_robustness.out\")\n",
    "df_seed03_mutation_up_robustness = read_robustness(INPUT_ROOT_DIR + \"seed03//mut_up//seed03_mutation_up_ancestor_robustness.out\")\n",
    "df_seed04_mutation_up_robustness = read_robustness(INPUT_ROOT_DIR + \"seed04//mut_up//seed04_mutation_up_ancestor_robustness.out\")\n",
    "df_seed05_mutation_up_robustness = read_robustness(INPUT_ROOT_DIR + \"seed05//mut_up//seed05_mutation_up_ancestor_robustness.out\")\n",
    "\n",
    "list_mut_up_robustness = [df_seed01_mutation_up_robustness, df_seed02_mutation_up_robustness, df_seed03_mutation_up_robustness, df_seed04_mutation_up_robustness, df_seed05_mutation_up_robustness]\n",
    "\n",
    "# Control\n",
    "df_seed01_control_robustness = read_robustness(INPUT_ROOT_DIR + \"seed01//control//seed01_control_ancestor_robustness.out\")\n",
    "df_seed02_control_robustness = read_robustness(INPUT_ROOT_DIR + \"seed02//control//seed02_control_ancestor_robustness.out\")\n",
    "df_seed03_control_robustness = read_robustness(INPUT_ROOT_DIR + \"seed03//control//seed03_control_ancestor_robustness.out\")\n",
    "df_seed04_control_robustness = read_robustness(INPUT_ROOT_DIR + \"seed04//control//seed04_control_ancestor_robustness.out\")\n",
    "df_seed05_control_robustness = read_robustness(INPUT_ROOT_DIR + \"seed05//control//seed05_control_ancestor_robustness.out\")\n",
    "\n",
    "list_control_robustness = [df_seed01_control_robustness, df_seed02_control_robustness, df_seed03_control_robustness, df_seed04_control_robustness, df_seed05_control_robustness]\n",
    "\n",
    "print(\"done.\")"
   ]
  },
  {
   "cell_type": "markdown",
   "metadata": {},
   "source": [
    "## Graph the robustness\n",
    "\n",
    "Robustness in Aevol is the percentage of neutral mutants.\n",
    "\n"
   ]
  },
  {
   "cell_type": "code",
   "execution_count": 11,
   "metadata": {},
   "outputs": [
    {
     "name": "stdout",
     "output_type": "stream",
     "text": [
      "Graphing robustness...\n",
      "1 / 12  -  frac_positive_offspring\n"
     ]
    },
    {
     "ename": "NameError",
     "evalue": "name 'mut_up_robustness' is not defined",
     "output_type": "error",
     "traceback": [
      "\u001b[1;31m---------------------------------------------------------------------------\u001b[0m",
      "\u001b[1;31mNameError\u001b[0m                                 Traceback (most recent call last)",
      "\u001b[1;32m<ipython-input-11-df24d0ad72e0>\u001b[0m in \u001b[0;36m<module>\u001b[1;34m\u001b[0m\n\u001b[0;32m     27\u001b[0m \u001b[1;33m\u001b[0m\u001b[0m\n\u001b[0;32m     28\u001b[0m         \u001b[1;31m# For each seed of the mut_up condition\u001b[0m\u001b[1;33m\u001b[0m\u001b[1;33m\u001b[0m\u001b[1;33m\u001b[0m\u001b[0m\n\u001b[1;32m---> 29\u001b[1;33m         \u001b[1;32mfor\u001b[0m \u001b[0mseed_counter\u001b[0m\u001b[1;33m,\u001b[0m \u001b[0mseed\u001b[0m \u001b[1;32min\u001b[0m \u001b[0menumerate\u001b[0m\u001b[1;33m(\u001b[0m\u001b[0mmut_up_robustness\u001b[0m\u001b[1;33m)\u001b[0m\u001b[1;33m:\u001b[0m\u001b[1;33m\u001b[0m\u001b[1;33m\u001b[0m\u001b[0m\n\u001b[0m\u001b[0;32m     30\u001b[0m \u001b[1;33m\u001b[0m\u001b[0m\n\u001b[0;32m     31\u001b[0m             \u001b[0mROBUSTNESS_WINDOW\u001b[0m \u001b[1;33m=\u001b[0m \u001b[0mint\u001b[0m\u001b[1;33m(\u001b[0m\u001b[0mlen\u001b[0m\u001b[1;33m(\u001b[0m\u001b[0mseed\u001b[0m\u001b[1;33m.\u001b[0m\u001b[0mindex\u001b[0m\u001b[1;33m)\u001b[0m\u001b[1;33m/\u001b[0m\u001b[1;36m20\u001b[0m\u001b[1;33m)\u001b[0m\u001b[1;33m\u001b[0m\u001b[1;33m\u001b[0m\u001b[0m\n",
      "\u001b[1;31mNameError\u001b[0m: name 'mut_up_robustness' is not defined"
     ]
    },
    {
     "data": {
      "image/png": "[encoded data removed]",
      "text/plain": [
       "<Figure size 2160x1440 with 1 Axes>"
      ]
     },
     "metadata": {
      "needs_background": "light"
     },
     "output_type": "display_data"
    }
   ],
   "source": [
    "print(\"Graphing robustness...\")\n",
    "# Allows one to just graph the last 50k generations, etc.\n",
    "START_GEN = 1\n",
    "STOP_GEN = 500000\n",
    "\n",
    "\n",
    "invalid_headers = ['generation']\n",
    "num_headers = len(df_seed01_control_robustness.columns) - len(invalid_headers)\n",
    "for col_counter, col_header in enumerate(df_seed01_control_robustness.columns):\n",
    "    if col_header in invalid_headers:\n",
    "        continue\n",
    "    else:\n",
    "        print(col_counter, '/',num_headers, ' - ', col_header)\n",
    "        \n",
    "        # Create new DataFrames for the mut_up and control conditions\n",
    "        df_mut_up_mean = pd.DataFrame(df_seed01_mutation_up_robustness['generation'].copy())\n",
    "        df_control_mean = pd.DataFrame(df_seed01_control_robustness['generation'].copy())\n",
    "        df_mut_up_smoothed = pd.DataFrame(seed['generation'].copy())\n",
    "        \n",
    "        # Create a new figure for the current column\n",
    "        fig = plt.figure(figsize=(30,20))\n",
    "        ax = fig.add_subplot(111)\n",
    "        fig.suptitle('Mutation Up - ' + name(col_header), x=0.5, y=0.92, fontsize=32)\n",
    "        ax.set_xlabel(\"generation\", fontsize=20)\n",
    "        ax.set_ylabel(my_y_label(col_header),fontsize=20)\n",
    "            \n",
    "               \n",
    "        # For each seed of the mut_up condition\n",
    "        for seed_counter, seed in enumerate(mut_up_robustness):\n",
    "            \n",
    "            ROBUSTNESS_WINDOW = int(len(seed.index)/20)\n",
    "                        \n",
    "            # The name of the current seed\n",
    "            seed_str = 'seed0'+str(seed_counter+1)\n",
    "            \n",
    "            # Smooth the seed's data with a rolling window\n",
    "            df_mut_up_mean[seed_str] = seed[col_header]#.rolling(WINDOW_SIZE).mean()\n",
    "            df_mut_up_smoothed[seed_str] = df_mut_up_mean[seed_str].rolling(ROBUSTNESS_WINDOW).mean()\n",
    "            \n",
    "            #print(df_mut_up_smoothed.tail())\n",
    "                        \n",
    "            # Add the current seed to the figure\n",
    "            df_mut_up_smoothed[df_mut_up_smoothed['generation'].between(START_GEN,STOP_GEN)].plot(x='generation', y=seed_str, label=seed_str, color=seed_color(seed_str),  ax=ax)\n",
    "            \n",
    "        \n",
    "        # For the control condition, we don't want to plot all of the individual seeds but just\n",
    "        # the mean, so we need to find that mean.\n",
    "        # For each seed of the control condition:\n",
    "        for seed_counter, seed in enumerate(list_control_robustness):\n",
    "            ROBUSTNESS_WINDOW = int(len(seed.index)/20)  \n",
    "            # Add the seed to a temporary DataFrame to make calculating the mean easier\n",
    "            seed_str = 'seed0'+str(seed_counter+1)\n",
    "            df_control_mean[seed_str] = seed[col_header]#.rolling(WINDOW_SIZE).mean()\n",
    "                        \n",
    "        # Calculate the mean for the mut_up condition and plot it to the figure\n",
    "        df_mut_up_mean['avg'] = df_mut_up_mean.iloc[:,1:].mean(axis=1).rolling(ROBUSTNESS_WINDOW).mean() # iloc[:,1:] to skip first column ('generation')\n",
    "        df_mut_up_mean[df_mut_up_mean['generation'].between(START_GEN, STOP_GEN)].plot(x='generation', y='avg', label='mut up mean '+ name(col_header), linewidth=3.0, color='blue', linestyle='dashed', ax=ax)\n",
    "                \n",
    "        #  Calculate the mean of the control condition and plot it to the figure\n",
    "        df_control_mean['avg'] = df_control_mean.iloc[:,1:].mean(axis=1).rolling(ROBUSTNESS_WINDOW).mean() # iloc[:,1:] to skip first column ('generation')\n",
    "        df_control_mean[df_control_mean['generation'].between(START_GEN, STOP_GEN)].plot(x='generation', y='avg', label='control mean ' + name(col_header), linewidth=3.0, color='black', linestyle='dashed', ax=ax)\n",
    "        \n",
    "        fig.savefig(OUTPUT_ROOT_DIR+ 'robustness/mut_up_' + col_header+'_b'+str(START_GEN)+'-e'+str(STOP_GEN)+'.png', bbox_inches='tight', pad_inches=0.25)\n",
    "        fig.clear()\n",
    "        plt.close(fig)\n",
    "\n",
    "\n",
    "print(\"done.\")"
   ]
  },
  {
   "cell_type": "markdown",
   "metadata": {},
   "source": [
    "# Graph evolvability\n",
    "\n",
    "Evolvability = (the fraction of positive offspring) * (the cumulative delta fitness gap of positive offspring)."
   ]
  },
  {
   "cell_type": "code",
   "execution_count": null,
   "metadata": {},
   "outputs": [],
   "source": [
    "print(\"Graphing evolvability...\")\n",
    "# Allows one to just graph the last 50k generations, etc.\n",
    "START_GEN = 1\n",
    "STOP_GEN = 500000\n",
    "COLUMN_LABELS = ['generation','seed01', 'seed02', 'seed03', 'seed04', 'seed05'] # For resetting column labels after merging\n",
    "\n",
    "# Create a new figure for the evolvability graph\n",
    "fig = plt.figure(figsize=(30,20))\n",
    "ax = fig.add_subplot(111)\n",
    "fig.suptitle('Mutation Up - Evolvability', x=0.5, y=0.92, fontsize=32)\n",
    "ax.set_xlabel(\"generation\", fontsize=20)\n",
    "ax.set_ylabel('evolvability',fontsize=20)\n",
    "\n",
    "# A list of all of the DataFrames holding the evolvability data. \n",
    "mut_up_robustness_dfs = [df_seed01_mutation_up_robustness['generation'], df_seed02_mutation_up_robustness['generation'], df_seed03_mutation_up_robustness['generation'], df_seed04_mutation_up_robustness['generation'],df_seed05_mutation_up_robustness['generation']]\n",
    "\n",
    "# Start a DataFrame for all of the evolvability data for each seed. Begin by copying its generational data.\n",
    "df_mut_up_evolvability = pd.DataFrame(df_seed01_mutation_up_robustness['generation'])\n",
    "\n",
    "# For each seed of the mut_up condition, calculate the evolvability.\n",
    "# Evolvability = frac positive offspring * cumulative delta fitness gap of positive offspring\n",
    "for seed_counter, seed in enumerate(mut_up_robustness):\n",
    "    \n",
    "    # Make a temporary DataFrame to store the results of the calculation\n",
    "    df_tmp =  pd.DataFrame(seed['frac_positive_offspring'] * seed['cumul_delta-fitness_positive_offspring'])\n",
    "    df_tmp['generation'] = seed['generation'].copy() # Copy in the generational data\n",
    "    \n",
    "    # Merge the temp calculations and generational data\n",
    "    df_mut_up_evolvability = pd.merge(df_mut_up_evolvability, df_tmp, on='generation', how='outer', sort=True)\n",
    "\n",
    "# Fix the column headers\n",
    "df_mut_up_evolvability.columns=COLUMN_LABELS\n",
    "\n",
    "# Now find the mean evolvability of the control condition over time\n",
    "\n",
    "df_control_evolvability = pd.DataFrame(df_seed01_control_robustness['generation'])\n",
    "\n",
    "for seed_counter, seed in enumerate(list_control_robustness):\n",
    "    # Make a temporary DataFrame to store the results of the calculation\n",
    "    df_tmp =  pd.DataFrame(seed['frac_positive_offspring'] * seed['cumul_delta-fitness_positive_offspring'])\n",
    "    df_tmp['generation'] = seed['generation'].copy() # Copy in the generational data\n",
    "    \n",
    "    # Merge the temp calculations and generational data\n",
    "    df_control_evolvability = pd.merge(df_control_evolvability, df_tmp, on='generation', how='outer', sort=True)\n",
    "    \n",
    "df_control_evolvability.columns=COLUMN_LABELS\n",
    "\n",
    "df_control_evolvability['avg'] = df_control_evolvability.iloc[:,1:].mean(axis=1)\n",
    "df_mut_up_evolvability['avg'] = df_mut_up_evolvability.iloc[:,1:].mean(axis=1)\n",
    "# PLOT THE RESULTS OVER TIME\n",
    "\n",
    "# For each seed, add it to the plot\n",
    "for seed in df_mut_up_evolvability.columns:\n",
    "    if seed=='generation' or seed=='avg':\n",
    "        continue\n",
    "    else:\n",
    "        df_mut_up_evolvability[df_mut_up_evolvability['generation'].between(START_GEN,STOP_GEN)].plot(x='generation', y=seed, label=seed, color=seed_color(seed), alpha=0.50, ax=ax)\n",
    "\n",
    "# Plot the mean of the control and mut_up conditions\n",
    "df_control_evolvability[df_control_evolvability['generation'].between(START_GEN,STOP_GEN)].plot(x='generation', y='avg', label='control mean evolvability', color='black', linewidth=2.0, linestyle='dashed', ax=ax)\n",
    "df_mut_up_evolvability[df_mut_up_evolvability['generation'].between(START_GEN,STOP_GEN)].plot(x='generation', y='avg', label='mutation up mean evolvability', color='blue', linewidth=2.0, linestyle='dashed', ax=ax)\n",
    "\n",
    "fig.savefig(OUTPUT_ROOT_DIR+ 'evolvability/mut_up_evolvability_b'+str(START_GEN)+'-e'+str(STOP_GEN)+'.png', bbox_inches='tight', pad_inches=0.25)\n",
    "fig.clear()\n",
    "plt.close(fig)\n",
    "\n",
    "# BOXPLOT\n",
    "# Create a new figure for the boxplot\n",
    "fig2 = plt.figure(figsize=(30,20))\n",
    "ax2 = fig2.add_subplot(111)\n",
    "fig2.suptitle('Mutation Up - Evolvability Boxplot', x=0.5, y=0.92, fontsize=32)\n",
    "ax2.set_xlabel(\"generation\", fontsize=20)\n",
    "ax2.set_ylabel('evolvability',fontsize=20)        \n",
    "\n",
    "seed_labels = ['seed01', 'seed02', 'seed03', 'seed04', 'seed05']        \n",
    "df_mut_up_evolvability[df_mut_up_evolvability['generation'].between(START_GEN,STOP_GEN)].boxplot(column=seed_labels, ax=ax2)\n",
    "#df_control_evolvability[df_control_evolvability['generation'].between(START_GEN,STOP_GEN)].boxplot(column=['avg'], ax=ax2)\n",
    "\n",
    "fig2.savefig(OUTPUT_ROOT_DIR + 'evolvability/mut_up_evolvability_boxplot_b'+str(START_GEN)+'-e'+str(STOP_GEN)+'.png', bbox_inches='tight', pad_inches=0.25)\n",
    "fig2.clear()\n",
    "plt.close(fig2)\n",
    "\n",
    "# HISTOGRAM\n",
    "# Create a new figure for the histogram\n",
    "fig3 = plt.figure(figsize=(30,20))\n",
    "ax3_control = plt.subplot(411)\n",
    "ax3_mut_up_seed01 = plt.subplot(423, sharex=ax3_control, sharey=ax3_control)\n",
    "ax3_mut_up_seed02 = plt.subplot(424, sharex=ax3_control, sharey=ax3_control)\n",
    "ax3_mut_up_seed03 = plt.subplot(425, sharex=ax3_control, sharey=ax3_control)\n",
    "ax3_mut_up_seed04 = plt.subplot(426, sharex=ax3_control, sharey=ax3_control)\n",
    "ax3_mut_up_seed05 = plt.subplot(427, sharex=ax3_control, sharey=ax3_control)\n",
    "\n",
    "hist_axis_list = [ax3_control, ax3_mut_up_seed01, ax3_mut_up_seed02, ax3_mut_up_seed03, ax3_mut_up_seed04, ax3_mut_up_seed05]\n",
    "\n",
    "# Plot the mut_up condition to the histogram\n",
    "df_mut_up_evolvability[df_mut_up_evolvability['generation'].between(START_GEN,STOP_GEN)].hist(column=['seed01'], bins=20, alpha=0.50, ax=ax3_mut_up_seed01)\n",
    "df_mut_up_evolvability[df_mut_up_evolvability['generation'].between(START_GEN,STOP_GEN)].hist(column=['seed02'], bins=20, alpha=0.50, ax=ax3_mut_up_seed02)\n",
    "df_mut_up_evolvability[df_mut_up_evolvability['generation'].between(START_GEN,STOP_GEN)].hist(column=['seed03'], bins=20, alpha=0.50, ax=ax3_mut_up_seed03)\n",
    "df_mut_up_evolvability[df_mut_up_evolvability['generation'].between(START_GEN,STOP_GEN)].hist(column=['seed04'], bins=20, alpha=0.50, ax=ax3_mut_up_seed04)\n",
    "df_mut_up_evolvability[df_mut_up_evolvability['generation'].between(START_GEN,STOP_GEN)].hist(column=['seed05'], bins=20, alpha=0.50, ax=ax3_mut_up_seed05)\n",
    "\n",
    "# Plot the control condition to the histogram\n",
    "df_control_evolvability[df_control_evolvability['generation'].between(START_GEN,STOP_GEN)].hist(column=['avg'], bins=20, alpha=0.50, ax=ax3_control)\n",
    "\n",
    "# Label the figure properly\n",
    "fig3.suptitle('Mutation Up - Evolvability Histogram', x=0.5, y=0.92, fontsize=32)\n",
    "# Set general parameters for all plots\n",
    "for ax in hist_axis_list:\n",
    "    ax.set_xlabel(\"Value\", fontsize=18)\n",
    "    ax.set_ylabel(\"Count\", fontsize=18)\n",
    "    ax.tick_params(axis='both', labelsize=20)\n",
    "\n",
    "# Set individual labels\n",
    "ax3_control.set_title(\"Control\", fontsize=25)\n",
    "ax3_control.xaxis.set_tick_params(labelbottom=True)\n",
    "\n",
    "ax3_mut_up_seed01.set_title(\"seed01\", fontsize=20)\n",
    "ax3_mut_up_seed02.set_title(\"seed02\", fontsize=20)\n",
    "ax3_mut_up_seed03.set_title(\"seed03\", fontsize=20)\n",
    "ax3_mut_up_seed04.set_title(\"seed04\", fontsize=20)\n",
    "ax3_mut_up_seed05.set_title(\"seed05\", fontsize=20)\n",
    "\n",
    "# Save and clear the figure\n",
    "fig3.savefig(OUTPUT_ROOT_DIR + 'evolvability/mut_up_evolvability_histogram_b'+str(START_GEN) + '-e' + str(STOP_GEN) + '.png', bbox_inches='tight', pad_inches=0.25)\n",
    "fig3.clear()\n",
    "plt.close(fig3)\n",
    "print(\"done.\")"
   ]
  },
  {
   "cell_type": "markdown",
   "metadata": {},
   "source": [
    "## Clean up the DataFrames"
   ]
  },
  {
   "cell_type": "code",
   "execution_count": null,
   "metadata": {},
   "outputs": [],
   "source": [
    "print(\"Cleaning up...\")\n",
    "for df in list_control_robustness:\n",
    "    del df\n",
    "    \n",
    "for df in list_mut_up_robustness:\n",
    "    del df\n",
    "    \n",
    "del list_control_robustness, list_mut_up_robustness\n",
    "\n",
    "del df_mut_up_evolvability, df_control_evolvability\n",
    "\n",
    "print(\"done.\")"
   ]
  },
  {
   "cell_type": "code",
   "execution_count": null,
   "metadata": {},
   "outputs": [],
   "source": []
  }
 ],
 "metadata": {
  "kernelspec": {
   "display_name": "Python 3",
   "language": "python",
   "name": "python3"
  },
  "language_info": {
   "codemirror_mode": {
    "name": "ipython",
    "version": 3
   },
   "file_extension": ".py",
   "mimetype": "text/x-python",
   "name": "python",
   "nbconvert_exporter": "python",
   "pygments_lexer": "ipython3",
   "version": "3.7.4"
  }
 },
 "nbformat": 4,
 "nbformat_minor": 2
}
