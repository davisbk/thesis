{
 "cells": [
  {
   "cell_type": "markdown",
   "metadata": {},
   "source": [
    "# Condition Analysis (Mutation Up)"
   ]
  },
  {
   "cell_type": "markdown",
   "metadata": {},
   "source": [
    "In this notebook we're analyzing the *mutation up* condition. We will compare changes in the genome size, changes in the structure (number of coding vs. non-coding bases, etc.), the fitness, evolvability, and robustness."
   ]
  },
  {
   "cell_type": "markdown",
   "metadata": {},
   "source": [
    "## Read in the data and set up environment"
   ]
  },
  {
   "cell_type": "code",
   "execution_count": 1,
   "metadata": {},
   "outputs": [
    {
     "ename": "ImportError",
     "evalue": "cannot import name 'read_noncoding_bp' from 'ReadFunctions' (C:\\Users\\davis\\Documents\\GitHub\\thesis\\Jupyter_Notebooks\\Condition_Analysis\\ReadFunctions.py)",
     "output_type": "error",
     "traceback": [
      "\u001b[1;31m---------------------------------------------------------------------------\u001b[0m",
      "\u001b[1;31mImportError\u001b[0m                               Traceback (most recent call last)",
      "\u001b[1;32m<ipython-input-1-c79ba22acac4>\u001b[0m in \u001b[0;36m<module>\u001b[1;34m\u001b[0m\n\u001b[0;32m      1\u001b[0m \u001b[1;32mimport\u001b[0m \u001b[0mpandas\u001b[0m \u001b[1;32mas\u001b[0m \u001b[0mpd\u001b[0m\u001b[1;33m\u001b[0m\u001b[1;33m\u001b[0m\u001b[0m\n\u001b[0;32m      2\u001b[0m \u001b[1;32mimport\u001b[0m \u001b[0mmatplotlib\u001b[0m\u001b[1;33m.\u001b[0m\u001b[0mpyplot\u001b[0m \u001b[1;32mas\u001b[0m \u001b[0mplt\u001b[0m\u001b[1;33m\u001b[0m\u001b[1;33m\u001b[0m\u001b[0m\n\u001b[1;32m----> 3\u001b[1;33m \u001b[1;32mfrom\u001b[0m \u001b[0mReadFunctions\u001b[0m \u001b[1;32mimport\u001b[0m \u001b[0mread_fitness\u001b[0m\u001b[1;33m,\u001b[0m \u001b[0mread_bp\u001b[0m\u001b[1;33m,\u001b[0m \u001b[0mread_noncoding_bp\u001b[0m\u001b[1;33m\u001b[0m\u001b[1;33m\u001b[0m\u001b[0m\n\u001b[0m\u001b[0;32m      4\u001b[0m \u001b[1;33m\u001b[0m\u001b[0m\n\u001b[0;32m      5\u001b[0m \u001b[0mINPUT_ROOT_DIR\u001b[0m \u001b[1;33m=\u001b[0m \u001b[1;34m\"C://Users//davis//Dropbox//Freiburg Masters Semesters//Thesis//Results//\"\u001b[0m \u001b[1;31m# laptop\u001b[0m\u001b[1;33m\u001b[0m\u001b[1;33m\u001b[0m\u001b[0m\n",
      "\u001b[1;31mImportError\u001b[0m: cannot import name 'read_noncoding_bp' from 'ReadFunctions' (C:\\Users\\davis\\Documents\\GitHub\\thesis\\Jupyter_Notebooks\\Condition_Analysis\\ReadFunctions.py)"
     ]
    }
   ],
   "source": [
    "import pandas as pd\n",
    "import matplotlib.pyplot as plt\n",
    "from ReadFunctions import read_fitness, read_bp, read_noncoding_bp\n",
    "\n",
    "INPUT_ROOT_DIR = \"C://Users//davis//Dropbox//Freiburg Masters Semesters//Thesis//Results//\" # laptop\n",
    "#INPUT_ROOT_DIR = \"C://Users//Brian Davis//Dropbox//Freiburg Masters Semesters//Thesis//Results//\" # Desktop\n",
    "OUTPUT_ROOT_DIR = INPUT_ROOT_DIR + \"Graphics//mut_up_analysis//\"\n",
    "WINDOW_SIZE = 10000 # Size of the rolling window for smoothing\n",
    "plt.ioff() # Do not show the plot every time\n",
    "\n",
    "print(\"Reading in the data...\")\n",
    "\n",
    "# stat_fitness_best.out \n",
    "fitness_best_names = ['generation', 'pop_size', 'fitness', 'genome_size', 'metabolic_error','parents_metabolic_error', 'metabolic_fitness', 'secretion_error', 'parents_secretion_error', 'secretion_fitness', 'amt_compound_present']\n",
    "df_seed01_control_fitness_best = pd.read_csv(INPUT_ROOT_DIR + \"seed01//control//stats//stat_fitness_best.out\", skiprows=17, delim_whitespace=True, header=0, names=fitness_best_names)\n",
    "df_seed01_mutation_up_fitness_best = pd.read_csv(INPUT_ROOT_DIR + \"seed01//mut_up//stats//stat_fitness_best.out\",skiprows=17, delim_whitespace=True, header=0, names=fitness_best_names)\n",
    "\n",
    "df_seed02_control_fitness_best = pd.read_csv(INPUT_ROOT_DIR + \"seed02//control//stats//stat_fitness_best.out\", skiprows=17, delim_whitespace=True, header=0, names=fitness_best_names) \n",
    "df_seed02_mutation_up_fitness_best = pd.read_csv(INPUT_ROOT_DIR + \"seed02//mut_up//stats//stat_fitness_best.out\", skiprows=17, delim_whitespace=True, header=0, names=fitness_best_names)\n",
    "\n",
    "df_seed03_control_fitness_best = pd.read_csv(INPUT_ROOT_DIR + \"seed03//control//stats//stat_fitness_best.out\", skiprows=17, delim_whitespace=True, header=0, names=fitness_best_names)\n",
    "df_seed03_mutation_up_fitness_best = pd.read_csv(INPUT_ROOT_DIR + \"seed03//mut_up//stats//stat_fitness_best.out\", skiprows=17, delim_whitespace=True, header=0, names=fitness_best_names)\n",
    "\n",
    "df_seed04_control_fitness_best = pd.read_csv(INPUT_ROOT_DIR + \"seed04//control//stats//stat_fitness_best.out\", skiprows=17, delim_whitespace=True, header=0, names=fitness_best_names)\n",
    "df_seed04_mutation_up_fitness_best = pd.read_csv(INPUT_ROOT_DIR + \"seed04//mut_up//stats//stat_fitness_best.out\", skiprows=17, delim_whitespace=True, header=0, names=fitness_best_names)\n",
    "\n",
    "df_seed05_control_fitness_best = pd.read_csv(INPUT_ROOT_DIR + \"seed05//control//stats//stat_fitness_best.out\", skiprows=17, delim_whitespace=True, header=0, names=fitness_best_names)\n",
    "df_seed05_mutation_up_fitness_best = pd.read_csv(INPUT_ROOT_DIR + \"seed05//mut_up//stats//stat_fitness_best.out\", skiprows=17, delim_whitespace=True, header=0, names=fitness_best_names)\n",
    "\n",
    "# stat_bp_best.out\n",
    "bp_best_names = ['generation', 'num_bp_not_in_any_CDS', 'num_bp_not_in_any_functional_CDS', 'num_bp_not_in_any_non-functional_CDS', 'num_bp_not_included_in_any_RNA', 'num_bp_not_included_in_any_coding_RNA', 'num_bp_not_included_in_any_non-coding_RNA', 'num_of_non-essential_bp', 'num_of_non-essential_bp_including_non-functional_genes']\n",
    "df_seed01_control_bp_best = pd.read_csv(INPUT_ROOT_DIR + \"seed01//control//stats//stat_bp_best.out\", skiprows=17, delim_whitespace=True, header=0, names=bp_best_names)\n",
    "df_seed01_mutation_up_bp_best = pd.read_csv(INPUT_ROOT_DIR + \"seed01//mut_up//stats//stat_bp_best.out\",skiprows=17, delim_whitespace=True, header=0, names=bp_best_names)\n",
    "\n",
    "df_seed02_control_bp_best = pd.read_csv(INPUT_ROOT_DIR + \"seed02//control//stats//stat_bp_best.out\", skiprows=17, delim_whitespace=True, header=0, names=bp_best_names)\n",
    "df_seed02_mutation_up_bp_best = pd.read_csv(INPUT_ROOT_DIR + \"seed02//mut_up//stats//stat_bp_best.out\",skiprows=17, delim_whitespace=True, header=0, names=bp_best_names)\n",
    "\n",
    "df_seed03_control_bp_best = pd.read_csv(INPUT_ROOT_DIR + \"seed03//control//stats//stat_bp_best.out\", skiprows=17, delim_whitespace=True, header=0, names=bp_best_names)\n",
    "df_seed03_mutation_up_bp_best = pd.read_csv(INPUT_ROOT_DIR + \"seed03//mut_up//stats//stat_bp_best.out\",skiprows=17, delim_whitespace=True, header=0, names=bp_best_names)\n",
    "\n",
    "df_seed04_control_bp_best = pd.read_csv(INPUT_ROOT_DIR + \"seed04//control//stats//stat_bp_best.out\", skiprows=17, delim_whitespace=True, header=0, names=bp_best_names)\n",
    "df_seed04_mutation_up_bp_best = pd.read_csv(INPUT_ROOT_DIR + \"seed04//mut_up//stats//stat_bp_best.out\",skiprows=17, delim_whitespace=True, header=0, names=bp_best_names)\n",
    "\n",
    "df_seed05_control_bp_best = pd.read_csv(INPUT_ROOT_DIR + \"seed05//control//stats//stat_bp_best.out\", skiprows=17, delim_whitespace=True, header=0, names=bp_best_names)\n",
    "df_seed05_mutation_up_bp_best = pd.read_csv(INPUT_ROOT_DIR + \"seed05//mut_up//stats//stat_bp_best.out\",skiprows=17, delim_whitespace=True, header=0, names=bp_best_names)\n",
    "\n",
    "\n",
    "# TO DELETE\n",
    "df_seed02_super_high_mutation_fitness_best = pd.read_csv(INPUT_ROOT_DIR + \"seed02//seed02_super_high_mutation//stats//stat_fitness_best.out\", skiprows=17, delim_whitespace=True, header=0, names=fitness_best_names)\n",
    "df_seed02_super_high_mutation_bp_best = pd.read_csv(INPUT_ROOT_DIR + \"seed02//seed02_super_high_mutation//stats//stat_bp_best.out\",skiprows=17, delim_whitespace=True, header=0, names=bp_best_names)\n",
    "\n",
    "\n",
    "print(\"Done.\")\n"
   ]
  },
  {
   "cell_type": "markdown",
   "metadata": {},
   "source": [
    "## Parameter Values\n",
    "Before we begin graphing, here are the relevant parameter values used for each condition:\n",
    "\n",
    "##### Control\n",
    "*INIT_POP_SIZE* - 1024\n",
    "\n",
    "*POINT_MUTATION_RATE* - 1e-7\\\n",
    "*SMALL_INSERTION_RATE* - 1e-7\\\n",
    "*SMALL_DELETION_RATE* - 1e-7\n",
    "\n",
    "*SELECTION_SCHEME* - fitness_proportionate   1000\n",
    "\n",
    "##### Mutation Up\n",
    "*INIT_POP_SIZE* - 1024\n",
    "\n",
    "*POINT_MUTATION_RATE* - 4e-7\\\n",
    "*SMALL_INSERTION_RATE* - 4e-7\\\n",
    "*SMALL_DELETION_RATE* - 4e-7\n",
    "\n",
    "*SELECTION_SCHEME* - fitness_proportionate   1000\n",
    "\n",
    "##### Mutation Down\n",
    "*INIT_POP_SIZE* - 1024\n",
    "\n",
    "*POINT_MUTATION_RATE* - 2.5e-8\\\n",
    "*SMALL_INSERTION_RATE* - 2.5e-8\\\n",
    "*SMALL_DELETION_RATE* - 2.5e-8\n",
    "\n",
    "*SELECTION_SCHEME* - fitness_proportionate   1000\n",
    "\n",
    "##### Population Up\n",
    "*INIT_POP_SIZE* - 4096\n",
    "\n",
    "*POINT_MUTATION_RATE* - 1e-7\\\n",
    "*SMALL_INSERTION_RATE* - 1e-7\\\n",
    "*SMALL_DELETION_RATE* - 1e-7\n",
    "\n",
    "*SELECTION_SCHEME* - fitness_proportionate   1000\n",
    "\n",
    "##### Population Down\n",
    "*INIT_POP_SIZE* - 256\n",
    "\n",
    "*POINT_MUTATION_RATE* - 1e-7\\\n",
    "*SMALL_INSERTION_RATE* - 1e-7\\\n",
    "*SMALL_DELETION_RATE* - 1e-7\n",
    "\n",
    "*SELECTION_SCHEME* - fitness_proportionate   1000\n",
    "\n",
    "##### Selection Up\n",
    "*INIT_POP_SIZE* - 1024\n",
    "\n",
    "*POINT_MUTATION_RATE* - 1e-7\\\n",
    "*SMALL_INSERTION_RATE* - 1e-7\\\n",
    "*SMALL_DELETION_RATE* - 1e-7\n",
    "\n",
    "*SELECTION_SCHEME* - fitness_proportionate   4000\n",
    "\n",
    "##### Selection Down\n",
    "*INIT_POP_SIZE* - 1024\n",
    "\n",
    "*POINT_MUTATION_RATE* - 1e-7\\\n",
    "*SMALL_INSERTION_RATE* - 1e-7\\\n",
    "*SMALL_DELETION_RATE* - 1e-7\n",
    "\n",
    "*SELECTION_SCHEME* - fitness_proportionate   250"
   ]
  },
  {
   "cell_type": "markdown",
   "metadata": {},
   "source": [
    "## Genome Size"
   ]
  },
  {
   "cell_type": "markdown",
   "metadata": {},
   "source": [
    "We will compare the genome size of the **mutation up** condition to the **control** condition by graphing their genome sizes over time. We will plot the control condition vs mutation up for all five seeds."
   ]
  },
  {
   "cell_type": "markdown",
   "metadata": {},
   "source": [
    "#### Plot the conditions"
   ]
  },
  {
   "cell_type": "code",
   "execution_count": null,
   "metadata": {
    "scrolled": false
   },
   "outputs": [],
   "source": [
    "# Create new figure\n",
    "fig_genome_size_best = plt.figure(figsize=(30,20))\n",
    "ax_genome_size_best = fig_genome_size_best.add_subplot(111)\n",
    "ax_genome_size_best.set_title(\"Genome Size - Control vs. Mutation Up\", fontsize=32)\n",
    "ax_genome_size_best.set_xlabel(\"Generation\", fontsize=20)\n",
    "ax_genome_size_best.set_ylabel(\"Num Base Pairs\", fontsize=20)\n",
    "\n",
    "# Plot the results to the figure. For each plot, smooth plot by using rolling window\n",
    "# of average of $WINDOW_SIZE points, rather than all data points\n",
    "\n",
    "# Seed 1\n",
    "df_tmp1 = df_seed01_control_fitness_best[['generation', 'genome_size']].copy().rolling(WINDOW_SIZE).mean()\n",
    "df_tmp1.plot(x='generation', y='genome_size', linestyle='dashed', color=(0.0,0.0,0.0), label='seed01 control', ax=ax_genome_size_best)\n",
    "\n",
    "df_tmp2 = df_seed01_mutation_up_fitness_best[['generation','genome_size']].copy().rolling(WINDOW_SIZE).mean()\n",
    "df_tmp2.plot(x='generation', y='genome_size',linestyle='dashed', color=(1.0,0.0,0.0), label='seed01 mutation up', ax=ax_genome_size_best)\n",
    "\n",
    "# Seed 2\n",
    "df_tmp3 = df_seed02_control_fitness_best[['generation', 'genome_size']].copy().rolling(WINDOW_SIZE).mean()\n",
    "df_tmp3.plot(x='generation', y='genome_size', linestyle='dotted', color=(0.0,0.0,0.0), label='seed02 control', ax=ax_genome_size_best)\n",
    "\n",
    "df_tmp4 = df_seed02_mutation_up_fitness_best[['generation', 'genome_size']].copy().rolling(WINDOW_SIZE).mean()\n",
    "df_tmp4.plot(x='generation', y='genome_size', linestyle='dotted', color=(1.0,0.0,0.0), label='seed02 mutation up', ax=ax_genome_size_best)\n",
    "\n",
    "# Seed 3\n",
    "df_tmp5 = df_seed03_control_fitness_best[['generation', 'genome_size']].copy().rolling(WINDOW_SIZE).mean()\n",
    "df_tmp5.plot(x='generation', y='genome_size', linestyle='dashdot', color=(0.0,0.0,0.0), label='seed03 control', ax=ax_genome_size_best)\n",
    "\n",
    "df_tmp6 = df_seed03_mutation_up_fitness_best[['generation', 'genome_size']].copy().rolling(WINDOW_SIZE).mean()\n",
    "df_tmp6.plot(x='generation', y='genome_size', linestyle='dashdot', color=(1.0,0.0,0.0), label='seed03 mutation up', ax=ax_genome_size_best)\n",
    "\n",
    "# Seed 4\n",
    "df_tmp7 = df_seed04_control_fitness_best[['generation', 'genome_size']].copy().rolling(WINDOW_SIZE).mean()\n",
    "df_tmp7.plot(x='generation', y='genome_size', color=(0.0,0.0,0.0), label='seed04 control', ax=ax_genome_size_best)\n",
    "\n",
    "df_tmp8 = df_seed04_mutation_up_fitness_best[['generation', 'genome_size']].copy().rolling(WINDOW_SIZE).mean()\n",
    "df_tmp8.plot(x='generation', y='genome_size', color=(1.0,0.0,0.0), label='seed04 mutation up', ax=ax_genome_size_best)\n",
    "\n",
    "# Seed 5\n",
    "df_tmp9 = df_seed05_control_fitness_best[['generation', 'genome_size']].copy().rolling(WINDOW_SIZE).mean()\n",
    "df_tmp9.plot(x='generation', y='genome_size', linestyle=(0,(5,10)), color=(0.0,0.0,0.0), label='seed05 control', ax=ax_genome_size_best)\n",
    "\n",
    "df_tmp10 = df_seed05_mutation_up_fitness_best[['generation', 'genome_size']].copy().rolling(WINDOW_SIZE).mean()\n",
    "df_tmp10.plot(x='generation', y='genome_size', linestyle=(0,(5,10)), color=(1.0,0.0,0.0), label='seed05 mutation up', ax=ax_genome_size_best)\n",
    "\n",
    "# TO DELETE\n",
    "df_tmp11 = df_seed02_super_high_mutation_fitness_best[['generation','genome_size']].copy().rolling(WINDOW_SIZE).mean()\n",
    "#df_tmp11.plot(x='generation', y='genome_size', color=(0.0,0.0,1.0), label=\"seed02 super mutant\", ax=ax_genome_size_best)\n",
    "\n",
    "# Save and close the figure\n",
    "fig_genome_size_best.savefig(OUTPUT_ROOT_DIR + \"genome_size-control_vs_mutation_up.png\")\n",
    "plt.show()\n",
    "plt.close(fig_genome_size_best)\n",
    "\n",
    "# Delete unnecessary DataFrames\n",
    "del df_tmp1, df_tmp2, df_tmp3, df_tmp4, df_tmp5, df_tmp6, df_tmp7, df_tmp8, df_tmp9, df_tmp10"
   ]
  },
  {
   "cell_type": "markdown",
   "metadata": {},
   "source": [
    "#### Analysis"
   ]
  },
  {
   "cell_type": "markdown",
   "metadata": {},
   "source": [
    "This graph shows the genome size of the best organism at each generation over the course of the entire run. \n",
    "\n",
    "In \"*A Long-Term Evolutionary Pressure on the Amount of Noncoding DNA*\", it is stated that an increased mutation rate leads to a more compact genome. \n",
    "\n",
    "In our experiments however, this pattern does not seem to hold. In all seeds except for seed05, the *mutation up* condition had a **larger** genome than the *control* condition.  "
   ]
  },
  {
   "cell_type": "markdown",
   "metadata": {},
   "source": [
    "\n",
    "\n",
    "## Number of Genes\n",
    "\n",
    "#### Read in the data"
   ]
  },
  {
   "cell_type": "code",
   "execution_count": null,
   "metadata": {},
   "outputs": [],
   "source": [
    "print(\"Reading in data...\")\n",
    "genes_best_names = ['generation', 'num_coding_RNAs', 'num_non-coding_RNAs', 'avg_size_of_coding_RNAs', 'avg_size_of_non-coding_RNAs', 'num_functional_genes', 'num_non-functional_genes', 'avg_size_of_functional_genes', 'avg_size_of_non-functional_genes']\n",
    "df_seed01_control_genes_best = pd.read_csv(INPUT_ROOT_DIR + \"seed01//control//stats//stat_genes_best.out\", skiprows=14, delim_whitespace=True,header=0, names=genes_best_names)\n",
    "df_seed01_mutation_up_best = pd.read_csv(INPUT_ROOT_DIR + \"seed01//mut_up//stats//stat_genes_best.out\", skiprows=14, delim_whitespace=True,header=0, names=genes_best_names)\n",
    "\n",
    "print(\"Done.\")"
   ]
  },
  {
   "cell_type": "markdown",
   "metadata": {},
   "source": [
    "#### Graph results"
   ]
  },
  {
   "cell_type": "code",
   "execution_count": null,
   "metadata": {},
   "outputs": [],
   "source": [
    "fig_num_genes_best = plt.figure(figsize=(30,20))\n",
    "ax_num_genes_best = fig_num_genes_best.add_subplot(111)\n",
    "ax_num_genes_best.set_title(\"Number of (Functional) Genes - Control vs. Mutation Up\", fontsize=32)\n",
    "ax_num_genes_best.set_xlabel(\"Generation\", fontsize=20)\n",
    "ax_num_genes_best.set_ylabel(\"Num Genes\", fontsize=20)\n",
    "\n",
    "df_seed01_control_genes_best.plot(x='generation', y='num_functional_genes', label='control', ax=ax_num_genes_best)\n",
    "df_seed01_mutation_up_best.plot(x='generation', y='num_functional_genes', label='mutation up', ax=ax_num_genes_best)\n",
    "\n",
    "fig_num_genes_best.savefig(OUTPUT_ROOT_DIR + \"num_genes-control-vs-mutation_up.png\")\n",
    "plt.show()\n",
    "plt.close(fig_num_genes_best)"
   ]
  },
  {
   "cell_type": "markdown",
   "metadata": {},
   "source": [
    "##### Analysis\n",
    "\n",
    "In \" *A Long-Term Evolutionary Pressure on the Amount of Noncoding DNA* \"it is also stated that \"as most mutations are deleterious, the per-base pair mutation rate can impose an upper limit to the number of genes. The higher the mutation rate, the lower the number of genes at equilibrium.\" "
   ]
  },
  {
   "cell_type": "markdown",
   "metadata": {},
   "source": [
    "## Number of Coding Bases"
   ]
  },
  {
   "cell_type": "markdown",
   "metadata": {},
   "source": [
    "#### Plot the data"
   ]
  },
  {
   "cell_type": "code",
   "execution_count": null,
   "metadata": {},
   "outputs": [],
   "source": [
    "# Create new figure\n",
    "fig_num_coding_bases_best = plt.figure(figsize=(30,20))\n",
    "ax_num_coding_bases_best = fig_num_coding_bases_best.add_subplot(111)\n",
    "ax_num_coding_bases_best.set_title(\"Num Coding Bases - Control vs. Mutation Up\", fontsize=32)\n",
    "ax_num_coding_bases_best.set_xlabel(\"Generation\", fontsize=20)\n",
    "ax_num_coding_bases_best.set_ylabel(\"Num Coding Bases\", fontsize=20)\n",
    "\n",
    "# Plot the data to the figure. For each seed, we need to calculate the number of coding bases. Aevol\n",
    "# gives us the number of noncoding bases, so we need to subtract this from the total genome size to get\n",
    "# the number of coding bases. Then we can plot this, smoothing the plot by using a rolling window\n",
    "# of the average of $WINDOW_SIZE points, rather than all data points\n",
    "\n",
    "# Seed01\n",
    "# 1) get generation numbers 2) calculate number of coding bases 3) smooth the graph\n",
    "df_tmp1 = df_seed01_control_fitness_best[['generation']].copy()\n",
    "df_tmp1['num_coding_bases'] = df_seed01_control_fitness_best['genome_size'] - df_seed01_control_bp_best['num_of_non-essential_bp']\n",
    "df_tmp1 = df_tmp1[['generation', 'num_coding_bases']].copy().rolling(WINDOW_SIZE).mean()\n",
    "\n",
    "# Plot the control\n",
    "df_tmp1.plot(x='generation', y='num_coding_bases', linestyle='dashed', color=(0.0,0.0,0.0), label='seed01 control', ax=ax_num_coding_bases_best)\n",
    "\n",
    "\n",
    "df_tmp2 = df_seed01_mutation_up_fitness_best[['generation']].copy()\n",
    "df_tmp2['num_coding_bases'] = df_seed01_mutation_up_fitness_best['genome_size'] - df_seed01_mutation_up_bp_best['num_of_non-essential_bp']\n",
    "df_tmp2 = df_tmp2[['generation', 'num_coding_bases']].copy().rolling(WINDOW_SIZE).mean()\n",
    "\n",
    "# Plot the mutation up condition\n",
    "df_tmp2.plot(x='generation', y='num_coding_bases', linestyle='dashed', color=(1.0, 0.0, 0.0), label='seed01 mutation up', ax=ax_num_coding_bases_best)\n",
    "\n",
    "\n",
    "# Seed02\n",
    "# 1) get generation numbers 2) calculate number of coding bases 3) smooth the graph\n",
    "df_tmp3 = df_seed02_control_fitness_best[['generation']].copy()\n",
    "df_tmp3['num_coding_bases'] = df_seed02_control_fitness_best['genome_size'] - df_seed02_control_bp_best['num_of_non-essential_bp']\n",
    "df_tmp3 = df_tmp3[['generation', 'num_coding_bases']].copy().rolling(WINDOW_SIZE).mean()\n",
    "\n",
    "# Plot the control\n",
    "df_tmp3.plot(x='generation', y='num_coding_bases', linestyle='dotted', color=(0.0,0.0,0.0), label='seed02 control', ax=ax_num_coding_bases_best)\n",
    "\n",
    "\n",
    "df_tmp4 = df_seed02_mutation_up_fitness_best[['generation']].copy()\n",
    "df_tmp4['num_coding_bases'] = df_seed02_mutation_up_fitness_best['genome_size'] - df_seed02_mutation_up_bp_best['num_of_non-essential_bp']\n",
    "df_tmp4 = df_tmp4[['generation', 'num_coding_bases']].copy().rolling(WINDOW_SIZE).mean()\n",
    "\n",
    "# Plot the mutation up condition\n",
    "df_tmp4.plot(x='generation', y='num_coding_bases', linestyle='dotted', color=(1.0, 0.0, 0.0), label='seed02 mutation up', ax=ax_num_coding_bases_best)\n",
    "\n",
    "\n",
    "\n",
    "# Seed03\n",
    "# 1) get generation numbers 2) calculate number of coding bases 3) smooth the graph\n",
    "df_tmp5 = df_seed03_control_fitness_best[['generation']].copy()\n",
    "df_tmp5['num_coding_bases'] = df_seed03_control_fitness_best['genome_size'] - df_seed03_control_bp_best['num_of_non-essential_bp']\n",
    "df_tmp5 = df_tmp5[['generation', 'num_coding_bases']].copy().rolling(WINDOW_SIZE).mean()\n",
    "\n",
    "# Plot the control\n",
    "df_tmp5.plot(x='generation', y='num_coding_bases', linestyle='dashdot', color=(0.0,0.0,0.0), label='seed03 control', ax=ax_num_coding_bases_best)\n",
    "\n",
    "\n",
    "df_tmp6 = df_seed03_mutation_up_fitness_best[['generation']].copy()\n",
    "df_tmp6['num_coding_bases'] = df_seed03_mutation_up_fitness_best['genome_size'] - df_seed03_mutation_up_bp_best['num_of_non-essential_bp']\n",
    "df_tmp6 = df_tmp6[['generation', 'num_coding_bases']].copy().rolling(WINDOW_SIZE).mean()\n",
    "\n",
    "# Plot the mutation up condition\n",
    "df_tmp6.plot(x='generation', y='num_coding_bases', linestyle='dashdot', color=(1.0, 0.0, 0.0), label='seed03 mutation up', ax=ax_num_coding_bases_best)\n",
    "\n",
    "\n",
    "\n",
    "# Seed04\n",
    "# 1) get generation numbers 2) calculate number of coding bases 3) smooth the graph\n",
    "df_tmp7 = df_seed04_control_fitness_best[['generation']].copy()\n",
    "df_tmp7['num_coding_bases'] = df_seed04_control_fitness_best['genome_size'] - df_seed04_control_bp_best['num_of_non-essential_bp']\n",
    "df_tmp7 = df_tmp7[['generation', 'num_coding_bases']].copy().rolling(WINDOW_SIZE).mean()\n",
    "\n",
    "# Plot the control\n",
    "df_tmp7.plot(x='generation', y='num_coding_bases', color=(0.0,0.0,0.0), label='seed04 control', ax=ax_num_coding_bases_best)\n",
    "\n",
    "\n",
    "df_tmp8 = df_seed04_mutation_up_fitness_best[['generation']].copy()\n",
    "df_tmp8['num_coding_bases'] = df_seed04_mutation_up_fitness_best['genome_size'] - df_seed04_mutation_up_bp_best['num_of_non-essential_bp']\n",
    "df_tmp8 = df_tmp8[['generation', 'num_coding_bases']].copy().rolling(WINDOW_SIZE).mean()\n",
    "\n",
    "# Plot the mutation up condition\n",
    "df_tmp8.plot(x='generation', y='num_coding_bases', color=(1.0, 0.0, 0.0), label='seed04 mutation up', ax=ax_num_coding_bases_best)\n",
    "\n",
    "\n",
    "\n",
    "# Seed05\n",
    "# 1) get generation numbers 2) calculate number of coding bases 3) smooth the graph\n",
    "df_tmp9 = df_seed05_control_fitness_best[['generation']].copy()\n",
    "df_tmp9['num_coding_bases'] = df_seed05_control_fitness_best['genome_size'] - df_seed05_control_bp_best['num_of_non-essential_bp']\n",
    "df_tmp9 = df_tmp9[['generation', 'num_coding_bases']].copy().rolling(WINDOW_SIZE).mean()\n",
    "\n",
    "# Plot the control\n",
    "df_tmp9.plot(x='generation', y='num_coding_bases', linestyle=(0,(5,10)), color=(0.0,0.0,0.0), label='seed05 control', ax=ax_num_coding_bases_best)\n",
    "\n",
    "\n",
    "df_tmp10 = df_seed05_mutation_up_fitness_best[['generation']].copy()\n",
    "df_tmp10['num_coding_bases'] = df_seed05_mutation_up_fitness_best['genome_size'] - df_seed05_mutation_up_bp_best['num_of_non-essential_bp']\n",
    "df_tmp10 = df_tmp10[['generation', 'num_coding_bases']].copy().rolling(WINDOW_SIZE).mean()\n",
    "\n",
    "# Plot the mutation up condition\n",
    "df_tmp10.plot(x='generation', y='num_coding_bases', linestyle=(0,(5,10)), color=(1.0, 0.0, 0.0), label='seed05 mutation up', ax=ax_num_coding_bases_best)\n",
    "\n",
    "\n",
    "# TO DELETE\n",
    "df_tmp11 = df_seed02_super_high_mutation_fitness_best[['generation']].copy()\n",
    "df_tmp11['num_coding_bases'] = df_seed02_super_high_mutation_fitness_best['genome_size'] - df_seed02_super_high_mutation_bp_best['num_of_non-essential_bp']\n",
    "df_tmp11 = df_tmp11[['generation', 'num_coding_bases']].copy().rolling(WINDOW_SIZE).mean()\n",
    "\n",
    "#df_tmp11.plot(x='generation', y='num_coding_bases', color=(0.0,0.0,1.0), label='seed02 super mutant', ax=ax_num_coding_bases_best)\n",
    "\n",
    "# Save and close the figure\n",
    "fig_num_coding_bases_best.savefig(OUTPUT_ROOT_DIR + \"num_coding_bases-control_vs_mutation_up.png\")\n",
    "plt.show()\n",
    "plt.close(fig_num_coding_bases_best)\n",
    "\n",
    "# Delete unnecessary DataFrames\n",
    "del df_tmp1, df_tmp2, df_tmp3, df_tmp4, df_tmp5, df_tmp6, df_tmp7, df_tmp8, df_tmp9, df_tmp10"
   ]
  },
  {
   "cell_type": "markdown",
   "metadata": {},
   "source": [
    "#### Analysis"
   ]
  },
  {
   "cell_type": "markdown",
   "metadata": {},
   "source": [
    "This"
   ]
  },
  {
   "cell_type": "markdown",
   "metadata": {},
   "source": [
    "## Number of Non-Coding Bases"
   ]
  },
  {
   "cell_type": "markdown",
   "metadata": {},
   "source": [
    "#### Plot the data"
   ]
  },
  {
   "cell_type": "code",
   "execution_count": null,
   "metadata": {},
   "outputs": [],
   "source": [
    "# Create new figure\n",
    "fig_num_noncoding_bases_best = plt.figure(figsize=(30,20))\n",
    "ax_num_noncoding_bases_best = fig_num_noncoding_bases_best.add_subplot(111)\n",
    "ax_num_noncoding_bases_best.set_title(\"Num Non-Coding Bases - Control vs. Mutation Up\", fontsize=32)\n",
    "ax_num_noncoding_bases_best.set_xlabel(\"Generation\", fontsize=20)\n",
    "ax_num_noncoding_bases_best.set_ylabel(\"Num Non-Coding Bases\", fontsize=20)\n",
    "\n",
    "\n",
    "# Seed 01\n",
    "df_tmp1 = df_seed01_control_fitness_best[['generation']].copy()\n",
    "df_tmp1['num_of_non-essential_bp'] = df_seed01_control_bp_best['num_of_non-essential_bp'].copy()\n",
    "df_tmp1 = df_tmp1[['generation', 'num_of_non-essential_bp']].copy().rolling(WINDOW_SIZE).mean()\n",
    "\n",
    "df_tmp1.plot(x='generation', y='num_of_non-essential_bp', linestyle='dashed', color=(0.0,0.0,0.0), label='seed01 control', ax=ax_num_noncoding_bases_best)\n",
    "\n",
    "df_tmp2 = df_seed01_mutation_up_fitness_best[['generation']].copy()\n",
    "df_tmp2['num_of_non-essential_bp'] = df_seed01_mutation_up_bp_best['num_of_non-essential_bp'].copy()\n",
    "df_tmp2 = df_tmp2[['generation', 'num_of_non-essential_bp']].copy().rolling(WINDOW_SIZE).mean()\n",
    "\n",
    "df_tmp2.plot(x='generation', y='num_of_non-essential_bp', linestyle='dashed', color=(1.0,0.0,0.0), label='seed01 mutation up', ax=ax_num_noncoding_bases_best)\n",
    "\n",
    "\n",
    "# Seed 02\n",
    "df_tmp3 = df_seed02_control_fitness_best[['generation']].copy()\n",
    "df_tmp3['num_of_non-essential_bp'] = df_seed02_control_bp_best['num_of_non-essential_bp'].copy()\n",
    "df_tmp3 = df_tmp3[['generation', 'num_of_non-essential_bp']].copy().rolling(WINDOW_SIZE).mean()\n",
    "\n",
    "df_tmp3.plot(x='generation', y='num_of_non-essential_bp', linestyle='dotted', color=(0.0,0.0,0.0), label='seed02 control', ax=ax_num_noncoding_bases_best)\n",
    "\n",
    "df_tmp4 = df_seed02_mutation_up_fitness_best[['generation']].copy()\n",
    "df_tmp4['num_of_non-essential_bp'] = df_seed02_mutation_up_bp_best['num_of_non-essential_bp'].copy()\n",
    "df_tmp4 = df_tmp4[['generation', 'num_of_non-essential_bp']].copy().rolling(WINDOW_SIZE).mean()\n",
    "\n",
    "df_tmp4.plot(x='generation', y='num_of_non-essential_bp', linestyle='dotted', color=(1.0,0.0,0.0), label='seed02 mutation up', ax=ax_num_noncoding_bases_best)\n",
    "\n",
    "\n",
    "\n",
    "# Seed 03\n",
    "df_tmp5 = df_seed03_control_fitness_best[['generation']].copy()\n",
    "df_tmp5['num_of_non-essential_bp'] = df_seed03_control_bp_best['num_of_non-essential_bp'].copy()\n",
    "df_tmp5 = df_tmp5[['generation', 'num_of_non-essential_bp']].copy().rolling(WINDOW_SIZE).mean()\n",
    "\n",
    "df_tmp5.plot(x='generation', y='num_of_non-essential_bp', linestyle='dashdot', color=(0.0,0.0,0.0), label='seed03 control', ax=ax_num_noncoding_bases_best)\n",
    "\n",
    "df_tmp6 = df_seed03_mutation_up_fitness_best[['generation']].copy()\n",
    "df_tmp6['num_of_non-essential_bp'] = df_seed03_mutation_up_bp_best['num_of_non-essential_bp'].copy()\n",
    "df_tmp6 = df_tmp6[['generation', 'num_of_non-essential_bp']].copy().rolling(WINDOW_SIZE).mean()\n",
    "\n",
    "df_tmp6.plot(x='generation', y='num_of_non-essential_bp', linestyle='dashdot', color=(1.0,0.0,0.0), label='seed03 mutation up', ax=ax_num_noncoding_bases_best)\n",
    "\n",
    "\n",
    "# Seed 04\n",
    "df_tmp7 = df_seed04_control_fitness_best[['generation']].copy()\n",
    "df_tmp7['num_of_non-essential_bp'] = df_seed04_control_bp_best['num_of_non-essential_bp'].copy()\n",
    "df_tmp7 = df_tmp7[['generation', 'num_of_non-essential_bp']].copy().rolling(WINDOW_SIZE).mean()\n",
    "\n",
    "df_tmp7.plot(x='generation', y='num_of_non-essential_bp', color=(0.0,0.0,0.0), label='seed04 control', ax=ax_num_noncoding_bases_best)\n",
    "\n",
    "df_tmp8 = df_seed04_mutation_up_fitness_best[['generation']].copy()\n",
    "df_tmp8['num_of_non-essential_bp'] = df_seed04_mutation_up_bp_best['num_of_non-essential_bp'].copy()\n",
    "df_tmp8 = df_tmp8[['generation', 'num_of_non-essential_bp']].copy().rolling(WINDOW_SIZE).mean()\n",
    "\n",
    "df_tmp8.plot(x='generation', y='num_of_non-essential_bp', color=(1.0,0.0,0.0), label='seed04 mutation up', ax=ax_num_noncoding_bases_best)\n",
    "\n",
    "\n",
    "# Seed 05\n",
    "df_tmp9 = df_seed05_control_fitness_best[['generation']].copy()\n",
    "df_tmp9['num_of_non-essential_bp'] = df_seed05_control_bp_best['num_of_non-essential_bp'].copy()\n",
    "df_tmp9 = df_tmp9[['generation', 'num_of_non-essential_bp']].copy().rolling(WINDOW_SIZE).mean()\n",
    "\n",
    "df_tmp9.plot(x='generation', y='num_of_non-essential_bp', linestyle=(0,(5,10)), color=(0.0,0.0,0.0), label='seed05 control', ax=ax_num_noncoding_bases_best)\n",
    "\n",
    "df_tmp10 = df_seed05_mutation_up_fitness_best[['generation']].copy()\n",
    "df_tmp10['num_of_non-essential_bp'] = df_seed05_mutation_up_bp_best['num_of_non-essential_bp'].copy()\n",
    "df_tmp10 = df_tmp10[['generation', 'num_of_non-essential_bp']].copy().rolling(WINDOW_SIZE).mean()\n",
    "\n",
    "df_tmp10.plot(x='generation', y='num_of_non-essential_bp', linestyle=(0,(5,10)), color=(1.0,0.0,0.0), label='seed05 mutation up', ax=ax_num_noncoding_bases_best)\n",
    "\n",
    "# TO DELETE\n",
    "df_tmp11 = df_seed02_super_high_mutation_fitness_best[['generation']].copy()\n",
    "df_tmp11['num_of_non-essential_bp'] = df_seed02_super_high_mutation_bp_best['num_of_non-essential_bp'].copy()\n",
    "df_tmp11 = df_tmp11[['generation', 'num_of_non-essential_bp']].copy().rolling(WINDOW_SIZE).mean()\n",
    "\n",
    "#df_tmp11.plot(x='generation', y='num_of_non-essential_bp', color=(0.0,0.0,1.0), label='seed02 super mutant', ax=ax_num_noncoding_bases_best)\n",
    "\n",
    "# Save and close the figure\n",
    "fig_num_noncoding_bases_best.savefig(OUTPUT_ROOT_DIR + \"num_non-coding_bases-control_vs_mutation_up.png\")\n",
    "plt.show()\n",
    "plt.close(fig_num_noncoding_bases_best)"
   ]
  },
  {
   "cell_type": "markdown",
   "metadata": {},
   "source": [
    "#### Analysis"
   ]
  },
  {
   "cell_type": "markdown",
   "metadata": {},
   "source": []
  },
  {
   "cell_type": "markdown",
   "metadata": {},
   "source": [
    "## Fitness"
   ]
  },
  {
   "cell_type": "markdown",
   "metadata": {},
   "source": [
    "Below we graph out the fitness (metabolic error) of the best individual after each generation."
   ]
  },
  {
   "cell_type": "code",
   "execution_count": null,
   "metadata": {},
   "outputs": [],
   "source": [
    "# Create a new figure\n",
    "fig_fitness_best = plt.figure(figsize=(30,20))\n",
    "ax_fitness_best = fig_fitness_best.add_subplot(111)\n",
    "ax_fitness_best.set_title(\"Fitness - Control vs. Mutation Up\", fontsize=32)\n",
    "ax_fitness_best.set_xlabel(\"Generation\", fontsize=20)\n",
    "ax_fitness_best.set_ylabel(\"Fitness\", fontsize=20)\n",
    "\n",
    "# Seed01\n",
    "df_tmp1 = df_seed01_control_fitness_best[['generation','fitness']].copy()\n",
    "df_tmp1 = df_tmp1.rolling(WINDOW_SIZE).mean()\n",
    "\n",
    "df_tmp1.plot(x='generation', y='fitness', linestyle='dashed', color=(0.0,0.0,0.0), label='seed01 control', ax=ax_fitness_best)\n",
    "\n",
    "df_tmp2 = df_seed01_mutation_up_fitness_best[['generation', 'fitness']].copy()\n",
    "df_tmp2 = df_tmp2.rolling(WINDOW_SIZE).mean()\n",
    "\n",
    "df_tmp2.plot(x='generation', y='fitness', linestyle='dashed', color=(1.0,0.0,0.0), label='seed01 mutation up', ax=ax_fitness_best)\n",
    "\n",
    "\n",
    "# Seed02\n",
    "df_tmp3 = df_seed02_control_fitness_best[['generation','fitness']].copy()\n",
    "df_tmp3 = df_tmp3.rolling(WINDOW_SIZE).mean()\n",
    "\n",
    "df_tmp3.plot(x='generation', y='fitness', linestyle='dotted', color=(0.0,0.0,0.0), label='seed02 control', ax=ax_fitness_best)\n",
    "\n",
    "df_tmp4 = df_seed02_mutation_up_fitness_best[['generation', 'fitness']].copy()\n",
    "df_tmp4 = df_tmp4.rolling(WINDOW_SIZE).mean()\n",
    "\n",
    "df_tmp4.plot(x='generation', y='fitness', linestyle='dotted', color=(1.0,0.0,0.0), label='seed02 mutation up', ax=ax_fitness_best)\n",
    "\n",
    "\n",
    "# Seed03\n",
    "df_tmp5 = df_seed03_control_fitness_best[['generation','fitness']].copy()\n",
    "df_tmp5 = df_tmp5.rolling(WINDOW_SIZE).mean()\n",
    "\n",
    "df_tmp5.plot(x='generation', y='fitness', linestyle='dashdot', color=(0.0,0.0,0.0), label='seed03 control', ax=ax_fitness_best)\n",
    "\n",
    "df_tmp6 = df_seed03_mutation_up_fitness_best[['generation', 'fitness']].copy()\n",
    "df_tmp6 = df_tmp6.rolling(WINDOW_SIZE).mean()\n",
    "\n",
    "df_tmp6.plot(x='generation', y='fitness', linestyle='dashdot', color=(1.0,0.0,0.0), label='seed03 mutation up', ax=ax_fitness_best)\n",
    "\n",
    "\n",
    "# Seed04\n",
    "df_tmp7 = df_seed02_control_fitness_best[['generation','fitness']].copy()\n",
    "df_tmp7 = df_tmp7.rolling(WINDOW_SIZE).mean()\n",
    "\n",
    "df_tmp7.plot(x='generation', y='fitness', linestyle='dotted', color=(0.0,0.0,0.0), label='seed02 control', ax=ax_fitness_best)\n",
    "\n",
    "df_tmp8 = df_seed02_mutation_up_fitness_best[['generation', 'fitness']].copy()\n",
    "df_tmp8 = df_tmp8.rolling(WINDOW_SIZE).mean()\n",
    "\n",
    "df_tmp8.plot(x='generation', y='fitness', linestyle='dotted', color=(1.0,0.0,0.0), label='seed02 mutation up', ax=ax_fitness_best)\n",
    "\n",
    "# Seed05\n",
    "df_tmp9 = df_seed05_control_fitness_best[['generation','fitness']].copy()\n",
    "df_tmp9 = df_tmp9.rolling(WINDOW_SIZE).mean()\n",
    "\n",
    "df_tmp9.plot(x='generation', y='fitness', linestyle=(0,(5,10)), color=(0.0,0.0,0.0), label='seed05 control', ax=ax_fitness_best)\n",
    "\n",
    "df_tmp10 = df_seed05_mutation_up_fitness_best[['generation', 'fitness']].copy()\n",
    "df_tmp10 = df_tmp10.rolling(WINDOW_SIZE).mean()\n",
    "\n",
    "df_tmp10.plot(x='generation', y='fitness', linestyle=(0,(5,10)), color=(1.0,0.0,0.0), label='seed05 mutation up', ax=ax_fitness_best)\n",
    "\n",
    "# TO DELETE\n",
    "df_tmp11 = df_seed02_super_high_mutation_fitness_best[['generation', 'fitness']].copy()\n",
    "df_tmp11 = df_tmp11.rolling(WINDOW_SIZE).mean()\n",
    "\n",
    "#df_tmp11.plot(x='generation', y='fitness', color=(0.0,0.0,1.0), label='seed02 super mutant', ax=ax_fitness_best)\n",
    "\n",
    "# Save and close the figure\n",
    "fig_fitness_best.savefig(OUTPUT_ROOT_DIR + \"fitness_best-control_vs_mutation_up.png\")\n",
    "plt.show()\n",
    "plt.close(fig_fitness_best)"
   ]
  },
  {
   "cell_type": "markdown",
   "metadata": {},
   "source": [
    "#### Analysis"
   ]
  },
  {
   "cell_type": "markdown",
   "metadata": {},
   "source": [
    "This."
   ]
  },
  {
   "cell_type": "markdown",
   "metadata": {},
   "source": [
    "## Evolvability"
   ]
  },
  {
   "cell_type": "code",
   "execution_count": null,
   "metadata": {},
   "outputs": [],
   "source": []
  },
  {
   "cell_type": "markdown",
   "metadata": {},
   "source": [
    "## Robustness"
   ]
  },
  {
   "cell_type": "code",
   "execution_count": null,
   "metadata": {},
   "outputs": [],
   "source": []
  },
  {
   "cell_type": "code",
   "execution_count": null,
   "metadata": {},
   "outputs": [],
   "source": []
  }
 ],
 "metadata": {
  "kernelspec": {
   "display_name": "Python 3",
   "language": "python",
   "name": "python3"
  },
  "language_info": {
   "codemirror_mode": {
    "name": "ipython",
    "version": 3
   },
   "file_extension": ".py",
   "mimetype": "text/x-python",
   "name": "python",
   "nbconvert_exporter": "python",
   "pygments_lexer": "ipython3",
   "version": "3.7.4"
  }
 },
 "nbformat": 4,
 "nbformat_minor": 2
}
