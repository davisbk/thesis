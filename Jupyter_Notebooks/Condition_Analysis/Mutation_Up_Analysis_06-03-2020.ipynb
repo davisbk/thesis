{
 "cells": [
  {
   "cell_type": "markdown",
   "metadata": {},
   "source": [
    "# Mutation Up Analysis, Round02 - 06-03-2020\n",
    "This Jupyter notebook will graph out the results of the second round of experiments. Previous rounds of experiments were not run correctly and the results were faulty.\n",
    "\n",
    "In the experiments whose results are graphed below, a clonal population of a provided wild-type was evolved for 500,000 generations with an elevated mutation rate (point mutations = small insertions = small deletions = 4e-7; default (control) value = 1e-7). \n",
    "\n",
    "Five random seeds were used to validate the data; in all of the graphs, we graph out the *control* vs. *mutation up* condition.\n",
    "\n",
    "\n",
    "## Read in the Data"
   ]
  },
  {
   "cell_type": "code",
   "execution_count": 3,
   "metadata": {},
   "outputs": [
    {
     "name": "stdout",
     "output_type": "stream",
     "text": [
      "Reading in the data...\n"
     ]
    },
    {
     "ename": "FileNotFoundError",
     "evalue": "[Errno 2] File b'C://Users//davis//Dropbox//Freiburg Masters Semesters//Thesis//Results//Round02//seed02//control//stats//stat_bp_best.out' does not exist: b'C://Users//davis//Dropbox//Freiburg Masters Semesters//Thesis//Results//Round02//seed02//control//stats//stat_bp_best.out'",
     "output_type": "error",
     "traceback": [
      "\u001b[1;31m---------------------------------------------------------------------------\u001b[0m",
      "\u001b[1;31mFileNotFoundError\u001b[0m                         Traceback (most recent call last)",
      "\u001b[1;32m<ipython-input-3-64829e409b25>\u001b[0m in \u001b[0;36m<module>\u001b[1;34m\u001b[0m\n\u001b[0;32m     10\u001b[0m \u001b[1;31m# Control\u001b[0m\u001b[1;33m\u001b[0m\u001b[1;33m\u001b[0m\u001b[1;33m\u001b[0m\u001b[0m\n\u001b[0;32m     11\u001b[0m \u001b[0mdf_seed01_control_bp_best\u001b[0m \u001b[1;33m=\u001b[0m \u001b[0mread_bp\u001b[0m\u001b[1;33m(\u001b[0m\u001b[0mINPUT_ROOT_DIR\u001b[0m\u001b[1;33m+\u001b[0m\u001b[1;34m\"seed01//control//stats//stat_bp_best.out\"\u001b[0m\u001b[1;33m)\u001b[0m\u001b[1;33m\u001b[0m\u001b[1;33m\u001b[0m\u001b[0m\n\u001b[1;32m---> 12\u001b[1;33m \u001b[0mdf_seed02_control_bp_best\u001b[0m \u001b[1;33m=\u001b[0m \u001b[0mread_bp\u001b[0m\u001b[1;33m(\u001b[0m\u001b[0mINPUT_ROOT_DIR\u001b[0m \u001b[1;33m+\u001b[0m \u001b[1;34m\"seed02//control//stats//stat_bp_best.out\"\u001b[0m\u001b[1;33m)\u001b[0m\u001b[1;33m\u001b[0m\u001b[1;33m\u001b[0m\u001b[0m\n\u001b[0m\u001b[0;32m     13\u001b[0m \u001b[0mdf_seed03_control_bp_best\u001b[0m \u001b[1;33m=\u001b[0m \u001b[0mread_bp\u001b[0m\u001b[1;33m(\u001b[0m\u001b[0mINPUT_ROOT_DIR\u001b[0m \u001b[1;33m+\u001b[0m \u001b[1;34m\"seed03//control//stats//stat_bp_best.out\"\u001b[0m\u001b[1;33m)\u001b[0m\u001b[1;33m\u001b[0m\u001b[1;33m\u001b[0m\u001b[0m\n\u001b[0;32m     14\u001b[0m \u001b[0mdf_seed04_control_bp_best\u001b[0m \u001b[1;33m=\u001b[0m \u001b[0mread_bp\u001b[0m\u001b[1;33m(\u001b[0m\u001b[0mINPUT_ROOT_DIR\u001b[0m \u001b[1;33m+\u001b[0m \u001b[1;34m\"seed04//control//stats//stat_bp_best.out\"\u001b[0m\u001b[1;33m)\u001b[0m\u001b[1;33m\u001b[0m\u001b[1;33m\u001b[0m\u001b[0m\n",
      "\u001b[1;32m~\\Documents\\GitHub\\thesis\\Jupyter_Notebooks\\Condition_Analysis\\ReadFunctions.py\u001b[0m in \u001b[0;36mread_bp\u001b[1;34m(fileLoc)\u001b[0m\n\u001b[0;32m      8\u001b[0m \u001b[1;32mdef\u001b[0m \u001b[0mread_bp\u001b[0m\u001b[1;33m(\u001b[0m\u001b[0mfileLoc\u001b[0m\u001b[1;33m)\u001b[0m\u001b[1;33m:\u001b[0m\u001b[1;33m\u001b[0m\u001b[1;33m\u001b[0m\u001b[0m\n\u001b[0;32m      9\u001b[0m     \u001b[0mbp_best_names\u001b[0m \u001b[1;33m=\u001b[0m \u001b[1;33m[\u001b[0m\u001b[1;34m'generation'\u001b[0m\u001b[1;33m,\u001b[0m \u001b[1;34m'num_bp_not_in_any_CDS'\u001b[0m\u001b[1;33m,\u001b[0m \u001b[1;34m'num_bp_not_in_any_functional_CDS'\u001b[0m\u001b[1;33m,\u001b[0m \u001b[1;34m'num_bp_not_in_any_non-functional_CDS'\u001b[0m\u001b[1;33m,\u001b[0m \u001b[1;34m'num_bp_not_included_in_any_RNA'\u001b[0m\u001b[1;33m,\u001b[0m \u001b[1;34m'num_bp_not_included_in_any_coding_RNA'\u001b[0m\u001b[1;33m,\u001b[0m \u001b[1;34m'num_bp_not_included_in_any_non-coding_RNA'\u001b[0m\u001b[1;33m,\u001b[0m \u001b[1;34m'num_of_non-essential_bp'\u001b[0m\u001b[1;33m,\u001b[0m \u001b[1;34m'num_of_non-essential_bp_including_non-functional_genes'\u001b[0m\u001b[1;33m]\u001b[0m\u001b[1;33m\u001b[0m\u001b[1;33m\u001b[0m\u001b[0m\n\u001b[1;32m---> 10\u001b[1;33m     \u001b[0mdf_\u001b[0m \u001b[1;33m=\u001b[0m \u001b[0mpd\u001b[0m\u001b[1;33m.\u001b[0m\u001b[0mread_csv\u001b[0m\u001b[1;33m(\u001b[0m\u001b[0mfileLoc\u001b[0m\u001b[1;33m,\u001b[0m \u001b[0mskiprows\u001b[0m\u001b[1;33m=\u001b[0m\u001b[1;36m17\u001b[0m\u001b[1;33m,\u001b[0m \u001b[0mdelim_whitespace\u001b[0m\u001b[1;33m=\u001b[0m\u001b[1;32mTrue\u001b[0m\u001b[1;33m,\u001b[0m \u001b[0mheader\u001b[0m\u001b[1;33m=\u001b[0m\u001b[1;36m0\u001b[0m\u001b[1;33m,\u001b[0m \u001b[0mnames\u001b[0m\u001b[1;33m=\u001b[0m\u001b[0mbp_best_names\u001b[0m\u001b[1;33m)\u001b[0m\u001b[1;33m\u001b[0m\u001b[1;33m\u001b[0m\u001b[0m\n\u001b[0m\u001b[0;32m     11\u001b[0m     \u001b[1;32mreturn\u001b[0m \u001b[0mdf_\u001b[0m\u001b[1;33m\u001b[0m\u001b[1;33m\u001b[0m\u001b[0m\n\u001b[0;32m     12\u001b[0m \u001b[1;33m\u001b[0m\u001b[0m\n",
      "\u001b[1;32mC:\\ProgramData\\Anaconda3\\lib\\site-packages\\pandas\\io\\parsers.py\u001b[0m in \u001b[0;36mparser_f\u001b[1;34m(filepath_or_buffer, sep, delimiter, header, names, index_col, usecols, squeeze, prefix, mangle_dupe_cols, dtype, engine, converters, true_values, false_values, skipinitialspace, skiprows, skipfooter, nrows, na_values, keep_default_na, na_filter, verbose, skip_blank_lines, parse_dates, infer_datetime_format, keep_date_col, date_parser, dayfirst, cache_dates, iterator, chunksize, compression, thousands, decimal, lineterminator, quotechar, quoting, doublequote, escapechar, comment, encoding, dialect, error_bad_lines, warn_bad_lines, delim_whitespace, low_memory, memory_map, float_precision)\u001b[0m\n\u001b[0;32m    683\u001b[0m         )\n\u001b[0;32m    684\u001b[0m \u001b[1;33m\u001b[0m\u001b[0m\n\u001b[1;32m--> 685\u001b[1;33m         \u001b[1;32mreturn\u001b[0m \u001b[0m_read\u001b[0m\u001b[1;33m(\u001b[0m\u001b[0mfilepath_or_buffer\u001b[0m\u001b[1;33m,\u001b[0m \u001b[0mkwds\u001b[0m\u001b[1;33m)\u001b[0m\u001b[1;33m\u001b[0m\u001b[1;33m\u001b[0m\u001b[0m\n\u001b[0m\u001b[0;32m    686\u001b[0m \u001b[1;33m\u001b[0m\u001b[0m\n\u001b[0;32m    687\u001b[0m     \u001b[0mparser_f\u001b[0m\u001b[1;33m.\u001b[0m\u001b[0m__name__\u001b[0m \u001b[1;33m=\u001b[0m \u001b[0mname\u001b[0m\u001b[1;33m\u001b[0m\u001b[1;33m\u001b[0m\u001b[0m\n",
      "\u001b[1;32mC:\\ProgramData\\Anaconda3\\lib\\site-packages\\pandas\\io\\parsers.py\u001b[0m in \u001b[0;36m_read\u001b[1;34m(filepath_or_buffer, kwds)\u001b[0m\n\u001b[0;32m    455\u001b[0m \u001b[1;33m\u001b[0m\u001b[0m\n\u001b[0;32m    456\u001b[0m     \u001b[1;31m# Create the parser.\u001b[0m\u001b[1;33m\u001b[0m\u001b[1;33m\u001b[0m\u001b[1;33m\u001b[0m\u001b[0m\n\u001b[1;32m--> 457\u001b[1;33m     \u001b[0mparser\u001b[0m \u001b[1;33m=\u001b[0m \u001b[0mTextFileReader\u001b[0m\u001b[1;33m(\u001b[0m\u001b[0mfp_or_buf\u001b[0m\u001b[1;33m,\u001b[0m \u001b[1;33m**\u001b[0m\u001b[0mkwds\u001b[0m\u001b[1;33m)\u001b[0m\u001b[1;33m\u001b[0m\u001b[1;33m\u001b[0m\u001b[0m\n\u001b[0m\u001b[0;32m    458\u001b[0m \u001b[1;33m\u001b[0m\u001b[0m\n\u001b[0;32m    459\u001b[0m     \u001b[1;32mif\u001b[0m \u001b[0mchunksize\u001b[0m \u001b[1;32mor\u001b[0m \u001b[0miterator\u001b[0m\u001b[1;33m:\u001b[0m\u001b[1;33m\u001b[0m\u001b[1;33m\u001b[0m\u001b[0m\n",
      "\u001b[1;32mC:\\ProgramData\\Anaconda3\\lib\\site-packages\\pandas\\io\\parsers.py\u001b[0m in \u001b[0;36m__init__\u001b[1;34m(self, f, engine, **kwds)\u001b[0m\n\u001b[0;32m    893\u001b[0m             \u001b[0mself\u001b[0m\u001b[1;33m.\u001b[0m\u001b[0moptions\u001b[0m\u001b[1;33m[\u001b[0m\u001b[1;34m\"has_index_names\"\u001b[0m\u001b[1;33m]\u001b[0m \u001b[1;33m=\u001b[0m \u001b[0mkwds\u001b[0m\u001b[1;33m[\u001b[0m\u001b[1;34m\"has_index_names\"\u001b[0m\u001b[1;33m]\u001b[0m\u001b[1;33m\u001b[0m\u001b[1;33m\u001b[0m\u001b[0m\n\u001b[0;32m    894\u001b[0m \u001b[1;33m\u001b[0m\u001b[0m\n\u001b[1;32m--> 895\u001b[1;33m         \u001b[0mself\u001b[0m\u001b[1;33m.\u001b[0m\u001b[0m_make_engine\u001b[0m\u001b[1;33m(\u001b[0m\u001b[0mself\u001b[0m\u001b[1;33m.\u001b[0m\u001b[0mengine\u001b[0m\u001b[1;33m)\u001b[0m\u001b[1;33m\u001b[0m\u001b[1;33m\u001b[0m\u001b[0m\n\u001b[0m\u001b[0;32m    896\u001b[0m \u001b[1;33m\u001b[0m\u001b[0m\n\u001b[0;32m    897\u001b[0m     \u001b[1;32mdef\u001b[0m \u001b[0mclose\u001b[0m\u001b[1;33m(\u001b[0m\u001b[0mself\u001b[0m\u001b[1;33m)\u001b[0m\u001b[1;33m:\u001b[0m\u001b[1;33m\u001b[0m\u001b[1;33m\u001b[0m\u001b[0m\n",
      "\u001b[1;32mC:\\ProgramData\\Anaconda3\\lib\\site-packages\\pandas\\io\\parsers.py\u001b[0m in \u001b[0;36m_make_engine\u001b[1;34m(self, engine)\u001b[0m\n\u001b[0;32m   1133\u001b[0m     \u001b[1;32mdef\u001b[0m \u001b[0m_make_engine\u001b[0m\u001b[1;33m(\u001b[0m\u001b[0mself\u001b[0m\u001b[1;33m,\u001b[0m \u001b[0mengine\u001b[0m\u001b[1;33m=\u001b[0m\u001b[1;34m\"c\"\u001b[0m\u001b[1;33m)\u001b[0m\u001b[1;33m:\u001b[0m\u001b[1;33m\u001b[0m\u001b[1;33m\u001b[0m\u001b[0m\n\u001b[0;32m   1134\u001b[0m         \u001b[1;32mif\u001b[0m \u001b[0mengine\u001b[0m \u001b[1;33m==\u001b[0m \u001b[1;34m\"c\"\u001b[0m\u001b[1;33m:\u001b[0m\u001b[1;33m\u001b[0m\u001b[1;33m\u001b[0m\u001b[0m\n\u001b[1;32m-> 1135\u001b[1;33m             \u001b[0mself\u001b[0m\u001b[1;33m.\u001b[0m\u001b[0m_engine\u001b[0m \u001b[1;33m=\u001b[0m \u001b[0mCParserWrapper\u001b[0m\u001b[1;33m(\u001b[0m\u001b[0mself\u001b[0m\u001b[1;33m.\u001b[0m\u001b[0mf\u001b[0m\u001b[1;33m,\u001b[0m \u001b[1;33m**\u001b[0m\u001b[0mself\u001b[0m\u001b[1;33m.\u001b[0m\u001b[0moptions\u001b[0m\u001b[1;33m)\u001b[0m\u001b[1;33m\u001b[0m\u001b[1;33m\u001b[0m\u001b[0m\n\u001b[0m\u001b[0;32m   1136\u001b[0m         \u001b[1;32melse\u001b[0m\u001b[1;33m:\u001b[0m\u001b[1;33m\u001b[0m\u001b[1;33m\u001b[0m\u001b[0m\n\u001b[0;32m   1137\u001b[0m             \u001b[1;32mif\u001b[0m \u001b[0mengine\u001b[0m \u001b[1;33m==\u001b[0m \u001b[1;34m\"python\"\u001b[0m\u001b[1;33m:\u001b[0m\u001b[1;33m\u001b[0m\u001b[1;33m\u001b[0m\u001b[0m\n",
      "\u001b[1;32mC:\\ProgramData\\Anaconda3\\lib\\site-packages\\pandas\\io\\parsers.py\u001b[0m in \u001b[0;36m__init__\u001b[1;34m(self, src, **kwds)\u001b[0m\n\u001b[0;32m   1915\u001b[0m         \u001b[0mkwds\u001b[0m\u001b[1;33m[\u001b[0m\u001b[1;34m\"usecols\"\u001b[0m\u001b[1;33m]\u001b[0m \u001b[1;33m=\u001b[0m \u001b[0mself\u001b[0m\u001b[1;33m.\u001b[0m\u001b[0musecols\u001b[0m\u001b[1;33m\u001b[0m\u001b[1;33m\u001b[0m\u001b[0m\n\u001b[0;32m   1916\u001b[0m \u001b[1;33m\u001b[0m\u001b[0m\n\u001b[1;32m-> 1917\u001b[1;33m         \u001b[0mself\u001b[0m\u001b[1;33m.\u001b[0m\u001b[0m_reader\u001b[0m \u001b[1;33m=\u001b[0m \u001b[0mparsers\u001b[0m\u001b[1;33m.\u001b[0m\u001b[0mTextReader\u001b[0m\u001b[1;33m(\u001b[0m\u001b[0msrc\u001b[0m\u001b[1;33m,\u001b[0m \u001b[1;33m**\u001b[0m\u001b[0mkwds\u001b[0m\u001b[1;33m)\u001b[0m\u001b[1;33m\u001b[0m\u001b[1;33m\u001b[0m\u001b[0m\n\u001b[0m\u001b[0;32m   1918\u001b[0m         \u001b[0mself\u001b[0m\u001b[1;33m.\u001b[0m\u001b[0munnamed_cols\u001b[0m \u001b[1;33m=\u001b[0m \u001b[0mself\u001b[0m\u001b[1;33m.\u001b[0m\u001b[0m_reader\u001b[0m\u001b[1;33m.\u001b[0m\u001b[0munnamed_cols\u001b[0m\u001b[1;33m\u001b[0m\u001b[1;33m\u001b[0m\u001b[0m\n\u001b[0;32m   1919\u001b[0m \u001b[1;33m\u001b[0m\u001b[0m\n",
      "\u001b[1;32mpandas\\_libs\\parsers.pyx\u001b[0m in \u001b[0;36mpandas._libs.parsers.TextReader.__cinit__\u001b[1;34m()\u001b[0m\n",
      "\u001b[1;32mpandas\\_libs\\parsers.pyx\u001b[0m in \u001b[0;36mpandas._libs.parsers.TextReader._setup_parser_source\u001b[1;34m()\u001b[0m\n",
      "\u001b[1;31mFileNotFoundError\u001b[0m: [Errno 2] File b'C://Users//davis//Dropbox//Freiburg Masters Semesters//Thesis//Results//Round02//seed02//control//stats//stat_bp_best.out' does not exist: b'C://Users//davis//Dropbox//Freiburg Masters Semesters//Thesis//Results//Round02//seed02//control//stats//stat_bp_best.out'"
     ]
    }
   ],
   "source": [
    "import pandas as pd\n",
    "import matplotlib.pyplot as plt\n",
    "from ReadFunctions import read_fitness, read_bp, read_noncoding_bp\n",
    "\n",
    "INPUT_ROOT_DIR = \"C://Users//davis//Dropbox//Freiburg Masters Semesters//Thesis//Results//Round02//\"\n",
    "OUTPUT_ROOT_DIR = INPUT_ROOT_DIR + \"Graphics//mut_up_analysis//\"\n",
    "\n",
    "print(\"Reading in the data...\")\n",
    "\n",
    "# STAT_BP_BEST\n",
    "\n",
    "# Control\n",
    "df_seed01_control_bp_best = read_bp(INPUT_ROOT_DIR + \"seed01//control//stats//stat_bp_best.out\")\n",
    "df_seed02_control_bp_best = read_bp(INPUT_ROOT_DIR + \"seed02//control//stats//stat_bp_best.out\")\n",
    "df_seed03_control_bp_best = read_bp(INPUT_ROOT_DIR + \"seed03//control//stats//stat_bp_best.out\")\n",
    "df_seed04_control_bp_best = read_bp(INPUT_ROOT_DIR + \"seed04//control//stats//stat_bp_best.out\")\n",
    "df_seed05_control_bp_best = read_bp(INPUT_ROOT_DIR + \"seed05//control//stats//stat_bp_best.out\")\n",
    "\n",
    "# Mutation Up\n",
    "df_seed01_mutation_up_bp_best = read_bp(INPUT_ROOT_DIR + \"seed01//mut_up//stats//stat_bp_best.out\")\n",
    "df_seed02_mutation_up_bp_best = read_bp(INPUT_ROOT_DIR + \"seed02//mut_up//stats//stat_bp_best.out\")\n",
    "df_seed03_mutation_up_bp_best = read_bp(INPUT_ROOT_DIR + \"seed03//mut_up//stats//stat_bp_best.out\")\n",
    "df_seed04_mutation_up_bp_best = read_bp(INPUT_ROOT_DIR + \"seed04//mut_up//stats//stat_bp_best.out\")\n",
    "df_seed05_mutation_up_bp_best = read_bp(INPUT_ROOT_DIR + \"seed05//mut_up//stats//stat_bp_best.out\")\n",
    "\n",
    "# STAT_FITNESS_BEST\n",
    "\n",
    "# Control\n",
    "df_seed01_control_fitness_best = read_fitness(INPUT_ROOT_DIR + \"seed01//control//stats//stat_fitness_best.out\")\n",
    "df_seed02_control_fitness_best = read_fitness(INPUT_ROOT_DIR + \"seed02//control//stats//stat_fitness_best.out\")\n",
    "df_seed03_control_fitness_best = read_fitness(INPUT_ROOT_DIR + \"seed03//control//stats//stat_fitness_best.out\")\n",
    "df_seed04_control_fitness_best = read_fitness(INPUT_ROOT_DIR + \"seed04//control//stats//stat_fitness_best.out\")\n",
    "df_seed05_control_fitness_best = read_fitness(INPUT_ROOT_DIR + \"seed05//control//stats//stat_fitness_best.out\")\n",
    "\n",
    "# Mutation Up\n",
    "df_seed01_mutation_up_fitness_best = read_fitness(INPUT_ROOT_DIR + \"seed01//mut_up//stats//stat_fitness_best.out\")\n",
    "df_seed02_mutation_up_fitness_best = read_fitness(INPUT_ROOT_DIR + \"seed02//mut_up//stats//stat_fitness_best.out\")\n",
    "df_seed03_mutation_up_fitness_best = read_fitness(INPUT_ROOT_DIR + \"seed03//mut_up//stats//stat_fitness_best.out\")\n",
    "df_seed04_mutation_up_fitness_best = read_fitness(INPUT_ROOT_DIR + \"seed04//mut_up//stats//stat_fitness_best.out\")\n",
    "df_seed05_mutation_up_fitness_best = read_fitness(INPUT_ROOT_DIR + \"seed05//mut_up//stats//stat_fitness_best.out\")\n",
    "\n",
    "print(\"Done.\")"
   ]
  },
  {
   "cell_type": "code",
   "execution_count": null,
   "metadata": {},
   "outputs": [],
   "source": []
  }
 ],
 "metadata": {
  "kernelspec": {
   "display_name": "Python 3",
   "language": "python",
   "name": "python3"
  },
  "language_info": {
   "codemirror_mode": {
    "name": "ipython",
    "version": 3
   },
   "file_extension": ".py",
   "mimetype": "text/x-python",
   "name": "python",
   "nbconvert_exporter": "python",
   "pygments_lexer": "ipython3",
   "version": "3.7.4"
  }
 },
 "nbformat": 4,
 "nbformat_minor": 2
}
