{
 "cells": [
  {
   "cell_type": "markdown",
   "metadata": {},
   "source": [
    "# Comparison of all conditions\n",
    "In this Jupyter notebook we will graph out the average value across all five seeds for each condition and compare it with the control condition, graphing the results. \n",
    "\n",
    "## Quick links:\n",
    "[set up the environment](#setup_environment)\n",
    "\n",
    "### stat_fitness_global\n",
    "[read in the data](#stat_fitness_global_read) || [graph the data](#stat_fitness_global_graph)<br>\n",
    "\n",
    "### stat_genes_global\n",
    "[read in the data](#stat_genes_global_read) || [graph the data](#stat_genes_global_graph)<br>\n",
    "\n",
    "### Robustness\n",
    "[read in the data](#robustness_read) || [graph the data](#robustness_graph)<br>\n",
    "\n",
    "### Evolvability\n",
    "[read in the data](#robustness_read) || [graph the data](#evolvability_graph)<br>\n",
    "\n",
    "### Statistics\n",
    "[Mann-Whitney](#statistics)<br>\n",
    "\n",
    "\n",
    "## Set up the environment"
   ]
  },
  {
   "cell_type": "markdown",
   "metadata": {},
   "source": [
    "<a id='setup_environment'></a>"
   ]
  },
  {
   "cell_type": "code",
   "execution_count": 1,
   "metadata": {
    "scrolled": true
   },
   "outputs": [
    {
     "name": "stdout",
     "output_type": "stream",
     "text": [
      "Setting up environment...\n",
      "done.\n"
     ]
    }
   ],
   "source": [
    "import pandas as pd\n",
    "import matplotlib.pyplot as plt\n",
    "import os\n",
    "from scipy import stats\n",
    "from functools import reduce\n",
    "from MyFunctions import read_fitness, read_bp, read_genes, read_robustness, perc_diff\n",
    "\n",
    "# Laptop\n",
    "#INPUT_ROOT_DIR = \"C://Users//davis//Dropbox//Freiburg Masters Semesters//Thesis//Results//Round02//\"\n",
    "\n",
    "# Desktop\n",
    "INPUT_ROOT_DIR = \"D://Dropbox_New//Dropbox//Freiburg Masters Semesters//Thesis//Results//Round02//\"\n",
    "\n",
    "OUTPUT_ROOT_DIR = INPUT_ROOT_DIR + \"Graphics//all_analysis//\"\n",
    "WINDOW_SIZE = 10000\n",
    "\n",
    "print (\"Setting up environment...\")\n",
    "# Make sure that the output directories exist and create them if not\n",
    "if not os.path.exists(OUTPUT_ROOT_DIR):\n",
    "    os.mkdir(OUTPUT_ROOT_DIR)\n",
    "if not os.path.exists(OUTPUT_ROOT_DIR + \"fitness_global//perc_change\"):\n",
    "    os.makedirs(OUTPUT_ROOT_DIR + \"fitness_global//perc_change//\")\n",
    "if not os.path.exists(OUTPUT_ROOT_DIR + \"genes_global//perc_change//\"):\n",
    "    os.makedirs(OUTPUT_ROOT_DIR + \"genes_global//perc_change//\")\n",
    "\n",
    "# We need to be able to write out some statistics. Create an output file for this purpose.\n",
    "LINE = \"=============================================\"\n",
    "\n",
    "print(\"done.\")"
   ]
  },
  {
   "cell_type": "markdown",
   "metadata": {},
   "source": [
    "<a id='stat_fitness_global_read'></a>"
   ]
  },
  {
   "cell_type": "markdown",
   "metadata": {},
   "source": [
    "# stat_fitness_global"
   ]
  },
  {
   "cell_type": "markdown",
   "metadata": {},
   "source": [
    "## Read in the data for stat_fitness_global"
   ]
  },
  {
   "cell_type": "code",
   "execution_count": 3,
   "metadata": {},
   "outputs": [
    {
     "name": "stdout",
     "output_type": "stream",
     "text": [
      "Reading in stat_fitness_global data...\n",
      "done.\n"
     ]
    }
   ],
   "source": [
    "print(\"Reading in stat_fitness_global data...\")\n",
    "# STAT_FITNESS_BEST\n",
    "fitness_global_names = ['generation', 'pop_size', 'fitness', 'genome_size', 'metabolic_error','parents_metabolic_error', 'metabolic_fitness', 'secretion_error', 'parents_secretion_error', 'secretion_fitness', 'amt_compound_present']\n",
    "# Control\n",
    "df_seed01_control_fitness_global = read_fitness(INPUT_ROOT_DIR + \"seed01//control//stats//stat_fitness_glob.out\")\n",
    "df_seed02_control_fitness_global = read_fitness(INPUT_ROOT_DIR + \"seed02//control//stats//stat_fitness_glob.out\")\n",
    "df_seed03_control_fitness_global = read_fitness(INPUT_ROOT_DIR + \"seed03//control//stats//stat_fitness_glob.out\")\n",
    "df_seed04_control_fitness_global = read_fitness(INPUT_ROOT_DIR + \"seed04//control//stats//stat_fitness_glob.out\")\n",
    "df_seed05_control_fitness_global = read_fitness(INPUT_ROOT_DIR + \"seed05//control//stats//stat_fitness_glob.out\")\n",
    "\n",
    "# Mutation Up\n",
    "df_seed01_mutation_up_fitness_global = read_fitness(INPUT_ROOT_DIR + \"seed01//mut_up//stats//stat_fitness_glob.out\")\n",
    "df_seed02_mutation_up_fitness_global = read_fitness(INPUT_ROOT_DIR + \"seed02//mut_up//stats//stat_fitness_glob.out\")\n",
    "df_seed03_mutation_up_fitness_global = read_fitness(INPUT_ROOT_DIR + \"seed03//mut_up//stats//stat_fitness_glob.out\")\n",
    "df_seed04_mutation_up_fitness_global = read_fitness(INPUT_ROOT_DIR + \"seed04//mut_up//stats//stat_fitness_glob.out\")\n",
    "df_seed05_mutation_up_fitness_global = read_fitness(INPUT_ROOT_DIR + \"seed05//mut_up//stats//stat_fitness_glob.out\")\n",
    "\n",
    "# Mutation Down\n",
    "df_seed01_mutation_down_fitness_global = read_fitness(INPUT_ROOT_DIR + \"seed01//mut_down//stats//stat_fitness_glob.out\")\n",
    "df_seed02_mutation_down_fitness_global = read_fitness(INPUT_ROOT_DIR + \"seed02//mut_down//stats//stat_fitness_glob.out\")\n",
    "df_seed03_mutation_down_fitness_global = read_fitness(INPUT_ROOT_DIR + \"seed03//mut_down//stats//stat_fitness_glob.out\")\n",
    "df_seed04_mutation_down_fitness_global = read_fitness(INPUT_ROOT_DIR + \"seed04//mut_down//stats//stat_fitness_glob.out\")\n",
    "df_seed05_mutation_down_fitness_global = read_fitness(INPUT_ROOT_DIR + \"seed05//mut_down//stats//stat_fitness_glob.out\")\n",
    "\n",
    "# Selection Up\n",
    "df_seed01_selection_up_fitness_global = read_fitness(INPUT_ROOT_DIR + \"seed01//selection_up//stats//stat_fitness_glob.out\")\n",
    "df_seed02_selection_up_fitness_global = read_fitness(INPUT_ROOT_DIR + \"seed02//selection_up//stats//stat_fitness_glob.out\")\n",
    "df_seed03_selection_up_fitness_global = read_fitness(INPUT_ROOT_DIR + \"seed03//selection_up//stats//stat_fitness_glob.out\")\n",
    "df_seed04_selection_up_fitness_global = read_fitness(INPUT_ROOT_DIR + \"seed04//selection_up//stats//stat_fitness_glob.out\")\n",
    "#df_seed05_selection_up_fitness_global = read_fitness(INPUT_ROOT_DIR + \"seed05//selection_up//stats//stat_fitness_glob.out\")\n",
    "\n",
    "# Selection Down\n",
    "df_seed01_selection_down_fitness_global = read_fitness(INPUT_ROOT_DIR + \"seed01//selection_down//stats//stat_fitness_glob.out\")\n",
    "df_seed02_selection_down_fitness_global = read_fitness(INPUT_ROOT_DIR + \"seed02//selection_down//stats//stat_fitness_glob.out\")\n",
    "df_seed03_selection_down_fitness_global = read_fitness(INPUT_ROOT_DIR + \"seed03//selection_down//stats//stat_fitness_glob.out\")\n",
    "df_seed04_selection_down_fitness_global = read_fitness(INPUT_ROOT_DIR + \"seed04//selection_down//stats//stat_fitness_glob.out\")\n",
    "#df_seed05_selection_down_fitness_global = read_fitness(INPUT_ROOT_DIR + \"seed05//selection_down//stats//stat_fitness_glol.out\")\n",
    "\n",
    "# Population Up\n",
    "#df_seed01_pop_up_fitness_global = read_fitness(INPUT_ROOT_DIR + \"seed01//pop_up//stats//stat_fitness_glob.out\")\n",
    "#df_seed02_pop_up_fitness_global = read_fitness(INPUT_ROOT_DIR + \"seed02//pop_up//stats//stat_fitness_glob.out\")\n",
    "#df_seed03_pop_up_fitness_global = read_fitness(INPUT_ROOT_DIR + \"seed03//pop_up//stats//stat_fitness_glob.out\")\n",
    "#df_seed04_pop_up_fitness_global = read_fitness(INPUT_ROOT_DIR + \"seed04//pop_up//stats//stat_fitness_glob.out\")\n",
    "#df_seed05_pop_up_fitness_global = read_fitness(INPUT_ROOT_DIR + \"seed05//pop_up//stats//stat_fitness_glob.out\")\n",
    "\n",
    "# Population Down\n",
    "df_seed01_pop_down_fitness_global = read_fitness(INPUT_ROOT_DIR + \"seed01//pop_down//stats//stat_fitness_glob.out\")\n",
    "df_seed02_pop_down_fitness_global = read_fitness(INPUT_ROOT_DIR + \"seed02//pop_down//stats//stat_fitness_glob.out\")\n",
    "df_seed03_pop_down_fitness_global = read_fitness(INPUT_ROOT_DIR + \"seed03//pop_down//stats//stat_fitness_glob.out\")\n",
    "df_seed04_pop_down_fitness_global = read_fitness(INPUT_ROOT_DIR + \"seed04//pop_down//stats//stat_fitness_glob.out\")\n",
    "df_seed05_pop_down_fitness_global = read_fitness(INPUT_ROOT_DIR + \"seed05//pop_down//stats//stat_fitness_glob.out\")\n",
    "\n",
    "print(\"done.\")"
   ]
  },
  {
   "cell_type": "markdown",
   "metadata": {},
   "source": [
    "<a id='stat_fitness_global_graph'></a>"
   ]
  },
  {
   "cell_type": "markdown",
   "metadata": {},
   "source": [
    "## Graph out stat_fitness_global"
   ]
  },
  {
   "cell_type": "code",
   "execution_count": 4,
   "metadata": {},
   "outputs": [
    {
     "name": "stdout",
     "output_type": "stream",
     "text": [
      "stat_fitness_global\n",
      "\tpop_size\n",
      "\tfitness\n",
      "\tgenome_size\n",
      "\tmetabolic_error\n",
      "\tparents_metabolic_error\n",
      "\tmetabolic_fitness\n",
      "\tsecretion_error\n",
      "\tparents_secretion_error\n",
      "\tsecretion_fitness\n",
      "\tamt_compound_present\n",
      "Graphing of stat_fitness_global complete!\n"
     ]
    }
   ],
   "source": [
    "# Set up file writer for stat_fitness_global\n",
    "f = open(OUTPUT_ROOT_DIR+\"fitness_global/fitness_global_mann-whitney.txt\",\"w\")\n",
    "\n",
    "# Get all of the generation numbers as a column\n",
    "df_means = pd.DataFrame(df_seed01_control_fitness_global['generation'].copy())\n",
    "df_perc_change = pd.DataFrame(df_seed01_control_fitness_global['generation'].copy())\n",
    "\n",
    "seed_keys = ['seed01', 'seed02', 'seed03', 'seed04', 'seed05']\n",
    "print(\"stat_fitness_global\")\n",
    "f.write(\"stat_fitness_global\")\n",
    "\n",
    "\n",
    "# For every column header in all of the fitness_global files\n",
    "for col_header in df_seed01_mutation_up_fitness_global.columns:\n",
    "    if col_header == 'generation':\n",
    "        continue\n",
    "    else:\n",
    "        print(\"\\t\"+col_header)\n",
    "        # Concatenate all five seeds for each condition to make calculating the mean easier \n",
    "        df_control_tmp = pd.concat([df_seed01_control_fitness_global[col_header], df_seed02_control_fitness_global[col_header], df_seed03_control_fitness_global[col_header], df_seed04_control_fitness_global[col_header], df_seed05_control_fitness_global[col_header]], axis=1, keys=seed_keys)\n",
    "        df_mut_up_tmp = pd.concat([df_seed01_mutation_up_fitness_global[col_header], df_seed02_mutation_up_fitness_global[col_header], df_seed03_mutation_up_fitness_global[col_header], df_seed04_mutation_up_fitness_global[col_header], df_seed05_mutation_up_fitness_global[col_header]], axis=1, keys=seed_keys)\n",
    "        df_mut_down_tmp = pd.concat([df_seed01_mutation_down_fitness_global[col_header], df_seed02_mutation_down_fitness_global[col_header], df_seed03_mutation_down_fitness_global[col_header], df_seed04_mutation_down_fitness_global[col_header], df_seed05_mutation_down_fitness_global[col_header]], axis=1, keys=seed_keys)\n",
    "        #df_pop_up_tmp = pd.concat([df_seed01_pop_up_fitness_global[col_header], df_seed02_pop_up_fitness_global[col_header], df_seed03_pop_up_fitness_global[col_header], df_seed04_pop_up_fitness_global[col_header], df_seed05_pop_up_fitness_global[col_header]], axis=1, keys=seed_keys)        \n",
    "        df_pop_down_tmp = pd.concat([df_seed01_pop_down_fitness_global[col_header], df_seed02_pop_down_fitness_global[col_header], df_seed03_pop_down_fitness_global[col_header], df_seed04_pop_down_fitness_global[col_header], df_seed05_pop_down_fitness_global[col_header]], axis=1, keys=seed_keys)\n",
    "        df_selection_up_tmp = pd.concat([df_seed01_selection_up_fitness_global[col_header], df_seed02_selection_up_fitness_global[col_header], df_seed03_selection_up_fitness_global[col_header], df_seed04_selection_up_fitness_global[col_header]], axis=1, keys=seed_keys) #df_seed05_selection_up_fitness_global[col_header]], axis=1, keys=seed_keys)\n",
    "        df_selection_down_tmp = pd.concat([df_seed01_selection_down_fitness_global[col_header], df_seed02_selection_down_fitness_global[col_header], df_seed03_selection_down_fitness_global[col_header], df_seed04_selection_down_fitness_global[col_header]], axis=1, keys=seed_keys)# df_seed05_selection_down_fitness_global[col_header]], axis=1, keys=seed_keys)\n",
    "        \n",
    "        # Calculate the mean across the seeds for each condition and also smooth the results with a rolling window        df_means['control'] = df_control_tmp.mean(axis=1).rolling(WINDOW_SIZE).mean()\n",
    "        df_means['control'] = df_control_tmp.mean(axis=1).rolling(WINDOW_SIZE).mean()\n",
    "        df_means['mut_up'] = df_mut_up_tmp.mean(axis=1).rolling(WINDOW_SIZE).mean()\n",
    "        df_means['mut_down'] = df_mut_down_tmp.mean(axis=1).rolling(WINDOW_SIZE).mean()\n",
    "        #df_means['pop_up'] = df_pop_up_tmp.mean(axis=1).rolling(WINDOW_SIZE).mean()\n",
    "        df_means['pop_down'] = df_pop_down_tmp.mean(axis=1).rolling(WINDOW_SIZE).mean()\n",
    "        df_means['selection_up'] = df_selection_up_tmp.mean(axis=1).rolling(WINDOW_SIZE).mean()\n",
    "        df_means['selection_down'] = df_selection_down_tmp.mean(axis=1).rolling(WINDOW_SIZE).mean()\n",
    "                \n",
    "        # Also calculate the percent change and add it to that DataFrame\n",
    "        df_perc_change['mut_up'] = 100*perc_diff(df_means['mut_up'], df_means['control'])\n",
    "        df_perc_change['mut_down'] = 100*perc_diff(df_means['mut_down'], df_means['control'])\n",
    "        #df_perc_change['pop_up'] = 100*perc_diff(df_means['pop_up'], df_means['control'])\n",
    "        df_perc_change['pop_down'] = 100*perc_diff(df_means['pop_down'], df_means['control'])\n",
    "        df_perc_change['selection_up'] = 100*perc_diff(df_means['selection_up'], df_means['control'])\n",
    "        df_perc_change['selection_down'] = 100*perc_diff(df_means['selection_down'], df_means['control'])\n",
    "        \n",
    "        # Plot all conditions to the figure\n",
    "        fig = plt.figure(figsize=(30,20))\n",
    "        ax = fig.add_subplot(111)\n",
    "        ax.set_title(\"stat_fitness_global \" + col_header, fontsize=32)\n",
    "        ax.set_xlabel(\"Generation\", fontsize=20)\n",
    "        ax.set_ylabel(col_header, fontsize=20)\n",
    "        df_means.plot(x='generation', y='control', label='control', ax=ax)\n",
    "        df_means.plot(x='generation', y='mut_up', label='mut_up', ax=ax)\n",
    "        df_means.plot(x='generation', y='mut_down', label='mut_down', ax=ax)\n",
    "        #df_means.plot(x='generation', y='pop_up', label='pop_up', ax=ax)\n",
    "        df_means.plot(x='generation', y='pop_down', label='pop_down', ax=ax)\n",
    "        df_means.plot(x='generation', y='selection_up', label='selection_up', ax=ax)\n",
    "        df_means.plot(x='generation', y='selection_down', label='selection_down', ax=ax)\n",
    "        \n",
    "        fig.savefig(OUTPUT_ROOT_DIR+\"fitness_global/stat_fitness_global_mean_\"+col_header+\".png\")\n",
    "        fig.clear()\n",
    "        plt.close(fig)\n",
    "        \n",
    "        # Also create a new figure for the percent change\n",
    "        fig = plt.figure(figsize=(30,20))\n",
    "        ax = fig.add_subplot(111)\n",
    "        ax.set_title(\"Percent Change - stat_fitness_global \" + col_header, fontsize=32)\n",
    "        ax.set_xlabel(\"Generation\", fontsize=20)\n",
    "        ax.set_ylabel(col_header, fontsize=20)\n",
    "        \n",
    "        # Plot all conditions\n",
    "        df_perc_change.plot(x='generation', y='mut_up', label='mut_up', ax=ax)\n",
    "        df_perc_change.plot(x='generation', y='mut_down', label='mut_down', ax=ax)\n",
    "        #df_perc_change.plot(x='generation', y='pop_up', label='pop_up', ax=ax)\n",
    "        df_perc_change.plot(x='generation', y='pop_down', label='pop_down', ax=ax)\n",
    "        df_perc_change.plot(x='generation', y='selection_up', label='selection_up', ax=ax)\n",
    "        df_perc_change.plot(x='generation', y='selection_down', label='selection_down', ax=ax)\n",
    "        \n",
    "        # Save the figure\n",
    "        fig.savefig(OUTPUT_ROOT_DIR +\"fitness_global/perc_change/stat_fitness_perc_change_\"+col_header+\".png\")\n",
    "        fig.clear()\n",
    "        plt.close(fig)\n",
    "        \n",
    "        # Calculate the Mann-Whitney test for all conditions vs. the control condition. \n",
    "        rank_sum_control, p_control = stats.mannwhitneyu(df_means['control'], df_means['control'], alternative='less', use_continuity=False)\n",
    "        rank_sum_mut_up, p_mut_up = stats.mannwhitneyu(df_means['control'], df_means['mut_up'], alternative='less', use_continuity=False)\n",
    "        rank_sum_mut_down, p_mut_down = stats.mannwhitneyu(df_means['control'], df_means['mut_down'], alternative='less', use_continuity=False)\n",
    "        #rank_sum_selection_up, p_selection_up = stats.mannwhitneyu(df_means['control'], df_means['selection_up'])\n",
    "        #rank_sum_selection_down, p_selection_down = stats.mannwhitneyu(df_means['control'], df_means['selection_down'])\n",
    "        #rank_sum_population_up, p_population_up = stats.mannwhitneyu(df_means['control'], df_means['pop_up'])\n",
    "        rank_sum_population_down, p_population_down = stats.mannwhitneyu(df_means['control'], df_means['pop_down'],alternative='less', use_continuity=False)\n",
    "\n",
    "\n",
    "        # Print out the results of the Mann-Whitney tests\n",
    "        f.write(LINE)\n",
    "        f.write(\"\\n\\t\\t\\t\\t\"+col_header)\n",
    "        f.write(\"\\n\\t\\t\\trank sum\\t\\tp-value\\n\")\n",
    "        f.write(LINE)\n",
    "        f.write(\"\\nControl \\t\\t\" + str(rank_sum_control) + \"\\t%.15f\" %p_control)\n",
    "        f.write(\"\\nMutation Up \\t\\t\" + str(rank_sum_mut_up) + \"\\t%.15f\" %p_mut_up)\n",
    "        f.write(\"\\nMutation Down \\t\\t\" + str(rank_sum_mut_down) + \"\\t%.15f\" %p_mut_down)\n",
    "        #f.write(\"\\nPopulation Up \\t\" + str(rank_sum_population_up) + \"\\t%.15f\" %p_pop_up)\n",
    "        f.write(\"\\nPopulation Down \\t\" + str(rank_sum_population_down) + \"\\t%.15f\" %p_population_down)\n",
    "        #f.write(\"\\nSelection Up \\t\" + str(rank_sum_selection_up) + \"\\t%.15f\" %p_selection_up)\n",
    "        #f.write(\"\\nSelection Down \\t\" + str(rank_sum_selection_down) + \"\\t%.15f\" %p_selection_down)\n",
    "        f.write(\"\\n\"+LINE+\"\\n\")\n",
    "        \n",
    "plt.close('all')\n",
    "f.close()\n",
    "print(\"Graphing of stat_fitness_global complete!\")\n",
    "\n"
   ]
  },
  {
   "cell_type": "markdown",
   "metadata": {},
   "source": [
    "### Delete unneeded DataFrames"
   ]
  },
  {
   "cell_type": "code",
   "execution_count": 5,
   "metadata": {},
   "outputs": [
    {
     "name": "stdout",
     "output_type": "stream",
     "text": [
      "Deleting unneeded DataFrames\n",
      "Done\n"
     ]
    }
   ],
   "source": [
    "# Delete the DataFrames that are no longer needed\n",
    "print (\"Deleting unneeded DataFrames\")\n",
    "del df_means, df_control_tmp, df_mut_up_tmp, df_mut_down_tmp, df_pop_down_tmp, df_selection_up_tmp, df_selection_down_tmp #<- Delete until mut_down!!! df_pop_up_mp, df_pop_down_tmp, df_selection_up_tmp, df_selection_down_tmp\n",
    "del df_seed01_control_fitness_global, df_seed02_control_fitness_global, df_seed03_control_fitness_global, df_seed04_control_fitness_global, df_seed05_control_fitness_global\n",
    "del df_seed01_mutation_up_fitness_global, df_seed02_mutation_up_fitness_global, df_seed03_mutation_up_fitness_global, df_seed04_mutation_up_fitness_global, df_seed05_mutation_up_fitness_global\n",
    "del df_seed01_mutation_down_fitness_global, df_seed02_mutation_down_fitness_global, df_seed03_mutation_down_fitness_global, df_seed04_mutation_down_fitness_global, df_seed05_mutation_down_fitness_global\n",
    "#del df_seed01_selection_up_fitness_global, df_seed02_selection_up_fitness_global, df_seed03_selection_up_fitness_global, df_seed04_selection_up_fitness_global, df_seed05_selection_up_fitness_global\n",
    "#del df_seed01_selection_down_fitness_global, df_seed02_selection_down_fitness_global, df_seed03_selection_down_fitness_global, df_seed04_selection_down_fitness_global, df_seed05_selection_down_fitness_global\n",
    "#del df_seed01_pop_up_fitness_global, df_seed02_pop_up_fitness_global, df_seed03_pop_up_fitness_global, df_seed04_pop_up_fitness_global, df_seed05_pop_up_fitness_global\n",
    "del df_seed01_pop_down_fitness_global, df_seed02_pop_down_fitness_global, df_seed03_pop_down_fitness_global, df_seed04_pop_down_fitness_global, df_seed05_pop_down_fitness_global\n",
    "print(\"Done\")"
   ]
  },
  {
   "cell_type": "markdown",
   "metadata": {},
   "source": [
    "<a id='stat_genes_global_read'></a>"
   ]
  },
  {
   "cell_type": "markdown",
   "metadata": {},
   "source": [
    "# stat_genes_global\n",
    "\n",
    "## Read in the data"
   ]
  },
  {
   "cell_type": "code",
   "execution_count": 9,
   "metadata": {},
   "outputs": [
    {
     "name": "stdout",
     "output_type": "stream",
     "text": [
      "Reading in stat_genes_global\n",
      "done.\n"
     ]
    }
   ],
   "source": [
    "print(\"Reading in stat_genes_global\")\n",
    "\n",
    "\n",
    "# STAT_GENES_BEST\n",
    "genes_global_names = ['generation', 'num_coding_RNAs', 'num_non-coding_RNAs', 'avg_size_of_coding_RNAs', 'avg_size_of_non-coding_RNAs', 'num_functional_genes', 'num_non-functional_genes', 'avg_size_of_functional_genes', 'avg_size_of_non-functional_genes']\n",
    "\n",
    "# Control\n",
    "df_seed01_control_genes_global = read_genes(INPUT_ROOT_DIR + \"seed01//control//stats//stat_genes_glob.out\")\n",
    "df_seed02_control_genes_global = read_genes(INPUT_ROOT_DIR + \"seed02//control//stats//stat_genes_glob.out\")\n",
    "df_seed03_control_genes_global = read_genes(INPUT_ROOT_DIR + \"seed03//control//stats//stat_genes_glob.out\")\n",
    "df_seed04_control_genes_global = read_genes(INPUT_ROOT_DIR + \"seed04//control//stats//stat_genes_glob.out\")\n",
    "df_seed05_control_genes_global = read_genes(INPUT_ROOT_DIR + \"seed05//control//stats//stat_genes_glob.out\")\n",
    "\n",
    "# Mutation Up\n",
    "df_seed01_mutation_up_genes_global = read_genes(INPUT_ROOT_DIR + \"seed01//mut_up//stats//stat_genes_glob.out\")\n",
    "df_seed02_mutation_up_genes_global = read_genes(INPUT_ROOT_DIR + \"seed02//mut_up//stats//stat_genes_glob.out\")\n",
    "df_seed03_mutation_up_genes_global = read_genes(INPUT_ROOT_DIR + \"seed03//mut_up//stats//stat_genes_glob.out\")\n",
    "df_seed04_mutation_up_genes_global = read_genes(INPUT_ROOT_DIR + \"seed04//mut_up//stats//stat_genes_glob.out\")\n",
    "df_seed05_mutation_up_genes_global = read_genes(INPUT_ROOT_DIR + \"seed05//mut_up//stats//stat_genes_glob.out\")\n",
    "\n",
    "# Mutation Down\n",
    "df_seed01_mutation_down_genes_global = read_genes(INPUT_ROOT_DIR + \"seed01//mut_down//stats//stat_genes_glob.out\")\n",
    "df_seed02_mutation_down_genes_global = read_genes(INPUT_ROOT_DIR + \"seed02//mut_down//stats//stat_genes_glob.out\")\n",
    "df_seed03_mutation_down_genes_global = read_genes(INPUT_ROOT_DIR + \"seed03//mut_down//stats//stat_genes_glob.out\")\n",
    "df_seed04_mutation_down_genes_global = read_genes(INPUT_ROOT_DIR + \"seed04//mut_down//stats//stat_genes_glob.out\")\n",
    "df_seed05_mutation_down_genes_global = read_genes(INPUT_ROOT_DIR + \"seed05//mut_down//stats//stat_genes_glob.out\")\n",
    "\n",
    "# Selection Up\n",
    "df_seed01_selection_up_genes_global = read_genes(INPUT_ROOT_DIR + \"seed01//selection_up//stats//stat_genes_glob.out\")\n",
    "df_seed02_selection_up_genes_global = read_genes(INPUT_ROOT_DIR + \"seed02//selection_up//stats//stat_genes_glob.out\")\n",
    "df_seed03_selection_up_genes_global = read_genes(INPUT_ROOT_DIR + \"seed03//selection_up//stats//stat_genes_glob.out\")\n",
    "df_seed04_selection_up_genes_global = read_genes(INPUT_ROOT_DIR + \"seed04//selection_up//stats//stat_genes_glob.out\")\n",
    "#df_seed05_selection_up_genes_global = read_genes(INPUT_ROOT_DIR + \"seed05//selection_up//stats//stat_genes_glob.out\")\n",
    "\n",
    "# Selection Down\n",
    "df_seed01_selection_down_genes_global = read_genes(INPUT_ROOT_DIR + \"seed01//selection_down//stats//stat_genes_glob.out\")\n",
    "df_seed02_selection_down_genes_global = read_genes(INPUT_ROOT_DIR + \"seed02//selection_down//stats//stat_genes_glob.out\")\n",
    "df_seed03_selection_down_genes_global = read_genes(INPUT_ROOT_DIR + \"seed03//selection_down//stats//stat_genes_glob.out\")\n",
    "#df_seed04_selection_down_genes_global = read_genes(INPUT_ROOT_DIR + \"seed04//selection_down//stats//stat_genes_glob.out\")\n",
    "#df_seed05_selection_down_genes_global = read_genes(INPUT_ROOT_DIR + \"seed05//selection_down//stats//stat_genes_glob.out\")\n",
    "\n",
    "# Population Up\n",
    "#df_seed01_pop_up_genes_global = read_genes(INPUT_ROOT_DIR + \"seed01//pop_up//stats//stat_genes_glob.out\")\n",
    "#df_seed02_pop_up_genes_global = read_genes(INPUT_ROOT_DIR + \"seed02//pop_up//stats//stat_genes_glob.out\")\n",
    "#df_seed03_pop_up_genes_global = read_genes(INPUT_ROOT_DIR + \"seed03//pop_up//stats//stat_genes_glob.out\")\n",
    "#df_seed04_pop_up_genes_global = read_genes(INPUT_ROOT_DIR + \"seed04//pop_up//stats//stat_genes_glob.out\")\n",
    "#df_seed05_pop_up_genes_global = read_genes(INPUT_ROOT_DIR + \"seed05//pop_up//stats//stat_genes_glob.out\")\n",
    "\n",
    "# Population Down\n",
    "df_seed01_pop_down_genes_global = read_genes(INPUT_ROOT_DIR + \"seed01//pop_down//stats//stat_genes_glob.out\")\n",
    "df_seed02_pop_down_genes_global = read_genes(INPUT_ROOT_DIR + \"seed02//pop_down//stats//stat_genes_glob.out\")\n",
    "df_seed03_pop_down_genes_global = read_genes(INPUT_ROOT_DIR + \"seed03//pop_down//stats//stat_genes_glob.out\")\n",
    "df_seed04_pop_down_genes_global = read_genes(INPUT_ROOT_DIR + \"seed04//pop_down//stats//stat_genes_glob.out\")\n",
    "df_seed05_pop_down_genes_global = read_genes(INPUT_ROOT_DIR + \"seed05//pop_down//stats//stat_genes_glob.out\")\n",
    "\n",
    "print(\"done.\")"
   ]
  },
  {
   "cell_type": "markdown",
   "metadata": {},
   "source": [
    "<a id='stat_genes_global_graph'></a>"
   ]
  },
  {
   "cell_type": "markdown",
   "metadata": {},
   "source": [
    "## Graph results of stat_genes_global"
   ]
  },
  {
   "cell_type": "code",
   "execution_count": 10,
   "metadata": {},
   "outputs": [
    {
     "name": "stdout",
     "output_type": "stream",
     "text": [
      "stat_genes_global\n",
      "\tnum_coding_RNAs\n",
      "\tnum_non-coding_RNAs\n",
      "\tavg_size_of_coding_RNAs\n",
      "\tavg_size_of_non-coding_RNAs\n",
      "\tnum_functional_genes\n",
      "\tnum_non-functional_genes\n",
      "\tavg_size_of_functional_genes\n",
      "\tavg_size_of_non-functional_genes\n",
      "Graphing of stat_genes_global complete!\n"
     ]
    }
   ],
   "source": [
    "f = open(OUTPUT_ROOT_DIR+\"genes_global/genes_global_mann-whitney.txt\",\"w\")\n",
    "\n",
    "# Get all of the generation numbers as a column\n",
    "df_means = pd.DataFrame(df_seed01_control_genes_global['generation'].copy())\n",
    "df_perc_change = pd.DataFrame(df_seed01_control_genes_global['generation'].copy())\n",
    "seed_keys = ['seed01','seed02', 'seed03', 'seed04', 'seed05']\n",
    "\n",
    "print(\"stat_genes_global\")\n",
    "f.write(\"stat_genes_global\\n\")\n",
    "\n",
    "# For every column header in all of the genes_global files\n",
    "for col_header in df_seed01_mutation_up_genes_global.columns:\n",
    "    if col_header == 'generation':\n",
    "        continue\n",
    "    else:\n",
    "        print(\"\\t\"+col_header)\n",
    "        # Concatenate all five seeds for each condition to make calculating the mean easier \n",
    "        df_control_tmp = pd.concat([df_seed01_control_genes_global[col_header], df_seed02_control_genes_global[col_header], df_seed03_control_genes_global[col_header], df_seed04_control_genes_global[col_header], df_seed05_control_genes_global[col_header]], axis=1, keys=seed_keys)\n",
    "        df_mut_up_tmp = pd.concat([df_seed01_mutation_up_genes_global[col_header], df_seed02_mutation_up_genes_global[col_header], df_seed03_mutation_up_genes_global[col_header], df_seed04_mutation_up_genes_global[col_header], df_seed05_mutation_up_genes_global[col_header]], axis=1, keys=seed_keys)\n",
    "        df_mut_down_tmp = pd.concat([df_seed01_mutation_down_genes_global[col_header], df_seed02_mutation_down_genes_global[col_header], df_seed03_mutation_down_genes_global[col_header], df_seed04_mutation_down_genes_global[col_header], df_seed05_mutation_down_genes_global[col_header]], axis=1, keys=seed_keys)\n",
    "        #df_pop_up_tmp = pd.concat([df_seed01_pop_up_genes_global[col_header], df_seed02_pop_up_genes_global[col_header], df_seed03_pop_up_genes_global[col_header], df_seed04_pop_up_genes_global[col_header], df_seed05_pop_up_genes_global[col_header]], axis=1, keys=seed_keys)        \n",
    "        df_pop_down_tmp = pd.concat([df_seed01_pop_down_genes_global[col_header], df_seed02_pop_down_genes_global[col_header], df_seed03_pop_down_genes_global[col_header], df_seed04_pop_down_genes_global[col_header], df_seed05_pop_down_genes_global[col_header]], axis=1, keys=seed_keys)\n",
    "        df_selection_up_tmp = pd.concat([df_seed01_selection_up_genes_global[col_header], df_seed02_selection_up_genes_global[col_header], df_seed03_selection_up_genes_global[col_header],df_seed04_selection_up_genes_global[col_header]], axis=1, keys=seed_keys) # df_seed05_selection_up_genes_global[col_header]], axis=1, keys=seed_keys)\n",
    "        df_selection_down_tmp = pd.concat([df_seed01_selection_down_genes_global[col_header], df_seed02_selection_down_genes_global[col_header], df_seed03_selection_down_genes_global[col_header]], axis=1, keys=seed_keys)# df_seed04_selection_down_genes_global[col_header]], axis=1, keys=seed_keys)# df_seed05_selection_down_genes_global[col_header]], axis=1, keys=seed_keys)\n",
    "        \n",
    "        # Calculate the mean across the seeds for each condition and also smooth the results with a rolling window        df_means['control'] = df_control_tmp.mean(axis=1).rolling(WINDOW_SIZE).mean()\n",
    "        df_means['control'] = df_control_tmp.mean(axis=1).rolling(WINDOW_SIZE).mean()\n",
    "        df_means['mut_up'] = df_mut_up_tmp.mean(axis=1).rolling(WINDOW_SIZE).mean()\n",
    "        df_means['mut_down'] = df_mut_down_tmp.mean(axis=1).rolling(WINDOW_SIZE).mean()\n",
    "        #df_means['pop_up'] = df_pop_up_tmp.mean(axis=1).rolling(WINDOW_SIZE).mean()\n",
    "        df_means['pop_down'] = df_pop_down_tmp.mean(axis=1).rolling(WINDOW_SIZE).mean()\n",
    "        df_means['selection_up'] = df_selection_up_tmp.mean(axis=1).rolling(WINDOW_SIZE).mean()\n",
    "        df_means['selection_down'] = df_selection_down_tmp.mean(axis=1).rolling(WINDOW_SIZE).mean()\n",
    "               \n",
    "        # Also calculate the percent change and add it to that DataFrame\n",
    "        df_perc_change['mut_up'] = 100*perc_diff(df_means['mut_up'], df_means['control'])\n",
    "        df_perc_change['mut_down'] = 100*perc_diff(df_means['mut_down'], df_means['control'])\n",
    "        #df_perc_change['pop_up'] = 100*perc_diff(df_means['pop_up'], df_means['control'])\n",
    "        df_perc_change['pop_down'] = 100*perc_diff(df_means['pop_down'], df_means['control'])\n",
    "        df_perc_change['selection_up'] = 100*perc_diff(df_means['selection_up'], df_means['control'])\n",
    "        df_perc_change['selection_down'] = 100*perc_diff(df_means['selection_down'], df_means['control'])\n",
    "        \n",
    "        # Plot all conditions to the figure\n",
    "        fig = plt.figure(figsize=(30,20))\n",
    "        ax = fig.add_subplot(111)\n",
    "        ax.set_title(\"stat_genes_global \"+ col_header, fontsize=32)\n",
    "        ax.set_xlabel(\"Generation\", fontsize=20)\n",
    "        ax.set_ylabel(col_header, fontsize=20)\n",
    "        df_means.plot(x='generation', y='control', label='control', ax=ax)\n",
    "        df_means.plot(x='generation', y='mut_up', label='mut_up', ax=ax)\n",
    "        df_means.plot(x='generation', y='mut_down', label='mut_down', ax=ax)\n",
    "        #df_means.plot(x='generation', y='pop_up', label='pop_up', ax=ax)\n",
    "        df_means.plot(x='generation', y='pop_down', label='pop_down', ax=ax)\n",
    "        df_means.plot(x='generation', y='selection_up', label='selection_up', ax=ax)\n",
    "        df_means.plot(x='generation', y='selection_down', label='selection_down', ax=ax)\n",
    "        \n",
    "        fig.savefig(OUTPUT_ROOT_DIR+\"genes_global/stat_genes_global_mean_\"+col_header+\".png\")\n",
    "        fig.clear()\n",
    "        plt.close(fig)\n",
    "        \n",
    "        # Also create a new figure for the percent change\n",
    "        fig = plt.figure(figsize=(30,20))\n",
    "        ax = fig.add_subplot(111)\n",
    "        ax.set_title(\"Percent Change - \" + col_header, fontsize=32)\n",
    "        ax.set_xlabel(\"Generation\", fontsize=20)\n",
    "        ax.set_ylabel(col_header, fontsize=20)\n",
    "        \n",
    "        # Plot all conditions\n",
    "        df_perc_change.plot(x='generation', y='mut_up', label='mut_up', ax=ax)\n",
    "        df_perc_change.plot(x='generation', y='mut_down', label='mut_down', ax=ax)\n",
    "        #df_perc_change.plot(x='generation', y='pop_up', label='pop_up', ax=ax)\n",
    "        df_perc_change.plot(x='generation', y='pop_down', label='pop_down', ax=ax)\n",
    "        df_perc_change.plot(x='generation', y='selection_up', label='selection_up', ax=ax)\n",
    "        df_perc_change.plot(x='generation', y='selection_down', label='selection_down', ax=ax)\n",
    "        \n",
    "        # Save the figure\n",
    "        fig.savefig(OUTPUT_ROOT_DIR +\"genes_global/perc_change/stat_genes_global_perc_change_\"+col_header+\".png\")\n",
    "        fig.clear()\n",
    "        plt.close(fig)\n",
    "        \n",
    "        # Calculate the Mann-Whitney test for all conditions vs. the control condition. \n",
    "        rank_sum_control, p_control = stats.mannwhitneyu(df_means['control'], df_means['control'])\n",
    "        rank_sum_mut_up, p_mut_up = stats.mannwhitneyu(df_means['control'], df_means['mut_up'])\n",
    "        rank_sum_mut_down, p_mut_down = stats.mannwhitneyu(df_means['control'], df_means['mut_down'])\n",
    "        #rank_sum_selection_up, p_selection_up = stats.mannwhitneyu(df_means['control'], df_means['selection_up'])\n",
    "        #rank_sum_selection_down, p_selection_down = stats.mannwhitneyu(df_means['control'], df_means['selection_down'])\n",
    "        #rank_sum_population_up, p_population_up = stats.mannwhitneyu(df_means['control'], df_means['pop_up'])\n",
    "        rank_sum_population_down, p_population_down = stats.mannwhitneyu(df_means['control'], df_means['pop_down'])\n",
    "\n",
    "\n",
    "        # Print out the results of the Mann-Whitney tests\n",
    "        f.write(LINE)\n",
    "        f.write(\"\\n\\t\\t\\t\\t\"+col_header)\n",
    "        f.write(\"\\n\\t\\t\\trank sum\\t\\tp-value\\n\")\n",
    "        f.write(LINE)\n",
    "        f.write(\"\\nControl \\t\\t\" + str(rank_sum_control) + \"\\t%.15f\" %p_control)\n",
    "        f.write(\"\\nMutation Up \\t\\t\" + str(rank_sum_mut_up) + \"\\t%.15f\" %p_mut_up)\n",
    "        f.write(\"\\nMutation Down \\t\\t\" + str(rank_sum_mut_down) + \"\\t%.15f\" %p_mut_down)\n",
    "        #f.write(\"\\nPopulation Up \\t\" + str(rank_sum_population_up) + \"\\t%.15f\" %p_pop_up)\n",
    "        f.write(\"\\nPopulation Down \\t\" + str(rank_sum_population_down) + \"\\t%.15f\" %p_population_down)\n",
    "        #f.write(\"\\nSelection Up \\t\" + str(rank_sum_selection_up) + \"\\t%.15f\" %p_selection_up)\n",
    "        #f.write(\"\\nSelection Down \\t\" + str(rank_sum_selection_down) + \"\\t%.15f\" %p_selection_down)\n",
    "        f.write(\"\\n\"+LINE+\"\\n\")\n",
    "        \n",
    "plt.close('all') \n",
    "f.close()\n",
    "print(\"Graphing of stat_genes_global complete!\")"
   ]
  },
  {
   "cell_type": "markdown",
   "metadata": {},
   "source": [
    "### Delete unneeded DataFrames"
   ]
  },
  {
   "cell_type": "code",
   "execution_count": 10,
   "metadata": {},
   "outputs": [
    {
     "name": "stdout",
     "output_type": "stream",
     "text": [
      "Deleting unneeded DataFrames\n",
      "Done\n"
     ]
    }
   ],
   "source": [
    "# Delete the DataFrames that are no longer needed\n",
    "print (\"Deleting unneeded DataFrames\")\n",
    "del df_means, df_control_tmp, df_mut_up_tmp, df_mut_down_tmp, df_pop_down_tmp, df_selection_up_tmp, df_selection_down_tmp #<- Delete until mut_down!!! df_pop_up_mp, df_pop_down_tmp, df_selection_up_tmp, df_selection_down_tmp\n",
    "del df_seed01_control_genes_global, df_seed02_control_genes_global, df_seed03_control_genes_global, df_seed04_control_genes_global, df_seed05_control_genes_global\n",
    "del df_seed01_mutation_up_genes_global, df_seed02_mutation_up_genes_global, df_seed03_mutation_up_genes_global, df_seed04_mutation_up_genes_global, df_seed05_mutation_up_genes_global\n",
    "del df_seed01_mutation_down_genes_global, df_seed02_mutation_down_genes_global, df_seed03_mutation_down_genes_global, df_seed04_mutation_down_genes_global, df_seed05_mutation_down_genes_global\n",
    "#del df_seed01_selection_up_genes_global, df_seed02_selection_up_genes_global, df_seed03_selection_up_genes_global, df_seed04_selection_up_genes_global, df_seed05_selection_up_genes_global\n",
    "#del df_seed01_selection_down_genes_global, df_seed02_selection_down_genes_global, df_seed03_selection_down_genes_global, df_seed04_selection_down_genes_global, df_seed05_selection_down_genes_global\n",
    "#del df_seed01_pop_up_genes_global, df_seed02_pop_up_genes_global, df_seed03_pop_up_genes_global, df_seed04_pop_up_genes_global, df_seed05_pop_up_genes_global\n",
    "del df_seed01_pop_down_genes_global, df_seed02_pop_down_genes_global, df_seed03_pop_down_genes_global, df_seed04_pop_down_genes_global, df_seed05_pop_down_genes_global\n",
    "print(\"Done\")"
   ]
  },
  {
   "cell_type": "markdown",
   "metadata": {},
   "source": [
    "<a id='statistics'></a>"
   ]
  },
  {
   "cell_type": "code",
   "execution_count": null,
   "metadata": {},
   "outputs": [],
   "source": []
  },
  {
   "cell_type": "code",
   "execution_count": null,
   "metadata": {},
   "outputs": [],
   "source": []
  }
 ],
 "metadata": {
  "kernelspec": {
   "display_name": "Python 3",
   "language": "python",
   "name": "python3"
  },
  "language_info": {
   "codemirror_mode": {
    "name": "ipython",
    "version": 3
   },
   "file_extension": ".py",
   "mimetype": "text/x-python",
   "name": "python",
   "nbconvert_exporter": "python",
   "pygments_lexer": "ipython3",
   "version": "3.7.4"
  }
 },
 "nbformat": 4,
 "nbformat_minor": 2
}
