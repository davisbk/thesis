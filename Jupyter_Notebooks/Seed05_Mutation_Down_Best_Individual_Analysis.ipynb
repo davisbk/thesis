{
 "cells": [
  {
   "cell_type": "markdown",
   "metadata": {},
   "source": [
    "# Seed05 Mutation Down Best Individual Analysis\n",
    "\n",
    "In this Jupyter notebook we will analyze the statistics of the best individual at the end of 500,000 generations of seed05's *mutation down* condition. These statistics were computed using **aevol_misc_ancestor_stats** and using the lineage file *lineage-b000000000-e000500000-i1012-r1024.ae* as the input. This means that individual # 1012 was the top-ranked individual. The parameter file for this experiment can be found [here](http://www.google.com). **TODO - UPLOAD PARAM FILES TO REPOSITORY**\n",
    "\n",
    "We will analyze:\n",
    "1. **genome size**\n",
    "2. **number of functional genes**\n",
    "3. **mean size of functional genes**\n",
    "4. **proportion of coding bases (i.e. inside functional genes)**\n",
    "5. **metabolic error**. "
   ]
  },
  {
   "cell_type": "code",
   "execution_count": null,
   "metadata": {},
   "outputs": [],
   "source": []
  }
 ],
 "metadata": {
  "kernelspec": {
   "display_name": "Python 3",
   "language": "python",
   "name": "python3"
  },
  "language_info": {
   "codemirror_mode": {
    "name": "ipython",
    "version": 3
   },
   "file_extension": ".py",
   "mimetype": "text/x-python",
   "name": "python",
   "nbconvert_exporter": "python",
   "pygments_lexer": "ipython3",
   "version": "3.7.3"
  }
 },
 "nbformat": 4,
 "nbformat_minor": 2
}
